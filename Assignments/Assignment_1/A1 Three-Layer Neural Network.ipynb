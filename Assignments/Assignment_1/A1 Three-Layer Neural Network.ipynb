{
 "cells": [
  {
   "cell_type": "markdown",
   "metadata": {},
   "source": [
    "# A1: Three-Layer Neural Network"
   ]
  },
  {
   "cell_type": "markdown",
   "metadata": {
    "toc": true
   },
   "source": [
    "<h1>Table of Contents<span class=\"tocSkip\"></span></h1>\n",
    "<div class=\"toc\"><ul class=\"toc-item\"><li><span><a href=\"#Requirements\" data-toc-modified-id=\"Requirements-1\">Requirements</a></span></li><li><span><a href=\"#Example-Results\" data-toc-modified-id=\"Example-Results-2\">Example Results</a></span></li><li><span><a href=\"#Discussion\" data-toc-modified-id=\"Discussion-3\">Discussion</a></span></li></ul></div>"
   ]
  },
  {
   "cell_type": "markdown",
   "metadata": {},
   "source": [
    "## Requirements"
   ]
  },
  {
   "cell_type": "markdown",
   "metadata": {},
   "source": [
    "In this assignment, you will start with code from lecture notes 04 and add code to do the following. You will implement and apply a neural network as in lecture notes 04 but now with an additional hidden layer.  The resulting three-layer network will consist of three weight matrices, `U`, `V` and `W`.\n",
    "\n",
    "First, implement the forward pass to calculate outputs of each layer:\n",
    "\n",
    "* Define functions `add_ones` and `rmse` by copying it from the lecture notes.\n",
    "* Define function `forward_layer1` with two arguments, the input `X` and the first layer's weights `U`. It calculates and returns the output, `Zu`, of the first layer, using the `tanh` activation function.\n",
    "* Define function `forward_layer2` with two arguments, the input `Zu` and the second layer's weights `V`. It calculates and returns the output, `Zv`, of the second layer, using the `tanh` activation function.\n",
    "* Define function `forward_layer3` with two arguments, the input `Zv` and the third layer's weights `W`. It calculates and returns the output, `Y`, of the third layer as just the weighted sum of the inputs, without an activation function.\n",
    "* Define function `forward` with four arguments, the input `X` to the network and the weight matrices, `U`, `V` and `W` of the three layers. It calls the above three functions and returns the outputs of all layers, `Zu`, `Zv`, `Y`.\n",
    "\n",
    "Now implement the backward pass that calculates `delta` values for each layer:\n",
    "\n",
    "* Define function `backward_layer3` that accepts as arguments the target values `T` and the predicted values `Y` calculated by function `forward`. It calculates and returns `delta_layer3` for layer 3, which is just `T - Y`.\n",
    "* Define function `backward_layer2` that accepts as arguments `delta_layer3`, `W` and `Zv` and calculates and returns `delta` for layer 2 by back-propagating `delta_layer3` through `W`.\n",
    "* Define function `backward_layer1` that accepts as arguments `delta_layer2`, `V` and `ZU` and calculates and returns `delta` for layer 1 by back-propagating `delta_layer2` through `V`.\n",
    "* Define function `gradients` that accepts as arguments `X`, `T`, `Zu`, `Zv`, `Y`, `U`, `V`, and `W`, and calls the above three functions and uses the results to calculate the gradient of the mean squared error between `T` and `Y` with respect to `U`, `V` and `W` and returns those three gradients.\n",
    "\n",
    "Now you can use `forward` and `gradients` to define the function `train` to train a three-layer neural network.\n",
    "          \n",
    "* Define function `train` that returns the resulting values of `U`, `V`, and `W` and the `X` and `T` standardization parameters.  Arguments are unstandardized `X` and `T`, the number of units in each of the two hidden layers, the number of epochs and the learning rate. This function standardizes `X` and `T`, initializes `U`, `V` and `W` to uniformly distributed random values between -0.1 and 0.1, and updates `U`, `V` and `W` by the learning rate times their gradients for `n_epochs` times as shown in lecture notes 04.  This function must call `forward`, `gradients` and `add_ones`.  It must also collect in a list called `rmses` the root-mean-square errors for each epoch between `T` and `Y`.\n",
    "\n",
    "      def train(X, T, n_units_U, n_units_V, n_epochs, rho):\n",
    "          .\n",
    "          .\n",
    "          .\n",
    "          return rmses, U, V, W, X_means, X_stds, T_means, T_stds\n",
    "\n",
    "Then we need a function `use` that calculates an output `Y` for new samples.  \n",
    "\n",
    "* Define function `use` that accepts unstandardized `X`, standardization parameters, and weight matrices `U`, `V`, and `W` and returns the unstandardized output.\n",
    "\n",
    "      def use(X, X_means, X_stds, T_means, T_stds, U, V, W):\n",
    "          .\n",
    "          .\n",
    "          .\n",
    "          Y = ....\n",
    "          return Y"
   ]
  },
  {
   "cell_type": "markdown",
   "metadata": {},
   "source": [
    "## Example Results"
   ]
  },
  {
   "cell_type": "code",
   "execution_count": 13,
   "metadata": {
    "ExecuteTime": {
     "end_time": "2022-08-26T20:23:29.395578Z",
     "start_time": "2022-08-26T20:23:29.391965Z"
    }
   },
   "outputs": [],
   "source": [
    "import numpy as np\n",
    "import matplotlib.pyplot as plt\n",
    "%matplotlib inline"
   ]
  },
  {
   "cell_type": "markdown",
   "metadata": {},
   "source": [
    "Add code cells here to define the functions above.  Once these are correctly defined, the following cells should run and produce the same results as those here."
   ]
  },
  {
   "cell_type": "code",
   "execution_count": 15,
   "metadata": {
    "ExecuteTime": {
     "end_time": "2022-08-26T20:23:29.416386Z",
     "start_time": "2022-08-26T20:23:29.405702Z"
    }
   },
   "outputs": [
    {
     "data": {
      "text/plain": [
       "((4, 1), (4, 1), (4, 1), (4, 1))"
      ]
     },
     "execution_count": 15,
     "metadata": {},
     "output_type": "execute_result"
    }
   ],
   "source": [
    "Xtrain = np.arange(4).reshape(-1, 1)\n",
    "Ttrain = Xtrain ** 2\n",
    "\n",
    "Xtest = Xtrain + 0.5\n",
    "Ttest = Xtest ** 2\n",
    "\n",
    "Xtrain.shape, Ttrain.shape, Xtest.shape, Ttest.shape"
   ]
  },
  {
   "cell_type": "code",
   "execution_count": 30,
   "metadata": {
    "ExecuteTime": {
     "end_time": "2022-08-26T20:24:01.638648Z",
     "start_time": "2022-08-26T20:24:01.634523Z"
    }
   },
   "outputs": [
    {
     "data": {
      "text/plain": [
       "((2, 3), (4, 2), (3, 1))"
      ]
     },
     "execution_count": 30,
     "metadata": {},
     "output_type": "execute_result"
    }
   ],
   "source": [
    "U = np.array([[1, 2, 3], [4, 5, 6]])  # 2 x 3 matrix, for 2 inputs (include constant 1) and 3 units\n",
    "V = np.array([[-1, 3], [1, 3], [-2, 1], [2, -4]]) # 2 x 3 matrix, for 3 inputs (include constant 1) and 2 units\n",
    "W = np.array([[-1], [2], [3]])  # 3 x 1 matrix, for 3 inputs (include constant 1) and 1 output unit\n",
    "U.shape, V.shape, W.shape"
   ]
  },
  {
   "cell_type": "code",
   "execution_count": 31,
   "metadata": {
    "ExecuteTime": {
     "end_time": "2022-08-26T20:24:04.022088Z",
     "start_time": "2022-08-26T20:24:04.018425Z"
    }
   },
   "outputs": [
    {
     "data": {
      "text/plain": [
       "array([[-1.34164079],\n",
       "       [-0.4472136 ],\n",
       "       [ 0.4472136 ],\n",
       "       [ 1.34164079]])"
      ]
     },
     "execution_count": 31,
     "metadata": {},
     "output_type": "execute_result"
    }
   ],
   "source": [
    "X_means = np.mean(Xtrain, axis=0)\n",
    "X_stds = np.std(Xtrain, axis=0)\n",
    "Xtrain_st = (Xtrain - X_means) / X_stds\n",
    "Xtrain_st"
   ]
  },
  {
   "cell_type": "code",
   "execution_count": 32,
   "metadata": {
    "ExecuteTime": {
     "end_time": "2022-08-26T20:24:04.182546Z",
     "start_time": "2022-08-26T20:24:04.178639Z"
    }
   },
   "outputs": [
    {
     "data": {
      "text/plain": [
       "array([[-1.        ],\n",
       "       [-0.71428571],\n",
       "       [ 0.14285714],\n",
       "       [ 1.57142857]])"
      ]
     },
     "execution_count": 32,
     "metadata": {},
     "output_type": "execute_result"
    }
   ],
   "source": [
    "T_means = np.mean(Ttrain, axis=0)\n",
    "T_stds = np.std(Ttrain, axis=0)\n",
    "Ttrain_st = (Ttrain - T_means) / T_stds\n",
    "Ttrain_st"
   ]
  },
  {
   "cell_type": "code",
   "execution_count": 33,
   "metadata": {
    "ExecuteTime": {
     "end_time": "2022-08-26T20:24:04.342004Z",
     "start_time": "2022-08-26T20:24:04.338475Z"
    }
   },
   "outputs": [
    {
     "data": {
      "text/plain": [
       "array([[-0.99967774, -0.99983726, -0.99991782],\n",
       "       [-0.65775956, -0.23177837,  0.3065367 ],\n",
       "       [ 0.99246605,  0.99958165,  0.99997685],\n",
       "       [ 0.9999941 ,  0.99999995,  1.        ]])"
      ]
     },
     "execution_count": 33,
     "metadata": {},
     "output_type": "execute_result"
    }
   ],
   "source": [
    "Zu = forward_layer1(Xtrain_st, U)\n",
    "Zu"
   ]
  },
  {
   "cell_type": "code",
   "execution_count": 34,
   "metadata": {
    "ExecuteTime": {
     "end_time": "2022-08-26T20:24:04.517942Z",
     "start_time": "2022-08-26T20:24:04.514542Z"
    }
   },
   "outputs": [
    {
     "data": {
      "text/plain": [
       "array([[-9.64016194e-01,  9.95062648e-01],\n",
       "       [-5.23485834e-01, -4.06326878e-01],\n",
       "       [-6.74345774e-03,  9.94823310e-01],\n",
       "       [-5.79521329e-06,  9.95054578e-01]])"
      ]
     },
     "execution_count": 34,
     "metadata": {},
     "output_type": "execute_result"
    }
   ],
   "source": [
    "Zv = forward_layer2(Zu, V)\n",
    "Zv"
   ]
  },
  {
   "cell_type": "code",
   "execution_count": 35,
   "metadata": {
    "ExecuteTime": {
     "end_time": "2022-08-26T20:24:04.686141Z",
     "start_time": "2022-08-26T20:24:04.682810Z"
    }
   },
   "outputs": [
    {
     "data": {
      "text/plain": [
       "array([[ 0.05715556],\n",
       "       [-3.2659523 ],\n",
       "       [ 1.97098301],\n",
       "       [ 1.98515214]])"
      ]
     },
     "execution_count": 35,
     "metadata": {},
     "output_type": "execute_result"
    }
   ],
   "source": [
    "Y = forward_layer3(Zv, W)\n",
    "Y"
   ]
  },
  {
   "cell_type": "code",
   "execution_count": 36,
   "metadata": {
    "ExecuteTime": {
     "end_time": "2022-08-26T20:24:04.870350Z",
     "start_time": "2022-08-26T20:24:04.866443Z"
    }
   },
   "outputs": [
    {
     "name": "stdout",
     "output_type": "stream",
     "text": [
      "Zu=array([[-0.99967774, -0.99983726, -0.99991782],\n",
      "       [-0.65775956, -0.23177837,  0.3065367 ],\n",
      "       [ 0.99246605,  0.99958165,  0.99997685],\n",
      "       [ 0.9999941 ,  0.99999995,  1.        ]])\n",
      "Zv=array([[-9.64016194e-01,  9.95062648e-01],\n",
      "       [-5.23485834e-01, -4.06326878e-01],\n",
      "       [-6.74345774e-03,  9.94823310e-01],\n",
      "       [-5.79521329e-06,  9.95054578e-01]])\n",
      "Y=array([[ 0.05715556],\n",
      "       [-3.2659523 ],\n",
      "       [ 1.97098301],\n",
      "       [ 1.98515214]])\n"
     ]
    }
   ],
   "source": [
    "Zu, Zv, Y = forward(Xtrain_st, U, V, W)\n",
    "print(f'{Zu=}')\n",
    "print(f'{Zv=}')\n",
    "print(f'{Y=}')"
   ]
  },
  {
   "cell_type": "code",
   "execution_count": 37,
   "metadata": {
    "ExecuteTime": {
     "end_time": "2022-08-26T20:24:05.309777Z",
     "start_time": "2022-08-26T20:24:05.306336Z"
    }
   },
   "outputs": [
    {
     "data": {
      "text/plain": [
       "array([[-1.05715556],\n",
       "       [ 2.55166659],\n",
       "       [-1.82812587],\n",
       "       [-0.41372357]])"
      ]
     },
     "execution_count": 37,
     "metadata": {},
     "output_type": "execute_result"
    }
   ],
   "source": [
    "delta_layer3 = backward_layer3(Ttrain_st, Y)\n",
    "delta_layer3"
   ]
  },
  {
   "cell_type": "code",
   "execution_count": 38,
   "metadata": {
    "ExecuteTime": {
     "end_time": "2022-08-26T20:24:05.749661Z",
     "start_time": "2022-08-26T20:24:05.746277Z"
    }
   },
   "outputs": [
    {
     "data": {
      "text/plain": [
       "array([[-0.14942424, -0.03123998],\n",
       "       [ 3.70482892,  6.39114758],\n",
       "       [-3.65608548, -0.05663488],\n",
       "       [-0.82744715, -0.01224587]])"
      ]
     },
     "execution_count": 38,
     "metadata": {},
     "output_type": "execute_result"
    }
   ],
   "source": [
    "delta_layer2 = backward_layer2(delta_layer3, W, Zv)\n",
    "delta_layer2"
   ]
  },
  {
   "cell_type": "code",
   "execution_count": 39,
   "metadata": {
    "ExecuteTime": {
     "end_time": "2022-08-26T20:24:06.125622Z",
     "start_time": "2022-08-26T20:24:06.122304Z"
    }
   },
   "outputs": [
    {
     "data": {
      "text/plain": [
       "array([[-1.56687861e-04,  8.70954047e-05, -2.85795848e-05],\n",
       "       [ 1.29800416e+01, -9.63794665e-01, -1.64490088e+01],\n",
       "       [-5.74324794e-02,  6.06940191e-03, -3.28089886e-04],\n",
       "       [-1.02032268e-05,  1.79372045e-07, -1.62184098e-09]])"
      ]
     },
     "execution_count": 39,
     "metadata": {},
     "output_type": "execute_result"
    }
   ],
   "source": [
    "delta_layer1 = backward_layer1(delta_layer2, V, Zu)\n",
    "delta_layer1"
   ]
  },
  {
   "cell_type": "code",
   "execution_count": 40,
   "metadata": {
    "ExecuteTime": {
     "end_time": "2022-08-26T20:24:06.494337Z",
     "start_time": "2022-08-26T20:24:06.490364Z"
    }
   },
   "outputs": [
    {
     "name": "stdout",
     "output_type": "stream",
     "text": [
      "grad_U=array([[-12.92244218,   0.95763799,  16.44936549],\n",
      "       [  5.83033911,  -0.43361979,  -7.35611199]])\n",
      "grad_V=array([[ 0.92812794, -6.29102685],\n",
      "       [ 6.74349351,  4.24106248],\n",
      "       [ 5.19130234,  1.51895191],\n",
      "       [ 3.19836999, -1.92147926]])\n",
      "grad_W=array([[0.74733841],\n",
      "       [0.30431595],\n",
      "       [4.31908649]])\n"
     ]
    }
   ],
   "source": [
    "grad_U, grad_V, grad_W = gradients(Xtrain_st, Ttrain_st, Zu, Zv, Y, U, V, W)\n",
    "print(f'{grad_U=}')\n",
    "print(f'{grad_V=}')\n",
    "print(f'{grad_W=}')"
   ]
  },
  {
   "cell_type": "code",
   "execution_count": 41,
   "metadata": {
    "ExecuteTime": {
     "end_time": "2022-08-26T20:24:07.158392Z",
     "start_time": "2022-08-26T20:24:07.154785Z"
    }
   },
   "outputs": [
    {
     "data": {
      "text/plain": [
       "array([[ 3.70004445],\n",
       "       [-7.93083306],\n",
       "       [10.39844055],\n",
       "       [10.44803251]])"
      ]
     },
     "execution_count": 41,
     "metadata": {},
     "output_type": "execute_result"
    }
   ],
   "source": [
    "Y = use(Xtrain, X_means, X_stds, T_means, T_stds, U, V, W)\n",
    "Y"
   ]
  },
  {
   "cell_type": "code",
   "execution_count": 42,
   "metadata": {
    "ExecuteTime": {
     "end_time": "2022-08-26T20:24:08.007309Z",
     "start_time": "2022-08-26T20:24:07.830666Z"
    }
   },
   "outputs": [],
   "source": [
    "rmses, U, V, W, X_means, X_stds, T_means, T_stds = train(Xtrain, Ttrain, 10, 10, 1000, 0.05)"
   ]
  },
  {
   "cell_type": "code",
   "execution_count": 43,
   "metadata": {
    "ExecuteTime": {
     "end_time": "2022-08-26T20:24:08.226508Z",
     "start_time": "2022-08-26T20:24:08.222323Z"
    }
   },
   "outputs": [
    {
     "data": {
      "text/plain": [
       "array([[0.        , 0.01034334],\n",
       "       [1.        , 0.97918607],\n",
       "       [4.        , 4.01415361],\n",
       "       [9.        , 8.99383092]])"
      ]
     },
     "execution_count": 43,
     "metadata": {},
     "output_type": "execute_result"
    }
   ],
   "source": [
    "Y = use(Xtrain, X_means, X_stds, T_means, T_stds, U, V, W)\n",
    "np.hstack((Ttrain, Y))"
   ]
  },
  {
   "cell_type": "code",
   "execution_count": 45,
   "metadata": {
    "ExecuteTime": {
     "end_time": "2022-08-26T20:24:12.384716Z",
     "start_time": "2022-08-26T20:24:12.246380Z"
    }
   },
   "outputs": [
    {
     "data": {
      "text/plain": [
       "Text(0, 0.5, 'RMSE')"
      ]
     },
     "execution_count": 45,
     "metadata": {},
     "output_type": "execute_result"
    },
    {
     "data": {
      "image/png": "[encoded data removed]",
      "text/plain": [
       "<Figure size 432x288 with 1 Axes>"
      ]
     },
     "metadata": {
      "needs_background": "light"
     },
     "output_type": "display_data"
    }
   ],
   "source": [
    "plt.plot(rmses)\n",
    "plt.xlabel('Epoch')\n",
    "plt.ylabel('RMSE')"
   ]
  },
  {
   "cell_type": "markdown",
   "metadata": {},
   "source": [
    "Here is another example with a little more interesting data."
   ]
  },
  {
   "cell_type": "code",
   "execution_count": 46,
   "metadata": {
    "ExecuteTime": {
     "end_time": "2022-08-26T20:24:13.162104Z",
     "start_time": "2022-08-26T20:24:13.158357Z"
    }
   },
   "outputs": [],
   "source": [
    "n = 30\n",
    "Xtrain = np.linspace(0., 20.0, n).reshape((n, 1)) - 10\n",
    "Ttrain = 0.2 + 0.05 * (Xtrain + 10) + 0.4 * np.sin(Xtrain + 10) + 0.2 * np.random.normal(size=(n, 1))\n",
    "\n",
    "Xtest = Xtrain + 0.1 * np.random.normal(size=(n, 1))\n",
    "Ttest = 0.2 + 0.05 * (Xtest + 10) + 0.4 * np.sin(Xtest + 10) + 0.2 * np.random.normal(size=(n, 1))"
   ]
  },
  {
   "cell_type": "code",
   "execution_count": 47,
   "metadata": {
    "ExecuteTime": {
     "end_time": "2022-08-26T20:24:13.765812Z",
     "start_time": "2022-08-26T20:24:13.742758Z"
    }
   },
   "outputs": [],
   "source": [
    "rmse, U, V, W, X_means, X_stds, T_means, T_stds = train(Xtrain, Ttrain, 5, 5, 100, 0.01)"
   ]
  },
  {
   "cell_type": "code",
   "execution_count": 48,
   "metadata": {
    "ExecuteTime": {
     "end_time": "2022-08-26T20:24:14.475063Z",
     "start_time": "2022-08-26T20:24:14.382816Z"
    }
   },
   "outputs": [
    {
     "data": {
      "text/plain": [
       "Text(0, 0.5, 'RMSE')"
      ]
     },
     "execution_count": 48,
     "metadata": {},
     "output_type": "execute_result"
    },
    {
     "data": {
      "image/png": "[encoded data removed]",
      "text/plain": [
       "<Figure size 432x288 with 1 Axes>"
      ]
     },
     "metadata": {
      "needs_background": "light"
     },
     "output_type": "display_data"
    }
   ],
   "source": [
    "plt.plot(rmses)\n",
    "plt.xlabel('Epoch')\n",
    "plt.ylabel('RMSE')"
   ]
  },
  {
   "cell_type": "code",
   "execution_count": 49,
   "metadata": {
    "ExecuteTime": {
     "end_time": "2022-08-26T20:24:15.233217Z",
     "start_time": "2022-08-26T20:24:15.230425Z"
    }
   },
   "outputs": [],
   "source": [
    "Y = use(Xtrain, X_means, X_stds, T_means, T_stds, U, V, W)"
   ]
  },
  {
   "cell_type": "code",
   "execution_count": 50,
   "metadata": {
    "ExecuteTime": {
     "end_time": "2022-08-26T20:24:16.068860Z",
     "start_time": "2022-08-26T20:24:15.982998Z"
    }
   },
   "outputs": [
    {
     "data": {
      "image/png": "[encoded data removed]",
      "text/plain": [
       "<Figure size 432x288 with 1 Axes>"
      ]
     },
     "metadata": {
      "needs_background": "light"
     },
     "output_type": "display_data"
    }
   ],
   "source": [
    "plt.plot(Xtrain, Ttrain)\n",
    "plt.plot(Xtrain, Y);"
   ]
  },
  {
   "cell_type": "code",
   "execution_count": 56,
   "metadata": {
    "ExecuteTime": {
     "end_time": "2022-08-26T20:25:54.298353Z",
     "start_time": "2022-08-26T20:25:52.294897Z"
    },
    "scrolled": false
   },
   "outputs": [
    {
     "data": {
      "image/png": "[encoded data removed]",
      "text/plain": [
       "<Figure size 720x288 with 2 Axes>"
      ]
     },
     "metadata": {
      "needs_background": "light"
     },
     "output_type": "display_data"
    }
   ],
   "source": [
    "rmses, U, V, W, X_means, X_stds, T_means, T_stds = train(Xtrain, Ttrain, 10, 5, 10000, 0.1)\n",
    "Y = use(Xtrain, X_means, X_stds, T_means, T_stds, U, V, W)\n",
    "\n",
    "plt.figure(figsize=(10, 4))\n",
    "plt.subplot(1, 2, 1)\n",
    "plt.plot(rmses)\n",
    "plt.xlabel('Epoch')\n",
    "plt.ylabel('RMSE')\n",
    "\n",
    "plt.subplot(1, 2, 2)\n",
    "plt.plot(Xtrain, Ttrain, label='Train')\n",
    "plt.plot(Xtrain, Y, label='Test')\n",
    "plt.xlabel('Input')\n",
    "plt.ylabel('Target and Output')\n",
    "plt.legend();"
   ]
  },
  {
   "cell_type": "markdown",
   "metadata": {},
   "source": [
    "Your plots will probably differ from these results, because you start with different random weight values."
   ]
  },
  {
   "cell_type": "markdown",
   "metadata": {},
   "source": [
    "## Discussion"
   ]
  },
  {
   "cell_type": "markdown",
   "metadata": {},
   "source": [
    "In this markdown cell, describe what difficulties you encountered in completing this assignment. What parts were easy for you and what parts were hard?"
   ]
  },
  {
   "cell_type": "markdown",
   "metadata": {},
   "source": [
    "# Grading\n",
    "\n",
    "Your notebook will be run and graded automatically. Test this grading process by first downloading [A1grader.tar](http://www.cs.colostate.edu/~anderson/cs545/notebooks/A1grader.tar) <font color=\"red\">(updated August 28th)</font> and extract `A1grader.py` from it. Run the code in the following cell to demonstrate an example grading session.  The remaining 10 points will be based on your discussion of this assignment.\n",
    "\n",
    "A different, but similar, grading script will be used to grade your checked-in notebook. It will include additional tests. You should design and perform additional tests on all of your functions to be sure they run correctly before checking in your notebook.  A perfect execution score from this grading script does not guarantee that you will receive a perfect execution score from the final grading script.\n",
    "\n",
    "For the grading script to run correctly, you must first name this notebook as 'Lastname-A1.ipynb' with 'Lastname' being your last name, and then save this notebook."
   ]
  },
  {
   "cell_type": "code",
   "execution_count": 2,
   "metadata": {
    "ExecuteTime": {
     "end_time": "2022-08-28T22:33:08.565346Z",
     "start_time": "2022-08-28T22:33:05.128779Z"
    }
   },
   "outputs": [
    {
     "name": "stdout",
     "output_type": "stream",
     "text": [
      "\n",
      "Testing\n",
      "    X = np.arange(4).reshape(-1, 1)\n",
      "    T = np.log(X + 10)\n",
      "\n",
      "    ni = 1\n",
      "    nu = 2\n",
      "    nv = 3\n",
      "    U = np.arange((ni + 1) * nu).reshape(ni + 1, nu) * 0.1\n",
      "    V = (np.arange((nu + 1) * nv).reshape(nu + 1, nv) - 6) * 0.1\n",
      "    W = np.arange(nv + 1).reshape(nv + 1, 1) * -0.1\n",
      "\n",
      "    a = forward_layer1(X, U)\n",
      "    b = forward_layer2(a, V)\n",
      "    c = forward_layer3(b, W)\n",
      "\n",
      "    Zu, Zv, Y = forward(X, U, V, W)\n",
      "\n",
      "\n",
      "--- 20/20 points. a, b, c, Zu, Zv and Y are correct.\n",
      "\n",
      "Testing\n",
      "    X = np.arange(4).reshape(-1, 1)\n",
      "    T = np.log(X + 10)\n",
      "\n",
      "    ni = 1\n",
      "    nu = 2\n",
      "    nv = 3\n",
      "    U = np.arange((ni + 1) * nu).reshape(ni + 1, nu) * 0.1\n",
      "    V = (np.arange((nu + 1) * nv).reshape(nu + 1, nv) - 6) * 0.1\n",
      "    W = np.arange(nv + 1).reshape(nv + 1, 1) * -0.1\n",
      "\n",
      "    Zu = np.array([[0.        , 0.09966799],\n",
      "                   [0.19737532, 0.37994896],\n",
      "                   [0.37994896, 0.60436778],\n",
      "                   [0.53704957, 0.76159416]])\n",
      "    Zv = np.array([[-0.53704957, -0.45424278, -0.36276513],\n",
      "                   [-0.57783916, -0.46328044, -0.3308191 ],\n",
      "                   [-0.61316945, -0.47426053, -0.30690171],\n",
      "                   [-0.64173317, -0.4863364 , -0.29258059]])\n",
      "    Y = np.array([[0.25338305],\n",
      "                  [0.24968573],\n",
      "                  [0.24823956],\n",
      "                  [0.24921478]])\n",
      "\n",
      "    d3 = backward_layer3(T, Y)\n",
      "    d2 = backward_layer2(d3, W, Zv)\n",
      "    d1 = backward_layer1(d2, V, Zu)\n",
      "\n",
      "  \n",
      "    grad_wrt_U, grad_wrt_V, grad_wrt_W = gradients(X, T, Zu, Zv, Y, U, V, W)\n",
      "\n",
      "\n",
      "--- 20/20 points. d1, d2, d3, grad_wrt_U, grad_wrt_V, grad_wrt_W are correct.\n",
      "\n",
      "Testing\n",
      "    X = (np.arange(40).reshape(-1, 2) - 10) * 0.1\n",
      "    T = X ** 3\n",
      "\n",
      "    rmses, U, V, W, X_means, X_stds, T_means, T_stds = train(X, T, 100, 50, 10, 0.005)\n",
      "\n",
      "U.shape is correct\n",
      "V.shape is correct\n",
      "W.shape is correct\n",
      "X_means is correct.\n",
      "X_stds is correct.\n",
      "T_means is correct.\n",
      "T_stds is correct.\n",
      "\n",
      "--- 20/20 points. Shapes of weight matrices and standardization parameters are correct\n",
      "\n",
      "Testing\n",
      "    X = (np.arange(40).reshape(-1, 2) - 10) * 0.1\n",
      "    T = X ** 3\n",
      "\n",
      "    vs = []\n",
      "    for i in range(20):\n",
      "        rmses, U, V, W, X_means, X_stds, T_means, T_stds = train(X, T, 100, 50, 100, 0.005)\n",
      "        Y = use(X, X_means, X_stds, T_means, T_stds, U, V, W)\n",
      "        vs.append(rmse(Y, T, T_stds))\n",
      "\n",
      "    rmse_min, rmse_max = min(vs), max(vs)\n",
      "\n",
      "\n",
      "--- 30/30 points. Range of RMSE results are what is expected: 30 < RMSE < 60\n",
      "\n",
      "======================================================================\n",
      "Downloads Execution Grade is 90 / 90\n",
      "======================================================================\n",
      "\n",
      " __ / 10 points Based on your discussion.\n",
      "\n",
      "======================================================================\n",
      "Downloads FINAL GRADE is  _  / 100\n",
      "======================================================================\n",
      "\n",
      "Extra Credit:\n",
      "\n",
      "Apply your functions to a data set from the UCI Machine Learning Repository.\n",
      "Explain your steps and results in markdown cells.\n",
      "\n",
      "\n",
      "Downloads EXTRA CREDIT is 0 / 1\n"
     ]
    }
   ],
   "source": [
    "%run -i A1grader.py"
   ]
  },
  {
   "cell_type": "markdown",
   "metadata": {},
   "source": [
    "# Check-In\n",
    "\n",
    "Do not include this section in your notebook.\n",
    "\n",
    "Name your notebook ```Lastname-A1.ipynb```.  So, for me it would be ```Anderson-A1.ipynb```.  Submit the file using the ```Assignment 1``` link on [Canvas](https://colostate.instructure.com/courses/151263)."
   ]
  },
  {
   "cell_type": "markdown",
   "metadata": {},
   "source": [
    "# Extra Credit\n",
    "\n",
    "Apply your multilayer neural network code to a regression problem using data that you choose \n",
    "from the [UCI Machine Learning Repository](http://archive.ics.uci.edu/ml/datasets.php). Pick a dataset that\n",
    "is listed as being appropriate for regression."
   ]
  }
 ],
 "metadata": {
  "kernelspec": {
   "display_name": "Python 3 (ipykernel)",
   "language": "python",
   "name": "python3"
  },
  "language_info": {
   "codemirror_mode": {
    "name": "ipython",
    "version": 3
   },
   "file_extension": ".py",
   "mimetype": "text/x-python",
   "name": "python",
   "nbconvert_exporter": "python",
   "pygments_lexer": "ipython3",
   "version": "3.8.13"
  },
  "toc": {
   "base_numbering": 1,
   "nav_menu": {},
   "number_sections": false,
   "sideBar": true,
   "skip_h1_title": true,
   "title_cell": "Table of Contents",
   "title_sidebar": "Contents",
   "toc_cell": true,
   "toc_position": {
    "height": "calc(100% - 180px)",
    "left": "10px",
    "top": "150px",
    "width": "512px"
   },
   "toc_section_display": true,
   "toc_window_display": false
  }
 },
 "nbformat": 4,
 "nbformat_minor": 4
}
