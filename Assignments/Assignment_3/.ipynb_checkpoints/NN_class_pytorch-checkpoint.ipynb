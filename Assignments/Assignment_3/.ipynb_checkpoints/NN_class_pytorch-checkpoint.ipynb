{
 "cells": [
  {
   "cell_type": "markdown",
   "metadata": {},
   "source": [
    "# NeuralNetwork Class for Regression"
   ]
  },
  {
   "cell_type": "markdown",
   "metadata": {
    "toc": true
   },
   "source": [
    "<h1>Table of Contents<span class=\"tocSkip\"></span></h1>\n",
    "<div class=\"toc\"><ul class=\"toc-item\"><li><span><a href=\"#Requirements\" data-toc-modified-id=\"Requirements-1\">Requirements</a></span></li><li><span><a href=\"#Code-for-NeuralNetwork-Class-Saved-in-File-neuralnetworkA3.py\" data-toc-modified-id=\"Code-for-NeuralNetwork-Class-Saved-in-File-neuralnetworkA3.py-2\">Code for <code>NeuralNetwork</code> Class Saved in File <code>neuralnetworkA3.py</code></a></span></li><li><span><a href=\"#Example-Results\" data-toc-modified-id=\"Example-Results-3\">Example Results</a></span></li><li><span><a href=\"#Application-to-Seoul-Bike-Sharing-Demand-Data\" data-toc-modified-id=\"Application-to-Seoul-Bike-Sharing-Demand-Data-4\">Application to Seoul Bike Sharing Demand Data</a></span></li></ul></div>"
   ]
  },
  {
   "cell_type": "markdown",
   "metadata": {},
   "source": [
    "## Code for `NeuralNetwork` Class Saved in File `nn_regression.py`"
   ]
  },
  {
   "cell_type": "code",
   "execution_count": 27,
   "metadata": {},
   "outputs": [
    {
     "name": "stdout",
     "output_type": "stream",
     "text": [
      "Overwriting nn_regression.py\n"
     ]
    }
   ],
   "source": [
    "%%writefile nn_regression.py\n",
    "\n",
    "import numpy as np\n",
    "import torch\n",
    "\n",
    "\n",
    "class NeuralNetwork(torch.nn.Module):\n",
    "\n",
    "    def __init__(self, n_inputs, n_hiddens_list, n_outputs, activation_func='tanh', device='cpu'):\n",
    "        # Call parent class (torch.nn.Module) constructor\n",
    "        super().__init__()\n",
    "        \n",
    "        self.device = device\n",
    "        print(f'Model running on {device}....')\n",
    "        \n",
    "        # For printing\n",
    "        self.n_inputs = n_inputs\n",
    "        self.n_outputs = n_outputs\n",
    "        self.n_hidden_layers = n_hiddens_list\n",
    "        \n",
    "        \n",
    "        # To build list of layers, must use torch.nn.ModuleList, not plain list\n",
    "        self.hidden_layers = torch.nn.ModuleList()\n",
    "        \n",
    "        if activation_func == 'tanh':\n",
    "            self.activation_func = torch.nn.Tanh()\n",
    "        elif activation_func == 'relu':\n",
    "            self.activation_func = torch.nn.ReLU()\n",
    "        else:\n",
    "            raise Exception(\"Activation function should be 'tanh' or 'relu'\")\n",
    "        \n",
    "        for nh in n_hiddens_list:\n",
    "            self.hidden_layers.append(torch.nn.Sequential(\n",
    "                                      torch.nn.Linear(n_inputs, nh),\n",
    "                                      self.activation_func))\n",
    "            \n",
    "            n_inputs = nh  # output of each hidden layer will be input of next hidden layer\n",
    "        \n",
    "        self.output_layer = torch.nn.Linear(n_inputs, n_outputs)\n",
    "        \n",
    "        self.performance_trace = []  # records standardized rmse records per epoch  \n",
    "        self.to(self.device)  # transfers the whole thing to 'cuda' if device='cuda'\n",
    "        \n",
    "    def __repr__(self):\n",
    "        return 'NeuralNetwork({}, {}, {}, activation func={})'.format(self.n_inputs, self.n_hidden_layers, \n",
    "                                                                        self.n_outputs, self.activation_func)\n",
    "\n",
    "    def __str__(self):\n",
    "        s = self.__repr__()\n",
    "        if self.n_epochs > 0:  # self.total_epochs\n",
    "            s += '\\n Trained for {} epochs.'.format(self.n_epochs)\n",
    "            s += '\\n Final standardized training error {:.4g}.'.format(self.performance_trace[-1])\n",
    "        return s\n",
    "    \n",
    "    def _forward(self, X):\n",
    "        Y = X\n",
    "        for hidden_layers in self.hidden_layers:\n",
    "            Y = hidden_layers(Y)  # going through hidden layers\n",
    "        \n",
    "        # Final output\n",
    "        Y = self.output_layer(Y)\n",
    "        \n",
    "        return Y\n",
    "                  \n",
    "    \n",
    "    def to_torch(self, M, torch_type=torch.FloatTensor):\n",
    "        if not isinstance(M, torch.Tensor):\n",
    "            M = torch.from_numpy(M).type(torch_type).to(self.device)\n",
    "        return M\n",
    "    \n",
    "    def standardize(self, M):\n",
    "        M_means = torch.mean(M, dim = 0, keepdim = False)\n",
    "        M_stds = torch.std(M, dim = 0, keepdim = False)\n",
    "        \n",
    "        Ms = (M - M_means) / M_stds\n",
    "        \n",
    "        return Ms, M_means, M_stds\n",
    "    \n",
    "    def train(self, X, T, n_epochs, method='sgd', learning_rate=None, verbose=True):\n",
    "            \n",
    "        self.n_epochs = n_epochs\n",
    "        self.learning_rate = learning_rate      \n",
    "        \n",
    "        # If already not torch.Tensor converts X and T. If device=='cuda' will transfer to GPU. \n",
    "        X = self.to_torch(X)\n",
    "        T = self.to_torch(T)\n",
    "        \n",
    "        # Standardization\n",
    "        Xs, self.X_means, self.X_stds = self.standardize(X)\n",
    "        Ts, self.T_means, self.T_stds = self.standardize(T)\n",
    "                \n",
    "        Xs.requires_grad_(True)\n",
    "   \n",
    "        # Call the requested optimizer method to train the weights.\n",
    "        if method == 'sgd':\n",
    "            optimizer = torch.optim.SGD(self.parameters(), lr=learning_rate, momentum=0.9)\n",
    "#             print(list(self.parameters()))\n",
    "        elif method == 'adam':\n",
    "            optimizer = torch.optim.Adam(self.parameters(), lr=learning_rate, weight_decay=0)\n",
    "#             pprint(list(self.parameters()))\n",
    "        else:\n",
    "            raise Exception(\"method must be 'sgd', 'adam'\")\n",
    "             \n",
    "        mse_func = torch.nn.MSELoss()  # mse function\n",
    "                \n",
    "        for epoch in range(self.n_epochs):\n",
    "            Ys = self._forward(Xs)\n",
    "            rmse_loss = torch.sqrt(mse_func(Ys, Ts))  # coverting mse to rmse loss\n",
    "            rmse_loss.backward()  # Backpropagates the loss function\n",
    "\n",
    "            # using optimizer\n",
    "            optimizer.step()\n",
    "            optimizer.zero_grad()\n",
    "\n",
    "            # printing standardized rmse loss in training\n",
    "            epochs_to_print = 1000\n",
    "            if verbose & (((epoch + 1) % epochs_to_print) == 0):\n",
    "                print(f'{method}: Epoch={epoch + 1} RMSE={rmse_loss.item():.5f}')\n",
    "            \n",
    "            self.performance_trace.append(rmse_loss)\n",
    "\n",
    "        # Returning neural network object to allow applying other methods\n",
    "        # after training, such as:    Y = nnet.train(X, T, 100, 0.01).use(X)\n",
    "        return self\n",
    "\n",
    "\n",
    "    def use(self, X):\n",
    "        X = self.to_torch(X)\n",
    "        \n",
    "        # Standardization\n",
    "        Xs = (X - self.X_means) / self.X_stds\n",
    "                \n",
    "        Ys = self._forward(Xs)  # standardized result\n",
    "        Y = Ys * self.T_stds + self.T_means  # Unstandardizing\n",
    "        \n",
    "        return Y.cpu().detach()\n",
    "    \n",
    "    def get_performance_trace(self):\n",
    "        performance = [loss.item() for loss in self.performance_trace]\n",
    "        return performance"
   ]
  },
  {
   "cell_type": "markdown",
   "metadata": {},
   "source": [
    "## Example Results"
   ]
  },
  {
   "cell_type": "markdown",
   "metadata": {},
   "source": [
    "Here we test the `NeuralNetwork` class with some simple data.  \n"
   ]
  },
  {
   "cell_type": "code",
   "execution_count": 6,
   "metadata": {},
   "outputs": [],
   "source": [
    "%load_ext autoreload\n",
    "%autoreload 2"
   ]
  },
  {
   "cell_type": "code",
   "execution_count": 7,
   "metadata": {},
   "outputs": [],
   "source": [
    "import time\n",
    "import torch\n",
    "import numpy as np\n",
    "import matplotlib.pyplot as plt\n",
    "%matplotlib inline\n",
    "\n",
    "import nn_regression as nn  # Your file produced from the above code cell."
   ]
  },
  {
   "cell_type": "markdown",
   "metadata": {},
   "source": [
    "# Test 1"
   ]
  },
  {
   "cell_type": "code",
   "execution_count": 312,
   "metadata": {},
   "outputs": [
    {
     "data": {
      "text/plain": [
       "1"
      ]
     },
     "execution_count": 312,
     "metadata": {},
     "output_type": "execute_result"
    }
   ],
   "source": [
    "X = np.arange(0, 2, 0.5).reshape(-1, 1)\n",
    "X.shape[1]"
   ]
  },
  {
   "cell_type": "code",
   "execution_count": 313,
   "metadata": {
    "scrolled": true
   },
   "outputs": [
    {
     "name": "stdout",
     "output_type": "stream",
     "text": [
      "Model running on cpu....\n",
      "NeuralNetwork(1, [2, 2], 1, activation func=Tanh())\n",
      " Trained for 100 epochs.\n",
      " Final standardized training error 0.103.\n"
     ]
    }
   ],
   "source": [
    "X = np.arange(0, 2, 0.5).reshape(-1, 1)\n",
    "T = np.sin(X) * np.sin(X * 10)\n",
    "\n",
    "nnet = nn.NeuralNetwork(X.shape[1], [2, 2], 1, activation_func='tanh')\n",
    "    \n",
    "# Set all weights here to allow comparison of your calculations\n",
    "# Must use [:] to overwrite values in all_weights.\n",
    "# Without [:], new array is assigned to self.all_weights, so self.Ws no longer refer to same memory\n",
    "\n",
    "nnet.train(X, T, n_epochs=100, method='sgd', learning_rate=0.1)\n",
    "print(nnet)"
   ]
  },
  {
   "cell_type": "code",
   "execution_count": 292,
   "metadata": {},
   "outputs": [],
   "source": [
    "# nnet.Zs"
   ]
  },
  {
   "cell_type": "code",
   "execution_count": 293,
   "metadata": {},
   "outputs": [],
   "source": [
    "# nnet.Grads"
   ]
  },
  {
   "cell_type": "code",
   "execution_count": 294,
   "metadata": {},
   "outputs": [
    {
     "data": {
      "text/plain": [
       "tensor([[-0.0230],\n",
       "        [-0.4819],\n",
       "        [-0.4678],\n",
       "        [ 0.6587]])"
      ]
     },
     "execution_count": 294,
     "metadata": {},
     "output_type": "execute_result"
    }
   ],
   "source": [
    "Y = nnet.use(X)\n",
    "Y"
   ]
  },
  {
   "cell_type": "code",
   "execution_count": 295,
   "metadata": {},
   "outputs": [
    {
     "data": {
      "text/plain": [
       "0.0607161670923233"
      ]
     },
     "execution_count": 295,
     "metadata": {},
     "output_type": "execute_result"
    }
   ],
   "source": [
    "nnet.get_performance_trace()[-1]"
   ]
  },
  {
   "cell_type": "code",
   "execution_count": 296,
   "metadata": {},
   "outputs": [
    {
     "name": "stdout",
     "output_type": "stream",
     "text": [
      "\n",
      "=========================================\n",
      "method is sgd and rho is 0.05\n",
      "=========================================\n",
      "\n",
      "Model running on cpu....\n",
      "sgd: Epoch=1000 RMSE=0.11662\n",
      "sgd: Epoch=2000 RMSE=0.07624\n",
      "sgd: Epoch=3000 RMSE=0.07482\n",
      "sgd: Epoch=4000 RMSE=0.07710\n",
      "sgd: Epoch=5000 RMSE=0.06946\n",
      "sgd: Epoch=6000 RMSE=0.07061\n",
      "sgd: Epoch=7000 RMSE=0.06909\n",
      "sgd: Epoch=8000 RMSE=0.06871\n",
      "sgd: Epoch=9000 RMSE=0.06973\n",
      "sgd: Epoch=10000 RMSE=0.07055\n",
      "Time elapsed 12.09 sec\n",
      "\n",
      "=========================================\n",
      "method is adam and rho is 0.05\n",
      "=========================================\n",
      "\n",
      "Model running on cpu....\n",
      "adam: Epoch=1000 RMSE=0.03692\n",
      "adam: Epoch=2000 RMSE=0.03315\n",
      "adam: Epoch=3000 RMSE=0.03044\n",
      "adam: Epoch=4000 RMSE=0.02981\n",
      "adam: Epoch=5000 RMSE=0.02750\n",
      "adam: Epoch=6000 RMSE=0.02759\n",
      "adam: Epoch=7000 RMSE=0.02742\n",
      "adam: Epoch=8000 RMSE=0.03051\n",
      "adam: Epoch=9000 RMSE=0.05178\n",
      "adam: Epoch=10000 RMSE=0.05191\n",
      "Time elapsed 16.88 sec\n"
     ]
    },
    {
     "data": {
      "image/png": "[encoded data removed]",
      "text/plain": [
       "<Figure size 640x480 with 1 Axes>"
      ]
     },
     "metadata": {},
     "output_type": "display_data"
    }
   ],
   "source": [
    "X = np.arange(0, 2, 0.05).reshape(-1, 1)\n",
    "T = np.sin(X) * np.sin(X * 10)\n",
    "\n",
    "n_epochs = 10000\n",
    "method_rhos = [('sgd', 0.05),\n",
    "               ('adam', 0.05)]\n",
    "errors = []\n",
    "for method, rho in method_rhos:\n",
    "    \n",
    "    print('\\n=========================================')\n",
    "    print(f'method is {method} and rho is {rho}')\n",
    "    print('=========================================\\n')\n",
    "    \n",
    "    start_time = time.time()\n",
    "    \n",
    "    nnet = nn.NeuralNetwork(X.shape[1], [20, 20], 1, activation_func='tanh', device='cpu')\n",
    "    nnet.train(X, T, n_epochs, method=method, learning_rate=rho)\n",
    "    Y = nnet.use(X)\n",
    "    errors.append(nnet.get_performance_trace())\n",
    "    \n",
    "    time_elapsed = time.time() - start_time\n",
    "    print('Time elapsed {:.2f} sec'.format(time_elapsed))  \n",
    "    \n",
    "    plt.plot(X, Y, 'o-', label='Model ' + method)\n",
    "\n",
    "plt.plot(X, T, 'o', label='Train')\n",
    "plt.xlabel('X')\n",
    "plt.ylabel('T or Y')\n",
    "plt.legend();"
   ]
  },
  {
   "cell_type": "code",
   "execution_count": 314,
   "metadata": {},
   "outputs": [
    {
     "data": {
      "image/png": "[encoded data removed]",
      "text/plain": [
       "<Figure size 640x480 with 1 Axes>"
      ]
     },
     "metadata": {},
     "output_type": "display_data"
    }
   ],
   "source": [
    "for error_trace in errors:\n",
    "    plt.plot(error_trace)\n",
    "plt.xlabel('Epoch')\n",
    "plt.ylabel('Standardized error')\n",
    "plt.legend([mr[0] for mr in method_rhos]);"
   ]
  },
  {
   "cell_type": "markdown",
   "metadata": {},
   "source": [
    "# Test 2"
   ]
  },
  {
   "cell_type": "code",
   "execution_count": 265,
   "metadata": {},
   "outputs": [
    {
     "name": "stdout",
     "output_type": "stream",
     "text": [
      "Model running on cpu....\n",
      "adam: Epoch=1000 RMSE=1.52083\n",
      "adam: Epoch=2000 RMSE=1.35498\n",
      "adam: Epoch=3000 RMSE=1.27533\n",
      "adam: Epoch=4000 RMSE=1.31682\n",
      "adam: Epoch=5000 RMSE=1.25491\n",
      "adam: Epoch=6000 RMSE=0.67601\n",
      "adam: Epoch=7000 RMSE=0.68667\n",
      "adam: Epoch=8000 RMSE=0.69719\n",
      "adam: Epoch=9000 RMSE=0.66027\n",
      "adam: Epoch=10000 RMSE=0.63705\n"
     ]
    }
   ],
   "source": [
    "n_samples = 10000\n",
    "X = np.linspace(0, 10, n_samples).reshape((-1, 1))\n",
    "T = X ** 2\n",
    "n_samples, n_inputs = X.shape \n",
    "n_outputs = T.shape[1]\n",
    "\n",
    "nn_model = nn.NeuralNetwork(X.shape[1], [50, 50], 1, activation_func='tanh')\n",
    "nn_model.train(X, T, n_epochs=10000, method='adam', learning_rate=0.1)\n",
    "Y = nn_model.use(X)"
   ]
  },
  {
   "cell_type": "code",
   "execution_count": 266,
   "metadata": {},
   "outputs": [
    {
     "data": {
      "image/png": "[encoded data removed]",
      "text/plain": [
       "<Figure size 640x480 with 1 Axes>"
      ]
     },
     "metadata": {},
     "output_type": "display_data"
    }
   ],
   "source": [
    "plt.plot(X, T, 'o-', label='T')\n",
    "plt.plot(X, Y, 'o-', label='Y')\n",
    "plt.legend();"
   ]
  },
  {
   "cell_type": "markdown",
   "metadata": {},
   "source": [
    "## Application to Seoul Bike Sharing Demand Data"
   ]
  },
  {
   "cell_type": "markdown",
   "metadata": {},
   "source": [
    "Download data from [bike-sharing.csv](https://www.cs.colostate.edu/~anderson/cs545/notebooks/bike-sharing.csv).  This is data modified very slightly from [UC Irvine ML Repo](https://archive-beta.ics.uci.edu/ml/datasets/seoul+bike+sharing+demand#Abstract). Read it into python using the `pandas.read_csv` function.  Assign `X` and `T` as shown."
   ]
  },
  {
   "cell_type": "code",
   "execution_count": 8,
   "metadata": {},
   "outputs": [
    {
     "data": {
      "text/plain": [
       "((8760, 9), (8760, 1))"
      ]
     },
     "execution_count": 8,
     "metadata": {},
     "output_type": "execute_result"
    }
   ],
   "source": [
    "import pandas as pd\n",
    "\n",
    "data = pd.read_csv('SeoulBikeData.csv')\n",
    "T = data['Rented Bike Count'].to_numpy().reshape(-1, 1)\n",
    "X = data[['Hour', 'Temperature(C)', 'Humidity(%)',\n",
    "          'Wind speed (m/s)', 'Visibility (10m)', 'Dew point temperature(C)',\n",
    "          'Solar Radiation (MJ/m2)', 'Rainfall(mm)', 'Snowfall (cm)']].to_numpy()\n",
    "X.shape, T.shape"
   ]
  },
  {
   "cell_type": "code",
   "execution_count": 9,
   "metadata": {},
   "outputs": [],
   "source": [
    "import itertools\n",
    "\n",
    "def partition(X, T, train_fraction):\n",
    "    \"\"\"\n",
    "    Creates train and test datasets.\n",
    "    \n",
    "    :param X: 2D numpy array.\n",
    "              The input variables of the model.\n",
    "    :param T: 2D numpy array\n",
    "              The output variable of the model.\n",
    "    :param X: float\n",
    "              fraction of data in training set.\n",
    "              The input variables of the model.\n",
    "    \n",
    "    return: Xtrain, Ttrain, Xtest, Ttest\n",
    "    \n",
    "    \"\"\"\n",
    "    n_samples = X.shape[0]\n",
    "    rows = np.arange(n_samples)\n",
    "    np.random.shuffle(rows)\n",
    "\n",
    "    n_train = round(n_samples * train_fraction)\n",
    "    Xtrain = X[rows[:n_train], :]\n",
    "    Ttrain = T[rows[:n_train], :]\n",
    "    Xtest = X[rows[n_train:], :]\n",
    "    Ttest = T[rows[n_train:], :]\n",
    "\n",
    "    return Xtrain, Ttrain, Xtest, Ttest\n",
    "\n",
    "def rmse(T, Y):\n",
    "    if isinstance(T, torch.Tensor):\n",
    "        T = T.numpy()\n",
    "    return np.sqrt(np.mean((T - Y)**2))\n",
    "\n",
    "def make_param_grid(structure, rho, epoch):\n",
    "    \"\"\"\n",
    "    Makes a gridspace with all possible combinations of input parameters.\n",
    "    \n",
    "    :param structure: list of int\n",
    "                      Number of units in each hidden layers. Each element of the list represents one hidden layer.\n",
    "    :param rho: float\n",
    "                Learning rate of the model.\n",
    "    :param epoch: int\n",
    "                  Number of epoch to run the model.\n",
    "                  \n",
    "    :return: A list of all parameter combinations.\n",
    "    \"\"\"\n",
    "    param_combs = list(itertools.product(*[structure, rho, epoch]))\n",
    "    return param_combs\n",
    "\n",
    "\n",
    "def configure_nnet_model(X, T, structures, rhos, epochs, method, train_test_ratio):\n",
    "    \"\"\"\n",
    "    Runs the model for number of times of parameter combinations and saves model layout, train rmse, and test rmse. \n",
    "    \n",
    "    :param X: 2D numpy array.\n",
    "              The input variables of the model.\n",
    "    :param T: 2D numpy array\n",
    "              The output variable of the model.\n",
    "    :param structures: A nested list of int, such as [[50, 20], [30, 10]]\n",
    "                       Number of units in each hidden layers. Each element of the list represents one hidden layer.\n",
    "    :param rhos: list of float\n",
    "                 Learning rate of the model.\n",
    "    :param epochs: list of int\n",
    "                   Number of epoch to run the model.\n",
    "    :param method : str\n",
    "                    Optimization method. Accepted str from - 'sgd', 'adam', or 'scg'.\n",
    "    :param train_test_ratio: float\n",
    "                             ratio of dataset in training.\n",
    "    \n",
    "    :return: A dataframe with model layouts and respective train test rmse.\n",
    "    \"\"\"\n",
    "    import nn_regression as nn\n",
    "    \n",
    "    parameter_combinations = make_param_grid(structures, rhos, epochs)\n",
    "\n",
    "    Xtrain, Ttrain, Xtest, Ttest = partition(X, T, train_test_ratio)\n",
    "\n",
    "    n_inputs, n_outputs = Xtrain.shape[1], Ttrain.shape[1]\n",
    "\n",
    "    result_dict = {'Method': [], 'Structure': [], 'Epochs': [], 'Learning Rate': [], 'Train RMSE': [], \n",
    "                   'Test RMSE': []}\n",
    "\n",
    "    for params in parameter_combinations:\n",
    "        hidden_layers, rho, epoch = params\n",
    "        nn_model = nn.NeuralNetwork(n_inputs, hidden_layers, n_outputs, activation_func='tanh', device='cpu')\n",
    "        nn_model.train(Xtrain, Ttrain, n_epochs=epoch, method=method, learning_rate=rho, verbose=False)\n",
    "        \n",
    "        # RMSE (No standardization is required)\n",
    "        Ttrain_predicted = nn_model.use(Xtrain)\n",
    "        rmse_train = rmse(Ttrain_predicted, Ttrain)\n",
    "        \n",
    "        Ttest_predicted = nn_model.use(Xtest)\n",
    "        rmse_test = rmse(Ttest_predicted, Ttest)\n",
    "        \n",
    "        print(f'Training for {method=}, {hidden_layers=}, {rho=}, {epoch=}, train rmse={rmse_train:.2f}, test rmse={rmse_test:.2f}')\n",
    "        \n",
    "        # appending results to the result dictionary\n",
    "        result_dict['Method'].append(method)\n",
    "        result_dict['Structure'].append(hidden_layers)\n",
    "        result_dict['Epochs'].append(epoch)\n",
    "        result_dict['Learning Rate'].append(rho)\n",
    "        result_dict['Train RMSE'].append(rmse_train)\n",
    "        result_dict['Test RMSE'].append(rmse_test)\n",
    "\n",
    "    result_df = pd.DataFrame(result_dict)\n",
    "    result_df.sort_values(by=['Test RMSE'], axis=0, ascending=True, inplace=True)\n",
    "\n",
    "    return result_df"
   ]
  },
  {
   "cell_type": "code",
   "execution_count": 10,
   "metadata": {
    "scrolled": false
   },
   "outputs": [
    {
     "data": {
      "text/plain": [
       "((7008, 9), (7008, 1), (1752, 9), (1752, 1))"
      ]
     },
     "execution_count": 10,
     "metadata": {},
     "output_type": "execute_result"
    }
   ],
   "source": [
    "# Assuming you have assigned `X` and `T` correctly.\n",
    "\n",
    "Xtrain, Ttrain, Xtest, Ttest = partition(X, T, 0.8)\n",
    "\n",
    "Xtrain.shape, Ttrain.shape, Xtest.shape, Ttest.shape"
   ]
  },
  {
   "cell_type": "code",
   "execution_count": null,
   "metadata": {},
   "outputs": [],
   "source": [
    "# Searching for best model layout for Seoul Bike data\n",
    "nnet_structure = [[10, 10, 10, 10], [30, 10]]\n",
    "nnet_rho = [0.5, 0.01]\n",
    "nnet_epoch = [5000, 10000]"
   ]
  },
  {
   "cell_type": "markdown",
   "metadata": {},
   "source": [
    "# SGD"
   ]
  },
  {
   "cell_type": "code",
   "execution_count": 32,
   "metadata": {},
   "outputs": [
    {
     "name": "stdout",
     "output_type": "stream",
     "text": [
      "Model running on cpu....\n",
      "Training for method='sgd', hidden_layers=[10, 10, 10, 10], rho=0.5, epoch=5000, train rmse=301.00, test rmse=381.69\n",
      "Model running on cpu....\n",
      "Training for method='sgd', hidden_layers=[10, 10, 10, 10], rho=0.5, epoch=10000, train rmse=283.92, test rmse=377.65\n",
      "Model running on cpu....\n",
      "Training for method='sgd', hidden_layers=[10, 10, 10, 10], rho=0.01, epoch=5000, train rmse=320.48, test rmse=329.98\n",
      "Model running on cpu....\n",
      "Training for method='sgd', hidden_layers=[10, 10, 10, 10], rho=0.01, epoch=10000, train rmse=303.84, test rmse=313.23\n",
      "Model running on cpu....\n",
      "Training for method='sgd', hidden_layers=[30, 10], rho=0.5, epoch=5000, train rmse=296.32, test rmse=371.75\n",
      "Model running on cpu....\n",
      "Training for method='sgd', hidden_layers=[30, 10], rho=0.5, epoch=10000, train rmse=249.93, test rmse=355.07\n",
      "Model running on cpu....\n",
      "Training for method='sgd', hidden_layers=[30, 10], rho=0.01, epoch=5000, train rmse=319.23, test rmse=330.31\n",
      "Model running on cpu....\n",
      "Training for method='sgd', hidden_layers=[30, 10], rho=0.01, epoch=10000, train rmse=299.89, test rmse=323.39\n"
     ]
    },
    {
     "data": {
      "text/html": [
       "<div>\n",
       "<style scoped>\n",
       "    .dataframe tbody tr th:only-of-type {\n",
       "        vertical-align: middle;\n",
       "    }\n",
       "\n",
       "    .dataframe tbody tr th {\n",
       "        vertical-align: top;\n",
       "    }\n",
       "\n",
       "    .dataframe thead th {\n",
       "        text-align: right;\n",
       "    }\n",
       "</style>\n",
       "<table border=\"1\" class=\"dataframe\">\n",
       "  <thead>\n",
       "    <tr style=\"text-align: right;\">\n",
       "      <th></th>\n",
       "      <th>Method</th>\n",
       "      <th>Structure</th>\n",
       "      <th>Epochs</th>\n",
       "      <th>Learning Rate</th>\n",
       "      <th>Train RMSE</th>\n",
       "      <th>Test RMSE</th>\n",
       "    </tr>\n",
       "  </thead>\n",
       "  <tbody>\n",
       "    <tr>\n",
       "      <th>3</th>\n",
       "      <td>sgd</td>\n",
       "      <td>[10, 10, 10, 10]</td>\n",
       "      <td>10000</td>\n",
       "      <td>0.01</td>\n",
       "      <td>303.836855</td>\n",
       "      <td>313.234396</td>\n",
       "    </tr>\n",
       "    <tr>\n",
       "      <th>7</th>\n",
       "      <td>sgd</td>\n",
       "      <td>[30, 10]</td>\n",
       "      <td>10000</td>\n",
       "      <td>0.01</td>\n",
       "      <td>299.888241</td>\n",
       "      <td>323.388866</td>\n",
       "    </tr>\n",
       "    <tr>\n",
       "      <th>2</th>\n",
       "      <td>sgd</td>\n",
       "      <td>[10, 10, 10, 10]</td>\n",
       "      <td>5000</td>\n",
       "      <td>0.01</td>\n",
       "      <td>320.482692</td>\n",
       "      <td>329.977685</td>\n",
       "    </tr>\n",
       "    <tr>\n",
       "      <th>6</th>\n",
       "      <td>sgd</td>\n",
       "      <td>[30, 10]</td>\n",
       "      <td>5000</td>\n",
       "      <td>0.01</td>\n",
       "      <td>319.229750</td>\n",
       "      <td>330.310785</td>\n",
       "    </tr>\n",
       "    <tr>\n",
       "      <th>5</th>\n",
       "      <td>sgd</td>\n",
       "      <td>[30, 10]</td>\n",
       "      <td>10000</td>\n",
       "      <td>0.50</td>\n",
       "      <td>249.930452</td>\n",
       "      <td>355.067812</td>\n",
       "    </tr>\n",
       "    <tr>\n",
       "      <th>4</th>\n",
       "      <td>sgd</td>\n",
       "      <td>[30, 10]</td>\n",
       "      <td>5000</td>\n",
       "      <td>0.50</td>\n",
       "      <td>296.316112</td>\n",
       "      <td>371.748819</td>\n",
       "    </tr>\n",
       "    <tr>\n",
       "      <th>1</th>\n",
       "      <td>sgd</td>\n",
       "      <td>[10, 10, 10, 10]</td>\n",
       "      <td>10000</td>\n",
       "      <td>0.50</td>\n",
       "      <td>283.919857</td>\n",
       "      <td>377.652470</td>\n",
       "    </tr>\n",
       "    <tr>\n",
       "      <th>0</th>\n",
       "      <td>sgd</td>\n",
       "      <td>[10, 10, 10, 10]</td>\n",
       "      <td>5000</td>\n",
       "      <td>0.50</td>\n",
       "      <td>301.004543</td>\n",
       "      <td>381.692954</td>\n",
       "    </tr>\n",
       "  </tbody>\n",
       "</table>\n",
       "</div>"
      ],
      "text/plain": [
       "  Method         Structure  Epochs  Learning Rate  Train RMSE   Test RMSE\n",
       "3    sgd  [10, 10, 10, 10]   10000           0.01  303.836855  313.234396\n",
       "7    sgd          [30, 10]   10000           0.01  299.888241  323.388866\n",
       "2    sgd  [10, 10, 10, 10]    5000           0.01  320.482692  329.977685\n",
       "6    sgd          [30, 10]    5000           0.01  319.229750  330.310785\n",
       "5    sgd          [30, 10]   10000           0.50  249.930452  355.067812\n",
       "4    sgd          [30, 10]    5000           0.50  296.316112  371.748819\n",
       "1    sgd  [10, 10, 10, 10]   10000           0.50  283.919857  377.652470\n",
       "0    sgd  [10, 10, 10, 10]    5000           0.50  301.004543  381.692954"
      ]
     },
     "execution_count": 32,
     "metadata": {},
     "output_type": "execute_result"
    }
   ],
   "source": [
    "sgd_results = configure_nnet_model(X, T, nnet_structure, nnet_rho, nnet_epoch, method='sgd', train_test_ratio=0.8)\n",
    "sgd_results"
   ]
  },
  {
   "cell_type": "markdown",
   "metadata": {},
   "source": [
    "# Adam"
   ]
  },
  {
   "cell_type": "code",
   "execution_count": 33,
   "metadata": {},
   "outputs": [
    {
     "name": "stdout",
     "output_type": "stream",
     "text": [
      "Model running on cpu....\n",
      "Training for method='adam', hidden_layers=[10, 10, 10, 10], rho=0.5, epoch=5000, train rmse=562.64, test rmse=566.38\n",
      "Model running on cpu....\n",
      "Training for method='adam', hidden_layers=[10, 10, 10, 10], rho=0.5, epoch=10000, train rmse=480.31, test rmse=482.16\n",
      "Model running on cpu....\n",
      "Training for method='adam', hidden_layers=[10, 10, 10, 10], rho=0.01, epoch=5000, train rmse=267.91, test rmse=320.51\n",
      "Model running on cpu....\n",
      "Training for method='adam', hidden_layers=[10, 10, 10, 10], rho=0.01, epoch=10000, train rmse=267.54, test rmse=319.39\n",
      "Model running on cpu....\n",
      "Training for method='adam', hidden_layers=[30, 10], rho=0.5, epoch=5000, train rmse=347.52, test rmse=383.58\n",
      "Model running on cpu....\n",
      "Training for method='adam', hidden_layers=[30, 10], rho=0.5, epoch=10000, train rmse=367.63, test rmse=417.39\n",
      "Model running on cpu....\n",
      "Training for method='adam', hidden_layers=[30, 10], rho=0.01, epoch=5000, train rmse=257.83, test rmse=334.24\n",
      "Model running on cpu....\n",
      "Training for method='adam', hidden_layers=[30, 10], rho=0.01, epoch=10000, train rmse=252.82, test rmse=334.72\n"
     ]
    },
    {
     "data": {
      "text/html": [
       "<div>\n",
       "<style scoped>\n",
       "    .dataframe tbody tr th:only-of-type {\n",
       "        vertical-align: middle;\n",
       "    }\n",
       "\n",
       "    .dataframe tbody tr th {\n",
       "        vertical-align: top;\n",
       "    }\n",
       "\n",
       "    .dataframe thead th {\n",
       "        text-align: right;\n",
       "    }\n",
       "</style>\n",
       "<table border=\"1\" class=\"dataframe\">\n",
       "  <thead>\n",
       "    <tr style=\"text-align: right;\">\n",
       "      <th></th>\n",
       "      <th>Method</th>\n",
       "      <th>Structure</th>\n",
       "      <th>Epochs</th>\n",
       "      <th>Learning Rate</th>\n",
       "      <th>Train RMSE</th>\n",
       "      <th>Test RMSE</th>\n",
       "    </tr>\n",
       "  </thead>\n",
       "  <tbody>\n",
       "    <tr>\n",
       "      <th>3</th>\n",
       "      <td>adam</td>\n",
       "      <td>[10, 10, 10, 10]</td>\n",
       "      <td>10000</td>\n",
       "      <td>0.01</td>\n",
       "      <td>267.544094</td>\n",
       "      <td>319.390781</td>\n",
       "    </tr>\n",
       "    <tr>\n",
       "      <th>2</th>\n",
       "      <td>adam</td>\n",
       "      <td>[10, 10, 10, 10]</td>\n",
       "      <td>5000</td>\n",
       "      <td>0.01</td>\n",
       "      <td>267.912231</td>\n",
       "      <td>320.509991</td>\n",
       "    </tr>\n",
       "    <tr>\n",
       "      <th>6</th>\n",
       "      <td>adam</td>\n",
       "      <td>[30, 10]</td>\n",
       "      <td>5000</td>\n",
       "      <td>0.01</td>\n",
       "      <td>257.830726</td>\n",
       "      <td>334.243872</td>\n",
       "    </tr>\n",
       "    <tr>\n",
       "      <th>7</th>\n",
       "      <td>adam</td>\n",
       "      <td>[30, 10]</td>\n",
       "      <td>10000</td>\n",
       "      <td>0.01</td>\n",
       "      <td>252.823423</td>\n",
       "      <td>334.715162</td>\n",
       "    </tr>\n",
       "    <tr>\n",
       "      <th>4</th>\n",
       "      <td>adam</td>\n",
       "      <td>[30, 10]</td>\n",
       "      <td>5000</td>\n",
       "      <td>0.50</td>\n",
       "      <td>347.515717</td>\n",
       "      <td>383.575113</td>\n",
       "    </tr>\n",
       "    <tr>\n",
       "      <th>5</th>\n",
       "      <td>adam</td>\n",
       "      <td>[30, 10]</td>\n",
       "      <td>10000</td>\n",
       "      <td>0.50</td>\n",
       "      <td>367.630170</td>\n",
       "      <td>417.386529</td>\n",
       "    </tr>\n",
       "    <tr>\n",
       "      <th>1</th>\n",
       "      <td>adam</td>\n",
       "      <td>[10, 10, 10, 10]</td>\n",
       "      <td>10000</td>\n",
       "      <td>0.50</td>\n",
       "      <td>480.314211</td>\n",
       "      <td>482.158306</td>\n",
       "    </tr>\n",
       "    <tr>\n",
       "      <th>0</th>\n",
       "      <td>adam</td>\n",
       "      <td>[10, 10, 10, 10]</td>\n",
       "      <td>5000</td>\n",
       "      <td>0.50</td>\n",
       "      <td>562.635930</td>\n",
       "      <td>566.378480</td>\n",
       "    </tr>\n",
       "  </tbody>\n",
       "</table>\n",
       "</div>"
      ],
      "text/plain": [
       "  Method         Structure  Epochs  Learning Rate  Train RMSE   Test RMSE\n",
       "3   adam  [10, 10, 10, 10]   10000           0.01  267.544094  319.390781\n",
       "2   adam  [10, 10, 10, 10]    5000           0.01  267.912231  320.509991\n",
       "6   adam          [30, 10]    5000           0.01  257.830726  334.243872\n",
       "7   adam          [30, 10]   10000           0.01  252.823423  334.715162\n",
       "4   adam          [30, 10]    5000           0.50  347.515717  383.575113\n",
       "5   adam          [30, 10]   10000           0.50  367.630170  417.386529\n",
       "1   adam  [10, 10, 10, 10]   10000           0.50  480.314211  482.158306\n",
       "0   adam  [10, 10, 10, 10]    5000           0.50  562.635930  566.378480"
      ]
     },
     "execution_count": 33,
     "metadata": {},
     "output_type": "execute_result"
    }
   ],
   "source": [
    "adam_results = configure_nnet_model(X, T, nnet_structure, nnet_rho, nnet_epoch, method='adam', train_test_ratio=0.8)\n",
    "adam_results"
   ]
  },
  {
   "cell_type": "markdown",
   "metadata": {},
   "source": [
    "# Extra Credit\n",
    "\n",
    "Using a network that gives you pretty good test RMSE results, try to figure out which input features are most significant in predicting the bike-share count.  Remember, that our neural networks is trained with standardized inputs, so you can compare the magnitudes of weights in the first layer to help you determine which inputs are most significant. \n",
    "\n",
    "To visualize the weights, try displaying the weights in the first layer as an image, with `plt.imshow` with `plt.colorbar()`. Discuss which weights have the largest magnitudes and discuss any patterns in see in the weights in each hidden unit of the first layer."
   ]
  },
  {
   "cell_type": "markdown",
   "metadata": {},
   "source": [
    " <h2> Finding Out the Most Significant Predictor </h2>\n",
    " \n",
    " We will perform this analysis with the best model from previous experiment which is trained with <b> Adam </b> optimizer, <b> [10, 10, 5, 5] </b> structure, <b> 5000 </b> epoch, and <b> 0.001 </b> learning rate."
   ]
  },
  {
   "cell_type": "code",
   "execution_count": 12,
   "metadata": {},
   "outputs": [
    {
     "name": "stdout",
     "output_type": "stream",
     "text": [
      "Model running on cpu....\n",
      "adam: Epoch=1000 RMSE=0.47442\n",
      "adam: Epoch=2000 RMSE=0.45591\n",
      "adam: Epoch=3000 RMSE=0.44532\n",
      "adam: Epoch=4000 RMSE=0.43788\n",
      "adam: Epoch=5000 RMSE=0.42783\n",
      "adam: Epoch=6000 RMSE=0.42343\n",
      "adam: Epoch=7000 RMSE=0.41681\n",
      "adam: Epoch=8000 RMSE=0.41593\n",
      "adam: Epoch=9000 RMSE=0.41392\n",
      "adam: Epoch=10000 RMSE=0.41255\n"
     ]
    },
    {
     "data": {
      "text/plain": [
       "NeuralNetwork(9, [10, 10, 10, 10], 1, activation func=Tanh())"
      ]
     },
     "execution_count": 12,
     "metadata": {},
     "output_type": "execute_result"
    }
   ],
   "source": [
    "import pandas as pd\n",
    "\n",
    "data = pd.read_csv('SeoulBikeData.csv')\n",
    "T = data['Rented Bike Count'].to_numpy().reshape(-1, 1)\n",
    "X = data[['Hour', 'Temperature(C)', 'Humidity(%)',\n",
    "          'Wind speed (m/s)', 'Visibility (10m)', 'Dew point temperature(C)',\n",
    "          'Solar Radiation (MJ/m2)', 'Rainfall(mm)', 'Snowfall (cm)']].to_numpy()\n",
    "\n",
    "\n",
    "Xtrain, Ttrain, Xtest, Ttest = partition(X, T, 0.8)\n",
    "n_inputs, n_outputs = Xtrain.shape[1], Ttrain.shape[1] \n",
    "\n",
    "best_model = nn.NeuralNetwork(n_inputs, [10, 10, 10, 10], n_outputs)\n",
    "best_model.train(Xtrain, Ttrain, n_epochs=10000, method='adam', learning_rate=0.01, verbose=True)"
   ]
  },
  {
   "cell_type": "markdown",
   "metadata": {},
   "source": [
    "# Weight visualization"
   ]
  },
  {
   "cell_type": "code",
   "execution_count": 45,
   "metadata": {
    "scrolled": true
   },
   "outputs": [
    {
     "data": {
      "text/plain": [
       "[Parameter containing:\n",
       " tensor([[-1.7510e+00,  4.8075e-02, -4.6112e-01,  4.0085e-02,  2.8738e-02,\n",
       "           9.9682e-01,  2.7289e-01,  2.4771e-01, -1.2759e-01],\n",
       "         [-1.2257e+00,  7.1050e-02,  5.0667e-01, -5.9286e-02, -1.1942e-01,\n",
       "          -2.8629e-01,  6.5235e-01,  1.1332e-01, -1.0610e-01],\n",
       "         [-1.3318e-03,  6.3097e-01,  6.1827e-01, -1.0637e-01,  5.3962e-01,\n",
       "           3.9614e-01,  1.3894e-01,  2.0694e+00,  1.6149e-02],\n",
       "         [ 2.4733e-01, -6.0923e-01, -1.2204e-01,  4.3049e-02, -1.0262e-01,\n",
       "           2.7848e-02, -1.1530e-01,  1.2112e+00, -1.4262e-03],\n",
       "         [ 6.4068e-01, -6.0028e-01,  2.1556e-01, -8.4092e-02,  2.0716e-02,\n",
       "          -3.8153e-01,  2.1406e-01, -1.6550e+00, -7.0901e-02],\n",
       "         [-3.7164e-01,  1.4369e+00,  1.0447e+00, -5.2086e-01,  8.6963e-01,\n",
       "           6.8833e-01, -8.3720e-02, -1.4771e+00,  7.7734e-02],\n",
       "         [ 6.2788e-01, -5.9886e-01,  3.0180e-01, -8.3705e-02,  3.5828e-02,\n",
       "          -3.6179e-01, -7.0190e-01,  1.1977e+00, -4.2437e-02],\n",
       "         [-6.4634e-01, -1.0351e-01,  3.6920e-01,  1.6997e-02, -5.7790e-02,\n",
       "          -9.0669e-01,  1.1749e-01,  7.8960e-02,  2.5065e-02],\n",
       "         [-9.4058e-01,  5.6621e-02, -8.2638e-01, -6.2166e-02,  1.3149e-01,\n",
       "          -1.1880e-01,  1.5381e-01,  9.8450e-02, -6.6872e-02],\n",
       "         [-6.6456e-01, -6.4571e-02,  3.5927e-01, -4.1670e-02,  7.9742e-02,\n",
       "          -1.5456e-01, -1.3512e-01, -1.1088e-01,  8.1804e-03]],\n",
       "        requires_grad=True),\n",
       " Parameter containing:\n",
       " tensor([ 1.5905,  0.7839,  0.1649,  0.3346,  0.0983,  0.5034, -0.0274, -0.4850,\n",
       "          0.4584,  0.2385], requires_grad=True),\n",
       " Parameter containing:\n",
       " tensor([[-1.1395,  0.8944,  0.2594, -0.1533, -0.5214, -0.1778,  0.3883,  0.8666,\n",
       "          -0.6019, -0.0925],\n",
       "         [-0.3795, -0.5172, -0.3685,  0.5463,  0.4968,  0.7938, -0.6991,  0.5195,\n",
       "          -1.2722,  2.2409],\n",
       "         [ 0.2412, -0.1491,  0.2250, -0.3196, -1.1973,  0.1745,  0.4061,  0.0612,\n",
       "           1.1300, -0.5192],\n",
       "         [ 0.0553,  0.9803,  0.8558,  0.9762, -0.6973, -0.2291,  0.6183, -0.1294,\n",
       "          -0.8987, -0.7044],\n",
       "         [-1.5894, -0.1872,  0.0842,  0.7256, -0.2891, -0.1462, -0.2303,  0.3826,\n",
       "           1.3067, -1.1787],\n",
       "         [-2.8464, -0.3419, -0.5278, -3.1465, -0.8664,  0.7512, -2.3556, -0.1989,\n",
       "          -0.1752, -0.5839],\n",
       "         [-0.5838, -0.0148,  1.0196, -0.5789, -1.6542, -0.3518,  0.3987,  0.1339,\n",
       "           0.5419,  0.0666],\n",
       "         [-1.5769, -0.0525,  0.7469, -0.7505,  2.8866, -0.6281,  0.1728, -2.0834,\n",
       "          -0.4106, -1.9187],\n",
       "         [ 1.6699,  0.6503, -0.4862,  1.8576, -0.4586,  0.7681, -0.8168,  1.0136,\n",
       "           0.6630,  2.3725],\n",
       "         [ 0.6409, -1.1573, -0.2538, -1.6017,  0.0535,  0.4036, -0.6287,  0.4248,\n",
       "           1.1061,  0.9975]], requires_grad=True),\n",
       " Parameter containing:\n",
       " tensor([ 0.6455, -0.4922,  0.7791,  0.3706, -0.8486, -0.1823, -0.1295,  2.2157,\n",
       "          1.1058, -1.0829], requires_grad=True),\n",
       " Parameter containing:\n",
       " tensor([[ 0.8003,  0.2295, -0.2436, -0.3355, -0.1019, -1.5065,  1.2475,  0.5869,\n",
       "           1.7995, -0.6340],\n",
       "         [-0.0051, -0.2446, -0.2595,  0.9080,  3.8573, -2.5718, -2.2820,  0.9754,\n",
       "           0.3144,  0.7139],\n",
       "         [ 0.0366, -0.0683, -0.4622,  0.2146,  0.4688,  2.2853, -1.4493, -1.4187,\n",
       "           2.1426,  0.5407],\n",
       "         [-0.1002, -0.3141,  0.5286, -1.3751, -1.2942, -0.8908, -2.1798, -0.3052,\n",
       "           1.3698, -0.0816],\n",
       "         [ 3.2554, -0.1600, -0.0441, -1.5054,  0.1231,  1.0002,  0.3103, -0.3880,\n",
       "          -0.6145,  1.4613],\n",
       "         [ 1.7671, -1.8893, -0.3184,  1.7959,  0.8702, -2.4314,  1.6377,  0.1613,\n",
       "          -0.2572, -0.4525],\n",
       "         [ 2.1429,  0.7460,  1.2876, -1.1692, -0.2880,  0.2398, -0.4367, -0.6143,\n",
       "           1.6162,  0.3610],\n",
       "         [ 4.6281, -0.2660,  2.3225, -0.7079, -0.7166,  0.5271, -1.5458, -2.1252,\n",
       "          -0.5275,  2.4619],\n",
       "         [ 4.1657, -0.7327,  0.7284, -1.1944, -0.2639, -0.0691, -0.3512, -2.4194,\n",
       "          -1.4193,  1.4954],\n",
       "         [-0.3751,  0.2641, -1.9360, -1.4824, -1.8219,  0.7605, -1.5657, -0.1584,\n",
       "          -2.2718, -0.1615]], requires_grad=True),\n",
       " Parameter containing:\n",
       " tensor([ 0.8874, -0.0288, -0.5907,  0.5375, -0.7129, -0.5463,  0.8452, -1.2235,\n",
       "          0.1342, -0.7286], requires_grad=True),\n",
       " Parameter containing:\n",
       " tensor([[ 0.2833, -1.3525, -0.4652, -0.2025, -0.4996,  4.4394, -0.7442,  2.6697,\n",
       "          -0.1953, -0.7284],\n",
       "         [-4.0888,  3.0319,  1.2785,  0.8225,  0.9465, -2.7436, -1.3405,  1.0130,\n",
       "          -0.6123, -0.1507],\n",
       "         [ 2.8117, -1.5185,  0.8324, -0.1096,  0.6195, -1.5660, -0.1128, -0.0699,\n",
       "          -1.2199,  0.9443],\n",
       "         [ 1.2137,  1.2800,  0.4985,  0.6951,  1.2298,  1.3988, -0.9300,  0.4934,\n",
       "           1.1871, -1.7469],\n",
       "         [ 4.0515,  0.0321, -1.1780,  0.4421, -0.2731,  2.2825,  1.5396,  0.1838,\n",
       "          -0.3591, -4.8767],\n",
       "         [-0.1641, -1.2132, -0.2134, -0.2939, -0.5694,  4.8610, -0.5369,  0.8118,\n",
       "           1.7932, -1.1849],\n",
       "         [ 0.3202, -0.8786,  0.6799, -2.6388, -0.0615,  2.4276,  0.1151, -0.7723,\n",
       "           0.2719, -0.9303],\n",
       "         [-0.7725, -0.0717,  1.9523,  0.4051,  0.8062, -1.0783, -1.5407,  0.2659,\n",
       "          -1.6171, -0.2168],\n",
       "         [ 3.3325,  0.8257, -0.2932, -0.3218,  1.1082,  0.5004,  1.2874, -1.0955,\n",
       "          -1.3852, -2.0759],\n",
       "         [-0.1627,  0.6572, -0.2443,  0.1881,  0.0956,  2.1351, -0.4636,  0.6477,\n",
       "          -2.3609, -0.8850]], requires_grad=True),\n",
       " Parameter containing:\n",
       " tensor([ 0.6225,  0.9248, -0.6673, -0.0756, -0.2595,  0.6251,  0.2502, -0.8556,\n",
       "         -0.3787,  1.1061], requires_grad=True),\n",
       " Parameter containing:\n",
       " tensor([[ 1.9615,  0.9126,  0.9298,  0.8433, -1.6994, -1.8386, -0.3451,  0.8174,\n",
       "           1.1993,  1.0542]], requires_grad=True),\n",
       " Parameter containing:\n",
       " tensor([0.5517], requires_grad=True)]"
      ]
     },
     "execution_count": 45,
     "metadata": {},
     "output_type": "execute_result"
    }
   ],
   "source": [
    "from  matplotlib.colors import LinearSegmentedColormap\n",
    "cmap = LinearSegmentedColormap.from_list('rg',[\"r\", \"w\", \"g\"], N=256) \n",
    "\n",
    "columns = ['Hour', 'Temperature(C)', 'Humidity(%)',\n",
    "          'Wind speed (m/s)', 'Visibility (10m)', 'Dew point temperature(C)',\n",
    "          'Solar Radiation (MJ/m2)', 'Rainfall(mm)', 'Snowfall (cm)']\n",
    "list(best_model.parameters())"
   ]
  },
  {
   "cell_type": "code",
   "execution_count": 46,
   "metadata": {},
   "outputs": [
    {
     "name": "stdout",
     "output_type": "stream",
     "text": [
      "(10, 9)\n"
     ]
    },
    {
     "data": {
      "text/plain": [
       "array([[-1.75097418e+00,  4.80753183e-02, -4.61116791e-01,\n",
       "         4.00845557e-02,  2.87384875e-02,  9.96820807e-01,\n",
       "         2.72893727e-01,  2.47714445e-01, -1.27594382e-01],\n",
       "       [-1.22565663e+00,  7.10500330e-02,  5.06668031e-01,\n",
       "        -5.92859089e-02, -1.19422533e-01, -2.86286920e-01,\n",
       "         6.52352452e-01,  1.13317281e-01, -1.06103957e-01],\n",
       "       [-1.33184961e-03,  6.30973816e-01,  6.18267477e-01,\n",
       "        -1.06369250e-01,  5.39619386e-01,  3.96138608e-01,\n",
       "         1.38939977e-01,  2.06942940e+00,  1.61493272e-02],\n",
       "       [ 2.47330844e-01, -6.09233677e-01, -1.22039177e-01,\n",
       "         4.30491269e-02, -1.02615014e-01,  2.78477818e-02,\n",
       "        -1.15297750e-01,  1.21117413e+00, -1.42617198e-03],\n",
       "       [ 6.40679598e-01, -6.00284159e-01,  2.15557218e-01,\n",
       "        -8.40916038e-02,  2.07161568e-02, -3.81526589e-01,\n",
       "         2.14055374e-01, -1.65495813e+00, -7.09014684e-02],\n",
       "       [-3.71644258e-01,  1.43687689e+00,  1.04470861e+00,\n",
       "        -5.20856202e-01,  8.69626462e-01,  6.88332021e-01,\n",
       "        -8.37201700e-02, -1.47710526e+00,  7.77341202e-02],\n",
       "       [ 6.27879620e-01, -5.98856866e-01,  3.01799178e-01,\n",
       "        -8.37049410e-02,  3.58278677e-02, -3.61789823e-01,\n",
       "        -7.01904476e-01,  1.19767118e+00, -4.24373187e-02],\n",
       "       [-6.46341801e-01, -1.03506155e-01,  3.69200259e-01,\n",
       "         1.69965699e-02, -5.77900968e-02, -9.06691432e-01,\n",
       "         1.17491454e-01,  7.89603069e-02,  2.50645019e-02],\n",
       "       [-9.40579474e-01,  5.66208512e-02, -8.26383352e-01,\n",
       "        -6.21658042e-02,  1.31491810e-01, -1.18795954e-01,\n",
       "         1.53811723e-01,  9.84499529e-02, -6.68722466e-02],\n",
       "       [-6.64559066e-01, -6.45713806e-02,  3.59267294e-01,\n",
       "        -4.16703597e-02,  7.97416866e-02, -1.54556066e-01,\n",
       "        -1.35115191e-01, -1.10879280e-01,  8.18043575e-03]], dtype=float32)"
      ]
     },
     "execution_count": 46,
     "metadata": {},
     "output_type": "execute_result"
    }
   ],
   "source": [
    "# first trained weught (w0) shows how the trained model recognized different attributes\n",
    "W0 = list(best_model.parameters())[0].detach().numpy()\n",
    "print(W0.shape)\n",
    "W0"
   ]
  },
  {
   "cell_type": "code",
   "execution_count": 56,
   "metadata": {},
   "outputs": [
    {
     "data": {
      "text/plain": [
       "<matplotlib.colorbar.Colorbar at 0x1a6a0b981f0>"
      ]
     },
     "execution_count": 56,
     "metadata": {},
     "output_type": "execute_result"
    },
    {
     "data": {
      "image/png": "[encoded data removed]",
      "text/plain": [
       "<Figure size 640x480 with 2 Axes>"
      ]
     },
     "metadata": {},
     "output_type": "display_data"
    }
   ],
   "source": [
    "n_units = W0.shape[0]  # row of weight represents hidden unit, column represents attributes\n",
    "mx = np.max(np.abs(W0))\n",
    "\n",
    "plt.imshow(W0, vmin=-mx, vmax=mx, cmap=cmap)\n",
    "ylabels = ['unit{}'.format(y) for y in range(n_units)]\n",
    "plt.yticks(range(n_units), ylabels)\n",
    "plt.xticks(range(len(columns)), columns, rotation=90)\n",
    "plt.title('Weights of the first layer in the NN')\n",
    "plt.colorbar()"
   ]
  },
  {
   "cell_type": "markdown",
   "metadata": {},
   "source": [
    "From the `Weights of the first layer in the NN` plot, it is visible that variables `Hour, Temperature(C), Humidity(%), Rainfall(mm), Snowfall(cm)` are some of the most significant positive/negative weights assigned in various hidden layers. Therefore, in this model, these variables can be considered as the most important predictors. \n",
    "\n",
    "Both positive and negative weights have been assigned in the abovementioned variables. For example, `Rainfall` has positive weight assigned in unit 8 and negative in unit 6. This may signify opposite correlation to rainfall event and bike hiring. When rainfall is high bike sharing reduces and vice versa. Similar trends can be seen in weights of `Snowfall`. Bike hiring seems to be strongly correlated to `Hour`. Positive weights in `Hour` might indicate peak hours in which bike hiring is high."
   ]
  },
  {
   "cell_type": "code",
   "execution_count": null,
   "metadata": {},
   "outputs": [],
   "source": [
    "# My understanding is calculating error by aggregating counties and backpropagating that error is the same as \n",
    "# calculating error for each cell (if we has cellwise observed data)\n",
    "# so we should be able to calculate error by aggregating and then backpropagte it through the network for minimizing\n",
    "\n",
    "import numpy as np\n",
    "import pandas as pd\n",
    "a = np.random.normal(0, 5, size = (150, 150)).reshape(-1, 1)\n",
    "b = np.random.normal(0, 6, size = (150, 150)).reshape(-1, 1)\n",
    "\n",
    "df = pd.DataFrame()\n",
    "df['a'] = list(a.squeeze())\n",
    "df['b'] = list(b.squeeze())\n",
    "print('df \\n', df.head(5), '\\n')\n",
    "\n",
    "grp_list = [1 if i<10000 else 2 if 10000 <= i < 15000 else 3 for i in range(len(df['a']))]\n",
    "grp_list = np.random.permutation(grp_list)\n",
    "df['grp'] = grp_list\n",
    "\n",
    "df_grp = df.groupby(by='grp').sum()\n",
    "print('df_grp \\n', df_grp, '\\n')\n",
    "\n",
    "rmse_from_pixels = np.sqrt(np.mean((df['a']-df['b'])**2))\n",
    "print('rmse from pixels', rmse_from_pixels)\n",
    "\n",
    "rmse_grp = np.sqrt(np.mean((df['a']-df['b'])**2))  \n",
    "print('rmse grp', rmse_grp)"
   ]
  }
 ],
 "metadata": {
  "kernelspec": {
   "display_name": "Python 3 (ipykernel)",
   "language": "python",
   "name": "python3"
  },
  "language_info": {
   "codemirror_mode": {
    "name": "ipython",
    "version": 3
   },
   "file_extension": ".py",
   "mimetype": "text/x-python",
   "name": "python",
   "nbconvert_exporter": "python",
   "pygments_lexer": "ipython3",
   "version": "3.8.13"
  },
  "toc": {
   "base_numbering": 1,
   "nav_menu": {},
   "number_sections": false,
   "sideBar": true,
   "skip_h1_title": true,
   "title_cell": "Table of Contents",
   "title_sidebar": "Contents",
   "toc_cell": true,
   "toc_position": {
    "height": "calc(100% - 180px)",
    "left": "10px",
    "top": "150px",
    "width": "512px"
   },
   "toc_section_display": true,
   "toc_window_display": false
  }
 },
 "nbformat": 4,
 "nbformat_minor": 4
}
