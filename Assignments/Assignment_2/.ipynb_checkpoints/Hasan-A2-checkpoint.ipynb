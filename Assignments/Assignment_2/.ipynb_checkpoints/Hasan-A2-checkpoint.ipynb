{
 "cells": [
  {
   "cell_type": "markdown",
   "metadata": {},
   "source": [
    "# A2: NeuralNetwork Class"
   ]
  },
  {
   "cell_type": "markdown",
   "metadata": {
    "toc": true
   },
   "source": [
    "<h1>Table of Contents<span class=\"tocSkip\"></span></h1>\n",
    "<div class=\"toc\"><ul class=\"toc-item\"><li><span><a href=\"#Requirements\" data-toc-modified-id=\"Requirements-1\">Requirements</a></span></li><li><span><a href=\"#Code-for-NeuralNetwork-Class\" data-toc-modified-id=\"Code-for-NeuralNetwork-Class-2\">Code for <code>NeuralNetwork</code> Class</a></span></li><li><span><a href=\"#Example-Results\" data-toc-modified-id=\"Example-Results-3\">Example Results</a></span></li><li><span><a href=\"#Application-to-Boston-Housing-Data\" data-toc-modified-id=\"Application-to-Boston-Housing-Data-4\">Application to Boston Housing Data</a></span></li></ul></div>"
   ]
  },
  {
   "cell_type": "markdown",
   "metadata": {},
   "source": [
    "## Requirements"
   ]
  },
  {
   "cell_type": "markdown",
   "metadata": {},
   "source": [
    "In this assignment, you will complete the implementation of the `NeuralNetwork` class, starting with the code included in the `04b` lecture notes.  Your implementation must \n",
    "\n",
    "1. Allow any number of hidden layers, including no hidden layers specified by an empty list as `[]`. <font color='red'>Don't forget this case.</font>\n",
    "2. Define `_forward(self, X)` and `_gradients(self, X, T` functions. `_forward` must return the output of the network, `Y`, in standardized form and create `self.Zs` as a list consisting of the input `X` and the outputs of all hidden layers. `_gradients` must return the gradients of the mean square error with respect to the weights in each layer. \n",
    "2. Your `train` function must standardize `X` and `T` and save the standardization parameters (means and stds) in member variables. It must append to `self.rmse_trace` the RMSE value for each epoch.  Initialize this list to be `[]` in the constructor to allow multiple calls to `train` to continue to append to the same `rmse_trace` list.\n",
    "2. Your `use` function must standardize `X` and unstandardize the output.\n",
    "\n",
    "See the following examples for more details.\n",
    "\n",
    "Then apply your `NeuralNetwork` class to the problem of predicting the value of houses in Boston as described below."
   ]
  },
  {
   "cell_type": "markdown",
   "metadata": {},
   "source": [
    "## Code for `NeuralNetwork` Class"
   ]
  },
  {
   "cell_type": "code",
   "execution_count": 1,
   "metadata": {
    "ExecuteTime": {
     "end_time": "2022-09-16T20:44:32.564986Z",
     "start_time": "2022-09-16T20:44:32.561771Z"
    }
   },
   "outputs": [],
   "source": [
    "import numpy as np\n",
    "import pandas as pd\n",
    "import matplotlib.pyplot as plt\n",
    "%matplotlib inline\n",
    "import IPython.display as ipd  # for display and clear_output\n",
    "import time"
   ]
  },
  {
   "cell_type": "code",
   "execution_count": 2,
   "metadata": {
    "ExecuteTime": {
     "end_time": "2022-09-16T20:44:32.574691Z",
     "start_time": "2022-09-16T20:44:32.566777Z"
    }
   },
   "outputs": [],
   "source": [
    "class NeuralNetwork():\n",
    "    \"\"\"\n",
    "    A Neural Network class consisting methods to create a neural network. Written for non-linear regression problems.\n",
    "    \n",
    "    :param n_inputs: int\n",
    "                     Number of variable columns in the dataset (excluding output varibales). \n",
    "                     Represents number of predictors in the model.\n",
    "    :param n_hiddens_each_layer: list of int\n",
    "                                 Number of units in each hidden layers. Each element of the list represents \n",
    "                                 to one hidden layer.  \n",
    "    :param n_outputs: int\n",
    "                      Number of output variables to predict.\n",
    "    :param n_epochs: int|\n",
    "                     Number of epochs to run. Default is None. Updates from the train() function.\n",
    "    :param rho: float\n",
    "                Learning rate of the neural network. Default is None. Updates from the train() function.\n",
    "                \n",
    "    :param rmse_trace: list of floats\n",
    "                       An auto-updated list generated while training the model. Holds all rmse values while training.\n",
    "    :param X_means : 1D numpy array\n",
    "                     Mean value of input variables.\n",
    "    :param X_stds : 1D numpy array\n",
    "                    Standard deviation of input variables.\n",
    "    :param T_means : 1D numpy array\n",
    "                     Mean value of output variables.\n",
    "    :param T_stds : 1D numpy array\n",
    "                    Standard deviation of output variables.\n",
    "                    \n",
    "    ---------------------\n",
    "    Methods:\n",
    "    \n",
    "    rmse_score() : Calculates RMSE score.\n",
    "    _add_ones() : Adds a column of 1 in the begininning of an array. Used to add bias to data.\n",
    "    _generate_weights() : Generates weights for hidden layers of the neural network based on class inputs.\n",
    "    _forward() : Performs the forward propagation steps.\n",
    "    _gradients() : Performs backward propagation to generate gradients. \n",
    "    train() : Trains the neural network with input parameters and updates weights.\n",
    "    use() : Predicts output variable using the trained model.\n",
    "    \n",
    "    \"\"\"\n",
    "\n",
    "    def __init__(self, n_inputs, n_hiddens_each_layer, n_outputs):\n",
    "        \"\"\"\n",
    "        Generates a neural network with a given structure. Holds various parameters of the \n",
    "        neural network.\n",
    "\n",
    "        :param n_inputs: int\n",
    "                         Number of variable columns in the dataset (excluding output varibales). \n",
    "                         Represents number of predictors in the model.\n",
    "        :param n_hiddens_each_layer: list of int\n",
    "                                     Number of units in each hidden layers. Each element of the list represents one hidden layer.  \n",
    "        :param n_outputs: int\n",
    "                          Number of output variables to predict.\n",
    "                          \n",
    "        :return: A Neural netwrk object.\n",
    "        \"\"\"\n",
    "        self.n_inputs = n_inputs\n",
    "        self.n_hiddens_each_layer = n_hiddens_each_layer\n",
    "        self.n_outputs = n_outputs\n",
    "\n",
    "        self.n_epochs = None\n",
    "        self.rho = None\n",
    "        self.rmse_trace = []\n",
    "\n",
    "        self.Ws = self._generate_weights()\n",
    "        self.Zs = None\n",
    "\n",
    "        self.X_means = None\n",
    "        self.X_stds = None\n",
    "        self.T_means = None\n",
    "        self.T_stds = None\n",
    "\n",
    "    def rmse_score(self, Y, T, T_std):\n",
    "        \"\"\"\n",
    "        Calculates RMSE score.\n",
    "        \n",
    "        ** T and Y need to be standardized in this function is used on test data.\n",
    "        \n",
    "        :param Y: 2D numpy array\n",
    "                  Model predicted output variable. \n",
    "        :param T: 2D numpy array\n",
    "                  Observed variable that model will predict.\n",
    "        :param T_std: 1D numpy array\n",
    "                      Standard deviations of observed output variable.\n",
    "                      \n",
    "        :return: RMSE score.\n",
    "        \"\"\"\n",
    "        error = (T - Y) * T_std \n",
    "        rmse_error = np.sqrt(np.mean(error ** 2))\n",
    "        return rmse_error\n",
    "\n",
    "\n",
    "    def _add_ones(self, X):\n",
    "        \"\"\"\n",
    "        Adds a column of 1 in the begininning of an array. Used to add bias to data.\n",
    "        \n",
    "        :param X: 2D numpy array\n",
    "                  Input variables to which bias need to be added.\n",
    "        \n",
    "        :return: Bias added 2D numpy array.\n",
    "        \"\"\"\n",
    "        X1 = np.insert(X, 0, 1, axis=1)\n",
    "        return X1\n",
    "    \n",
    "    \n",
    "    def _generate_weights(self):\n",
    "        \"\"\"\n",
    "        Generates weights for hidden layers of the neural network based on class inputs.\n",
    "        \n",
    "        :return: A list of numpy array of representating weights of hidden layers of the network.  \n",
    "        \"\"\"\n",
    "        hidden_layers = [i for i in\n",
    "                         self.n_hiddens_each_layer]  # assigning n_hiddens_each_layer to a local variable for convenience\n",
    "        layer_weights = []\n",
    "        if len(hidden_layers) > 0:\n",
    "            hidden_layers.insert(0, self.n_inputs)\n",
    "            hidden_layers.append(self.n_outputs)\n",
    "    \n",
    "            for i in range(len(hidden_layers) - 1):\n",
    "                W_shape = (1 + hidden_layers[i], hidden_layers[i + 1])\n",
    "                if i < (len(hidden_layers) - 2):  # inserting this block to set last weight to zeros\n",
    "                    W = np.random.uniform(-0.01, 0.01, size=W_shape) / np.sqrt(1 + hidden_layers[i])\n",
    "                else:\n",
    "                    W = np.zeros(W_shape)\n",
    "                layer_weights.append(W)  # weights are in first to last layer order\n",
    "    \n",
    "        else:\n",
    "            W_shape = (self.n_inputs + 1, self.n_outputs)\n",
    "            W = np.zeros(W_shape)\n",
    "            layer_weights.append(W)\n",
    "    \n",
    "        return layer_weights\n",
    "    \n",
    "    \n",
    "    def _forward(self, X):\n",
    "        \"\"\"\n",
    "        Performs the forward propagation steps.\n",
    "    \n",
    "        :param X: 2D numpy array\n",
    "                  Input variables of the model. Generally train dataset.\n",
    "                  \n",
    "        :return: List of Zs (Zs will have X in the beginning), Output variable Y for the forward propagation.\n",
    "        \"\"\"\n",
    "        self.Zs = [X]\n",
    "        # Append output of each layer to list in self.Zs, then return it.\n",
    "        weights = self.Ws\n",
    "        Z = X\n",
    "        # for layers upto n-1\n",
    "        for i in range(len(weights) - 1):\n",
    "            Z_w = np.tanh(self._add_ones(Z) @ weights[i])               \n",
    "            Z = Z_w\n",
    "            self.Zs.append(Z_w)\n",
    "            \n",
    "        # for output layer\n",
    "        if self.n_hiddens_each_layer:\n",
    "            self.Zs.append(self._add_ones(Z_w) @ weights[-1]) \n",
    "        else:\n",
    "            self.Zs.append(self._add_ones(X) @ weights[-1])\n",
    "            \n",
    "        return self.Zs, self.Zs[-1]\n",
    "    \n",
    "    \n",
    "    def _gradients(self, X, T):\n",
    "        \"\"\"\n",
    "        Performs backward propagation to generate gradients. \n",
    "    \n",
    "        :param X: 2D numpy array\n",
    "                  Input variables of the model. Generally train dataset.\n",
    "        :param T: 2D numpy array\n",
    "                  Observed variable that model will predict.\n",
    "                  \n",
    "        :return: List of gradients generated from the backpropagation.\n",
    "        \"\"\"\n",
    "        weights = self.Ws\n",
    "        forward_prop = self.Zs  # returns all Zs including Y in the end. Zs has X in the beginning\n",
    "        Zs_without_Y = forward_prop[:-1]\n",
    "        Zs_Y = forward_prop[-1:][0]\n",
    "    \n",
    "        gradient_list = []  # initializing gradient list\n",
    "    \n",
    "        # first delta of the epoch calculated from the last Zs\n",
    "        delta = T - Zs_Y\n",
    "    \n",
    "        # backpropagating delta to previous layers and calculating gradients \n",
    "        for W, Z in zip(weights[::-1], Zs_without_Y[::-1]):\n",
    "            gradient = -(self._add_ones(Z)).T @ delta\n",
    "            delta = delta @ W[1:, :].T * (1 - Z ** 2)\n",
    "            gradient_list.append(gradient)  # in reverse order, last layers' weight are in the beginning\n",
    "    \n",
    "        return gradient_list\n",
    "    \n",
    "    \n",
    "    def train(self, X, T, n_epochs, learning_rate=None, verbose=True):\n",
    "        \"\"\"\n",
    "        Trains the neural network with input parameters and updates weights.\n",
    "        \n",
    "        :param X: 2D numpy array\n",
    "                  Input variables of the model. Generally train dataset.\n",
    "        :param T: 2D numpy array\n",
    "                  Observed variable that model will predict.\n",
    "        :param n_epochs: int\n",
    "                         Number of epochs to run.\n",
    "        :param learning_rate: float\n",
    "                              Learning rate of the neural network.\n",
    "        :param verbose: boolean\n",
    "                        Progress is shown with print statements if True.\n",
    "                        \n",
    "        :return: A trained model with updated weights.\n",
    "        \"\"\"\n",
    "        self.rho = learning_rate\n",
    "    \n",
    "        self.X_means = X.mean(axis=0)\n",
    "        self.X_stds = X.std(axis=0)\n",
    "        self.T_means = T.mean(axis=0)\n",
    "        self.T_stds = T.std(axis=0)\n",
    "    \n",
    "        # standardizing\n",
    "        XtrainS = (X - self.X_means) / self.X_stds\n",
    "        TtrainS = (T - self.T_means) / self.T_stds\n",
    "    \n",
    "        self.n_epochs = n_epochs\n",
    "        for epoch in range(self.n_epochs):\n",
    "            Zs, Ys = self._forward(XtrainS)\n",
    "            gradients = self._gradients(XtrainS, TtrainS)\n",
    "    \n",
    "            # Updating weights. weights are in first to last order, gradients are in last to first order\n",
    "            # Weights will be in first to last order\n",
    "            # rho is divided by X.shape[0]/T.shape[1] because of keeping weights similar to grader\n",
    "            weights = self.Ws\n",
    "            self.Ws = [(w - self.rho/X.shape[0]/T.shape[1] * grd) for w, grd in zip(weights, gradients[::-1])]\n",
    "            self.rmse_trace.append(self.rmse_score(Ys, TtrainS, self.T_stds))\n",
    "    \n",
    "        return self\n",
    "    \n",
    "    \n",
    "    def use(self, X):\n",
    "        \"\"\"\n",
    "        Predicts output variable using the trained model.\n",
    "        \n",
    "        :param X: 2D numpy array\n",
    "                  Input variables, generally test dataset.\n",
    "        \n",
    "        :return: Predicted output variables.\n",
    "        \"\"\"\n",
    "        Xs = (X - self.X_means) / self.X_stds  # standardizing input X\n",
    "        Ys = self._forward(Xs)[-1]  # extracting output from last column of Zs\n",
    "        Y = Ys * self.T_stds + self.T_means\n",
    "    \n",
    "        return Y\n",
    "    \n",
    "    def __repr__(self):\n",
    "        return f'NeuralNetwork ({self.n_inputs}, {self.n_hiddens_each_layer}, {self.n_outputs})'\n",
    "    \n",
    "    \n",
    "    def __str__(self):\n",
    "        return self.__repr__() + f', trained for {self.n_epochs} epochs with a final RMSE of {self.rmse_trace}'"
   ]
  },
  {
   "cell_type": "markdown",
   "metadata": {},
   "source": [
    "In this next code cell, I add a new method to your class that replaces the weights created in your constructor with non-random values to allow you to compare your results with mine, and to allow our grading scripts to work well."
   ]
  },
  {
   "cell_type": "code",
   "execution_count": 3,
   "metadata": {
    "ExecuteTime": {
     "end_time": "2022-09-16T20:44:32.594067Z",
     "start_time": "2022-09-16T20:44:32.590678Z"
    }
   },
   "outputs": [],
   "source": [
    "def set_weights_for_testing(self):\n",
    "    for W in self.Ws[:-1]:   # leave output layer weights at zero\n",
    "        n_weights = W.shape[0] * W.shape[1]\n",
    "        W[:] = np.linspace(-0.01, 0.01, n_weights).reshape(W.shape)\n",
    "        for u in range(W.shape[1]):\n",
    "            W[:, u] += (u - W.shape[1]/2) * 0.2\n",
    "    # Set output layer weights to zero\n",
    "    self.Ws[-1][:] = 0\n",
    "    print('Weights set for testing by calling set_weights_for_testing()')\n",
    "\n",
    "setattr(NeuralNetwork, 'set_weights_for_testing', set_weights_for_testing)"
   ]
  },
  {
   "cell_type": "markdown",
   "metadata": {},
   "source": [
    "## Example Results"
   ]
  },
  {
   "cell_type": "markdown",
   "metadata": {},
   "source": [
    "Here we test the `NeuralNetwork` class with some simple data.  \n"
   ]
  },
  {
   "cell_type": "code",
   "execution_count": 4,
   "metadata": {
    "ExecuteTime": {
     "end_time": "2022-09-16T20:44:32.604006Z",
     "start_time": "2022-09-16T20:44:32.595320Z"
    }
   },
   "outputs": [
    {
     "data": {
      "text/plain": [
       "((10, 1), (10, 1))"
      ]
     },
     "execution_count": 4,
     "metadata": {},
     "output_type": "execute_result"
    }
   ],
   "source": [
    "X = np.arange(0, 10).reshape(-1, 1)\n",
    "T = np.sin(X) + 0.01 * (X ** 2)\n",
    "X.shape, T.shape"
   ]
  },
  {
   "cell_type": "code",
   "execution_count": 5,
   "metadata": {
    "ExecuteTime": {
     "end_time": "2022-09-16T20:44:32.692241Z",
     "start_time": "2022-09-16T20:44:32.605307Z"
    }
   },
   "outputs": [
    {
     "data": {
      "text/plain": [
       "[<matplotlib.lines.Line2D at 0x23698b28f40>]"
      ]
     },
     "execution_count": 5,
     "metadata": {},
     "output_type": "execute_result"
    },
    {
     "data": {
      "image/png": "[encoded data removed]",
      "text/plain": [
       "<Figure size 432x288 with 1 Axes>"
      ]
     },
     "metadata": {
      "needs_background": "light"
     },
     "output_type": "display_data"
    }
   ],
   "source": [
    "plt.plot(X, T, '.-')"
   ]
  },
  {
   "cell_type": "code",
   "execution_count": 6,
   "metadata": {
    "ExecuteTime": {
     "end_time": "2022-09-16T20:44:32.697052Z",
     "start_time": "2022-09-16T20:44:32.693526Z"
    }
   },
   "outputs": [
    {
     "data": {
      "text/plain": [
       "NeuralNetwork (1, [3, 2], 1)"
      ]
     },
     "execution_count": 6,
     "metadata": {},
     "output_type": "execute_result"
    }
   ],
   "source": [
    "n_inputs = X.shape[1]\n",
    "n_outputs = T.shape[1]\n",
    "\n",
    "nnet = NeuralNetwork(n_inputs, [3, 2], n_outputs)\n",
    "nnet"
   ]
  },
  {
   "cell_type": "code",
   "execution_count": 7,
   "metadata": {
    "ExecuteTime": {
     "end_time": "2022-09-16T20:44:32.705672Z",
     "start_time": "2022-09-16T20:44:32.698197Z"
    }
   },
   "outputs": [
    {
     "data": {
      "text/plain": [
       "(1, [3, 2], 1)"
      ]
     },
     "execution_count": 7,
     "metadata": {},
     "output_type": "execute_result"
    }
   ],
   "source": [
    "nnet.n_inputs, nnet.n_hiddens_each_layer, nnet.n_outputs"
   ]
  },
  {
   "cell_type": "code",
   "execution_count": 8,
   "metadata": {
    "ExecuteTime": {
     "end_time": "2022-09-16T20:44:32.714071Z",
     "start_time": "2022-09-16T20:44:32.708215Z"
    }
   },
   "outputs": [
    {
     "data": {
      "text/plain": [
       "[]"
      ]
     },
     "execution_count": 8,
     "metadata": {},
     "output_type": "execute_result"
    }
   ],
   "source": [
    "nnet.rmse_trace"
   ]
  },
  {
   "cell_type": "code",
   "execution_count": 9,
   "metadata": {
    "ExecuteTime": {
     "end_time": "2022-09-16T20:44:32.723578Z",
     "start_time": "2022-09-16T20:44:32.715275Z"
    }
   },
   "outputs": [
    {
     "data": {
      "text/plain": [
       "[array([[ 0.00494438,  0.00599123, -0.00101978],\n",
       "        [-0.00496342, -0.00515224, -0.00488689]]),\n",
       " array([[-0.00407087,  0.0023341 ],\n",
       "        [ 0.00334689,  0.00413369],\n",
       "        [-0.00065255,  0.00275376],\n",
       "        [ 0.00118871,  0.00390344]]),\n",
       " array([[0.],\n",
       "        [0.],\n",
       "        [0.]])]"
      ]
     },
     "execution_count": 9,
     "metadata": {},
     "output_type": "execute_result"
    }
   ],
   "source": [
    "nnet.Ws"
   ]
  },
  {
   "cell_type": "code",
   "execution_count": 10,
   "metadata": {
    "ExecuteTime": {
     "end_time": "2022-09-16T20:44:32.732243Z",
     "start_time": "2022-09-16T20:44:32.724790Z"
    }
   },
   "outputs": [
    {
     "name": "stdout",
     "output_type": "stream",
     "text": [
      "Weights set for testing by calling set_weights_for_testing()\n"
     ]
    }
   ],
   "source": [
    "nnet.set_weights_for_testing()"
   ]
  },
  {
   "cell_type": "code",
   "execution_count": 11,
   "metadata": {
    "ExecuteTime": {
     "end_time": "2022-09-16T20:44:32.741699Z",
     "start_time": "2022-09-16T20:44:32.733644Z"
    }
   },
   "outputs": [
    {
     "data": {
      "text/plain": [
       "[array([[-0.31 , -0.106,  0.098],\n",
       "        [-0.298, -0.094,  0.11 ]]),\n",
       " array([[-0.21      , -0.00714286],\n",
       "        [-0.20428571, -0.00142857],\n",
       "        [-0.19857143,  0.00428571],\n",
       "        [-0.19285714,  0.01      ]]),\n",
       " array([[0.],\n",
       "        [0.],\n",
       "        [0.]])]"
      ]
     },
     "execution_count": 11,
     "metadata": {},
     "output_type": "execute_result"
    }
   ],
   "source": [
    "nnet.Ws"
   ]
  },
  {
   "cell_type": "code",
   "execution_count": 12,
   "metadata": {
    "ExecuteTime": {
     "end_time": "2022-09-16T20:44:32.750374Z",
     "start_time": "2022-09-16T20:44:32.742984Z"
    }
   },
   "outputs": [
    {
     "data": {
      "text/plain": [
       "NeuralNetwork (1, [3, 2], 1)"
      ]
     },
     "execution_count": 12,
     "metadata": {},
     "output_type": "execute_result"
    }
   ],
   "source": [
    "nnet.train(X, T, n_epochs=1, learning_rate=0.1)"
   ]
  },
  {
   "cell_type": "code",
   "execution_count": 13,
   "metadata": {
    "ExecuteTime": {
     "end_time": "2022-09-16T20:44:32.760663Z",
     "start_time": "2022-09-16T20:44:32.751976Z"
    }
   },
   "outputs": [
    {
     "data": {
      "text/plain": [
       "[array([[-1.5666989 ],\n",
       "        [-1.21854359],\n",
       "        [-0.87038828],\n",
       "        [-0.52223297],\n",
       "        [-0.17407766],\n",
       "        [ 0.17407766],\n",
       "        [ 0.52223297],\n",
       "        [ 0.87038828],\n",
       "        [ 1.21854359],\n",
       "        [ 1.5666989 ]]),\n",
       " array([[ 0.1556019 ,  0.04124628, -0.07420025],\n",
       "        [ 0.05307607,  0.00854289, -0.0360242 ],\n",
       "        [-0.05058109, -0.02417879,  0.00225729],\n",
       "        [-0.15315983, -0.05684874,  0.04053216],\n",
       "        [-0.25254081, -0.0893974 ,  0.07868844],\n",
       "        [-0.34686464, -0.12175623,  0.11661556],\n",
       "        [-0.43465797, -0.15385829,  0.15420558],\n",
       "        [-0.51490065, -0.18563881,  0.19135444],\n",
       "        [-0.58703239, -0.21703564,  0.22796304],\n",
       "        [-0.65091011, -0.24798976,  0.26393827]]),\n",
       " array([[-0.2313994 , -0.00793021],\n",
       "        [-0.21231228, -0.00754217],\n",
       "        [-0.19285534, -0.00715153],\n",
       "        [-0.17346796, -0.00676227],\n",
       "        [-0.15458409, -0.00637825],\n",
       "        [-0.13659418, -0.00600292],\n",
       "        [-0.11981504, -0.00563919],\n",
       "        [-0.10447207, -0.00528929],\n",
       "        [-0.09069498, -0.00495472],\n",
       "        [-0.07852506, -0.00463638]]),\n",
       " array([[0.],\n",
       "        [0.],\n",
       "        [0.],\n",
       "        [0.],\n",
       "        [0.],\n",
       "        [0.],\n",
       "        [0.],\n",
       "        [0.],\n",
       "        [0.],\n",
       "        [0.]])]"
      ]
     },
     "execution_count": 13,
     "metadata": {},
     "output_type": "execute_result"
    }
   ],
   "source": [
    "nnet.Zs"
   ]
  },
  {
   "cell_type": "code",
   "execution_count": 14,
   "metadata": {
    "ExecuteTime": {
     "end_time": "2022-09-16T20:44:32.770833Z",
     "start_time": "2022-09-16T20:44:32.761926Z"
    }
   },
   "outputs": [
    {
     "name": "stdout",
     "output_type": "stream",
     "text": [
      "NeuralNetwork (1, [3, 2], 1), trained for 1 epochs with a final RMSE of [0.7549690018121533]\n"
     ]
    }
   ],
   "source": [
    "print(nnet)"
   ]
  },
  {
   "cell_type": "code",
   "execution_count": 15,
   "metadata": {
    "ExecuteTime": {
     "end_time": "2022-09-16T20:44:32.780487Z",
     "start_time": "2022-09-16T20:44:32.772376Z"
    }
   },
   "outputs": [
    {
     "data": {
      "text/plain": [
       "(array([4.5]), array([2.87228132]))"
      ]
     },
     "execution_count": 15,
     "metadata": {},
     "output_type": "execute_result"
    }
   ],
   "source": [
    "nnet.X_means, nnet.X_stds"
   ]
  },
  {
   "cell_type": "code",
   "execution_count": 16,
   "metadata": {
    "ExecuteTime": {
     "end_time": "2022-09-16T20:44:32.791055Z",
     "start_time": "2022-09-16T20:44:32.781837Z"
    }
   },
   "outputs": [
    {
     "data": {
      "text/plain": [
       "(array([0.48052095]), array([0.754969]))"
      ]
     },
     "execution_count": 16,
     "metadata": {},
     "output_type": "execute_result"
    }
   ],
   "source": [
    "nnet.T_means, nnet.T_stds"
   ]
  },
  {
   "cell_type": "code",
   "execution_count": 17,
   "metadata": {
    "ExecuteTime": {
     "end_time": "2022-09-16T20:44:32.801409Z",
     "start_time": "2022-09-16T20:44:32.792391Z"
    }
   },
   "outputs": [
    {
     "data": {
      "text/plain": [
       "[(10, 1), (10, 3), (10, 2), (10, 1)]"
      ]
     },
     "execution_count": 17,
     "metadata": {},
     "output_type": "execute_result"
    }
   ],
   "source": [
    "[Z.shape for Z in nnet.Zs]"
   ]
  },
  {
   "cell_type": "code",
   "execution_count": 18,
   "metadata": {
    "ExecuteTime": {
     "end_time": "2022-09-16T20:44:32.811612Z",
     "start_time": "2022-09-16T20:44:32.802921Z"
    }
   },
   "outputs": [
    {
     "data": {
      "text/plain": [
       "[array([[-0.31 , -0.106,  0.098],\n",
       "        [-0.298, -0.094,  0.11 ]]),\n",
       " array([[-0.21      , -0.00714286],\n",
       "        [-0.20428571, -0.00142857],\n",
       "        [-0.19857143,  0.00428571],\n",
       "        [-0.19285714,  0.01      ]]),\n",
       " array([[-6.66133815e-18],\n",
       "        [ 1.72409702e-03],\n",
       "        [ 3.91828943e-05]])]"
      ]
     },
     "execution_count": 18,
     "metadata": {},
     "output_type": "execute_result"
    }
   ],
   "source": [
    "nnet.Ws"
   ]
  },
  {
   "cell_type": "code",
   "execution_count": 19,
   "metadata": {
    "ExecuteTime": {
     "end_time": "2022-09-16T20:44:32.822303Z",
     "start_time": "2022-09-16T20:44:32.813047Z"
    }
   },
   "outputs": [
    {
     "data": {
      "text/plain": [
       "['T_means',\n",
       " 'T_stds',\n",
       " 'Ws',\n",
       " 'X_means',\n",
       " 'X_stds',\n",
       " 'Zs',\n",
       " '__class__',\n",
       " '__delattr__',\n",
       " '__dict__',\n",
       " '__dir__',\n",
       " '__doc__',\n",
       " '__eq__',\n",
       " '__format__',\n",
       " '__ge__',\n",
       " '__getattribute__',\n",
       " '__gt__',\n",
       " '__hash__',\n",
       " '__init__',\n",
       " '__init_subclass__',\n",
       " '__le__',\n",
       " '__lt__',\n",
       " '__module__',\n",
       " '__ne__',\n",
       " '__new__',\n",
       " '__reduce__',\n",
       " '__reduce_ex__',\n",
       " '__repr__',\n",
       " '__setattr__',\n",
       " '__sizeof__',\n",
       " '__str__',\n",
       " '__subclasshook__',\n",
       " '__weakref__',\n",
       " '_add_ones',\n",
       " '_forward',\n",
       " '_generate_weights',\n",
       " '_gradients',\n",
       " 'n_epochs',\n",
       " 'n_hiddens_each_layer',\n",
       " 'n_inputs',\n",
       " 'n_outputs',\n",
       " 'rho',\n",
       " 'rmse_score',\n",
       " 'rmse_trace',\n",
       " 'set_weights_for_testing',\n",
       " 'train',\n",
       " 'use']"
      ]
     },
     "execution_count": 19,
     "metadata": {},
     "output_type": "execute_result"
    }
   ],
   "source": [
    "dir(nnet)"
   ]
  },
  {
   "cell_type": "code",
   "execution_count": 20,
   "metadata": {
    "ExecuteTime": {
     "end_time": "2022-09-16T20:44:32.830904Z",
     "start_time": "2022-09-16T20:44:32.824324Z"
    }
   },
   "outputs": [],
   "source": [
    "def plot_data_and_model(nnet, X, T):\n",
    "    plt.clf()        \n",
    "    plt.subplot(2, 1, 1)\n",
    "    plt.plot(nnet.rmse_trace)\n",
    "    plt.xlabel('Epoch')\n",
    "    plt.ylabel('RMSE')\n",
    "\n",
    "    plt.subplot(2, 1, 2)\n",
    "    Y = nnet.use(X)\n",
    "\n",
    "    plt.plot(X, Y, 'o-', label='Y')\n",
    "    plt.plot(X, T, 'o', label='T', alpha=0.5)\n",
    "    plt.xlabel('X')\n",
    "    plt.ylabel('T or Y')\n",
    "    plt.legend();"
   ]
  },
  {
   "cell_type": "code",
   "execution_count": 21,
   "metadata": {
    "ExecuteTime": {
     "end_time": "2022-09-16T20:44:37.845831Z",
     "start_time": "2022-09-16T20:44:32.832764Z"
    },
    "scrolled": false
   },
   "outputs": [
    {
     "data": {
      "image/png": "[encoded data removed]",
      "text/plain": [
       "<Figure size 432x288 with 2 Axes>"
      ]
     },
     "metadata": {
      "needs_background": "light"
     },
     "output_type": "display_data"
    }
   ],
   "source": [
    "X = np.arange(0, 10).reshape(-1, 1)\n",
    "# X = np.arange(0, 0.5, 0.05).reshape(-1, 1)\n",
    "T = np.sin(X) + 0.01 * (X ** 2)\n",
    "\n",
    "n_inputs = X.shape[1]\n",
    "n_outputs = T.shape[1]\n",
    "\n",
    "nnet = NeuralNetwork(n_inputs, [10, 5], n_outputs)\n",
    "nnet.set_weights_for_testing()\n",
    "\n",
    "n_epochs = 5000\n",
    "n_epochs_per_plot = 500\n",
    "\n",
    "\n",
    "fig = plt.figure()\n",
    "for reps in range(n_epochs // n_epochs_per_plot):\n",
    "    plt.clf()\n",
    "    nnet.train(X, T, n_epochs=n_epochs_per_plot, learning_rate=0.05)\n",
    "    plot_data_and_model(nnet, X, T)\n",
    "    ipd.clear_output(wait=True)\n",
    "    ipd.display(fig)\n",
    "    time.sleep(0.2)  # 0.2 seconds\n",
    "ipd.clear_output(wait=True)"
   ]
  },
  {
   "cell_type": "code",
   "execution_count": 22,
   "metadata": {
    "ExecuteTime": {
     "end_time": "2022-09-16T20:45:20.067700Z",
     "start_time": "2022-09-16T20:44:37.847154Z"
    }
   },
   "outputs": [
    {
     "data": {
      "image/png": "[encoded data removed]",
      "text/plain": [
       "<Figure size 432x288 with 2 Axes>"
      ]
     },
     "metadata": {
      "needs_background": "light"
     },
     "output_type": "display_data"
    }
   ],
   "source": [
    "X = np.arange(-2, 2, 0.05).reshape(-1, 1)\n",
    "T = np.sin(X) * np.sin(X * 10)\n",
    "\n",
    "n_inputs = X.shape[1]\n",
    "n_outputs = T.shape[1]\n",
    "\n",
    "nnet = NeuralNetwork(n_inputs, [50, 10, 5], n_outputs)\n",
    "nnet.set_weights_for_testing()\n",
    "\n",
    "n_epochs = 50000\n",
    "n_epochs_per_plot = 500\n",
    "\n",
    "fig = plt.figure()\n",
    "for reps in range(n_epochs // n_epochs_per_plot):\n",
    "    plt.clf()\n",
    "    nnet.train(X, T, n_epochs=n_epochs_per_plot, learning_rate=0.1)\n",
    "    plot_data_and_model(nnet, X, T)\n",
    "    ipd.clear_output(wait=True)\n",
    "    ipd.display(fig)\n",
    "    # time.sleep(0.01)  # 0.01 seconds\n",
    "ipd.clear_output(wait=True)"
   ]
  },
  {
   "cell_type": "markdown",
   "metadata": {},
   "source": [
    "Your results will not be the same, but your code should complete and make plots somewhat similar to these."
   ]
  },
  {
   "cell_type": "markdown",
   "metadata": {},
   "source": [
    "## Application to Boston Housing Data"
   ]
  },
  {
   "cell_type": "markdown",
   "metadata": {},
   "source": [
    "Download data from [Boston House Data at Kaggle](https://www.kaggle.com/fedesoriano/the-boston-houseprice-data). Read it into python using the `pandas.read_csv` function.  Assign the first 13 columns as inputs to `X` and the final column as target values to `T`.  Make sure `T` is two-dimensional."
   ]
  },
  {
   "cell_type": "markdown",
   "metadata": {},
   "source": [
    "Before training your neural networks, partition the data into training and testing partitions, as shown here."
   ]
  },
  {
   "cell_type": "code",
   "execution_count": 23,
   "metadata": {},
   "outputs": [],
   "source": [
    "# Building 27 Data Structures\n",
    "import itertools\n",
    "\n",
    "def partition(X, T, train_fraction):\n",
    "    \"\"\"\n",
    "    Creates train and test datasets.\n",
    "    \n",
    "    :param X: 2D numpy array.\n",
    "              The input variables of the model.\n",
    "    :param T: 2D numpy array\n",
    "              The output variable of the model.\n",
    "    :param X: float\n",
    "              fraction of data in training set.\n",
    "              The input variables of the model.\n",
    "    \n",
    "    return: Xtrain, Ttrain, Xtest, Ttest\n",
    "    \n",
    "    \"\"\"\n",
    "    n_samples = X.shape[0]\n",
    "    rows = np.arange(n_samples)\n",
    "    np.random.shuffle(rows)\n",
    "\n",
    "    n_train = round(n_samples * train_fraction)\n",
    "    Xtrain = X[rows[:n_train], :]\n",
    "    Ttrain = T[rows[:n_train], :]\n",
    "    Xtest = X[rows[n_train:], :]\n",
    "    Ttest = T[rows[n_train:], :]\n",
    "\n",
    "    return Xtrain, Ttrain, Xtest, Ttest\n",
    "\n",
    "def make_param_grid(structure, rho, epoch):\n",
    "    \"\"\"\n",
    "    Makes a gridspace with all possible combinations of input parameters.\n",
    "    \n",
    "    :param structure: list of int\n",
    "                      Number of units in each hidden layers. Each element of the list represents one hidden layer.\n",
    "    :param rho: float\n",
    "                Learning rate of the model.\n",
    "    :param epoch: int\n",
    "                  Number of epoch to run the model.\n",
    "                  \n",
    "    :return: A list of all parameter combinations.\n",
    "    \"\"\"\n",
    "    param_combs = list(itertools.product(*[structure, rho, epoch]))\n",
    "    return param_combs\n",
    "\n",
    "def rmse(Y, T):\n",
    "    \"\"\"\n",
    "    calculates rmse score\n",
    "    \"\"\"\n",
    "    return np.sqrt(np.mean((Y-T)**2))\n",
    "\n",
    "def configure_nnet_model(X, T, structures, rhos, epochs, train_test_ratio):\n",
    "    \"\"\"\n",
    "    Runs the model for number of times of parameter combinations and saves model layout, train rmse, and test rmse. \n",
    "    \n",
    "    :param X: 2D numpy array.\n",
    "              The input variables of the model.\n",
    "    :param T: 2D numpy array\n",
    "              The output variable of the model.\n",
    "    :param structures: A nested list of int, such as [[50, 20], [30, 10]]\n",
    "                       Number of units in each hidden layers. Each element of the list represents one hidden layer.\n",
    "    :param rhos: list of float\n",
    "                 Learning rate of the model.\n",
    "    :param epochs: list of int\n",
    "                   Number of epoch to run the model.\n",
    "    :param train_test_ratio: \n",
    "    \n",
    "    :return: A dataframe with model layouts and respective train test rmse.\n",
    "    \"\"\"\n",
    "    parameter_combinations = make_param_grid(structures, rhos, epochs)\n",
    "\n",
    "    Xtrain, Ttrain, Xtest, Ttest = partition(X, T, train_test_ratio)\n",
    "\n",
    "    n_inputs, n_outputs = Xtrain.shape[1], Ttrain.shape[1]\n",
    "\n",
    "    result_dict = {'Structure': [], 'Epochs': [], 'Learning Rate': [], 'Train RMSE': [], \n",
    "                   'Test RMSE': []}\n",
    "\n",
    "    for params in parameter_combinations:\n",
    "        hidden_layers, rho, epoch = params\n",
    "        print(f'Training for {hidden_layers=}, {rho=}, {epoch=}')\n",
    "        nn_model = NeuralNetwork(n_inputs, hidden_layers, n_outputs)\n",
    "        nn_model.train(Xtrain, Ttrain, epoch, learning_rate=rho)\n",
    "        \n",
    "        # RMSE (No standardization is required)\n",
    "        Ttrain_predicted = nn_model.use(Xtrain)\n",
    "        rmse_train = rmse(Ttrain_predicted, Ttrain)\n",
    "        \n",
    "        Ttest_predicted = nn_model.use(Xtest)\n",
    "        rmse_test = rmse(Ttest_predicted, Ttest)\n",
    "        \n",
    "        # appending results to the result dictionary\n",
    "        result_dict['Structure'].append(hidden_layers)\n",
    "        result_dict['Epochs'].append(epoch)\n",
    "        result_dict['Learning Rate'].append(rho)\n",
    "        result_dict['Train RMSE'].append(rmse_train)\n",
    "        result_dict['Test RMSE'].append(rmse_test)\n",
    "\n",
    "    result_df = pd.DataFrame(result_dict)\n",
    "    result_df.sort_values(by=['Test RMSE'], axis=0, ascending=True, inplace=True)\n",
    "\n",
    "    return result_df"
   ]
  },
  {
   "cell_type": "code",
   "execution_count": 24,
   "metadata": {},
   "outputs": [
    {
     "data": {
      "text/plain": [
       "Index(['CRIM', 'ZN', 'INDUS', 'CHAS', 'NOX', 'RM', 'AGE', 'DIS', 'RAD', 'TAX',\n",
       "       'PTRATIO', 'B', 'LSTAT', 'MEDV'],\n",
       "      dtype='object')"
      ]
     },
     "execution_count": 24,
     "metadata": {},
     "output_type": "execute_result"
    }
   ],
   "source": [
    "# Reading Boston Data\n",
    "boston_df = pd.read_csv('boston.csv')\n",
    "boston_df.columns"
   ]
  },
  {
   "cell_type": "code",
   "execution_count": 25,
   "metadata": {},
   "outputs": [
    {
     "data": {
      "text/html": [
       "<div>\n",
       "<style scoped>\n",
       "    .dataframe tbody tr th:only-of-type {\n",
       "        vertical-align: middle;\n",
       "    }\n",
       "\n",
       "    .dataframe tbody tr th {\n",
       "        vertical-align: top;\n",
       "    }\n",
       "\n",
       "    .dataframe thead th {\n",
       "        text-align: right;\n",
       "    }\n",
       "</style>\n",
       "<table border=\"1\" class=\"dataframe\">\n",
       "  <thead>\n",
       "    <tr style=\"text-align: right;\">\n",
       "      <th></th>\n",
       "      <th>CRIM</th>\n",
       "      <th>ZN</th>\n",
       "      <th>INDUS</th>\n",
       "      <th>CHAS</th>\n",
       "      <th>NOX</th>\n",
       "      <th>RM</th>\n",
       "      <th>AGE</th>\n",
       "      <th>DIS</th>\n",
       "      <th>RAD</th>\n",
       "      <th>TAX</th>\n",
       "      <th>PTRATIO</th>\n",
       "      <th>B</th>\n",
       "      <th>LSTAT</th>\n",
       "    </tr>\n",
       "  </thead>\n",
       "  <tbody>\n",
       "    <tr>\n",
       "      <th>0</th>\n",
       "      <td>0.00632</td>\n",
       "      <td>18.0</td>\n",
       "      <td>2.31</td>\n",
       "      <td>0</td>\n",
       "      <td>0.538</td>\n",
       "      <td>6.575</td>\n",
       "      <td>65.2</td>\n",
       "      <td>4.0900</td>\n",
       "      <td>1</td>\n",
       "      <td>296.0</td>\n",
       "      <td>15.3</td>\n",
       "      <td>396.90</td>\n",
       "      <td>4.98</td>\n",
       "    </tr>\n",
       "    <tr>\n",
       "      <th>1</th>\n",
       "      <td>0.02731</td>\n",
       "      <td>0.0</td>\n",
       "      <td>7.07</td>\n",
       "      <td>0</td>\n",
       "      <td>0.469</td>\n",
       "      <td>6.421</td>\n",
       "      <td>78.9</td>\n",
       "      <td>4.9671</td>\n",
       "      <td>2</td>\n",
       "      <td>242.0</td>\n",
       "      <td>17.8</td>\n",
       "      <td>396.90</td>\n",
       "      <td>9.14</td>\n",
       "    </tr>\n",
       "    <tr>\n",
       "      <th>2</th>\n",
       "      <td>0.02729</td>\n",
       "      <td>0.0</td>\n",
       "      <td>7.07</td>\n",
       "      <td>0</td>\n",
       "      <td>0.469</td>\n",
       "      <td>7.185</td>\n",
       "      <td>61.1</td>\n",
       "      <td>4.9671</td>\n",
       "      <td>2</td>\n",
       "      <td>242.0</td>\n",
       "      <td>17.8</td>\n",
       "      <td>392.83</td>\n",
       "      <td>4.03</td>\n",
       "    </tr>\n",
       "    <tr>\n",
       "      <th>3</th>\n",
       "      <td>0.03237</td>\n",
       "      <td>0.0</td>\n",
       "      <td>2.18</td>\n",
       "      <td>0</td>\n",
       "      <td>0.458</td>\n",
       "      <td>6.998</td>\n",
       "      <td>45.8</td>\n",
       "      <td>6.0622</td>\n",
       "      <td>3</td>\n",
       "      <td>222.0</td>\n",
       "      <td>18.7</td>\n",
       "      <td>394.63</td>\n",
       "      <td>2.94</td>\n",
       "    </tr>\n",
       "    <tr>\n",
       "      <th>4</th>\n",
       "      <td>0.06905</td>\n",
       "      <td>0.0</td>\n",
       "      <td>2.18</td>\n",
       "      <td>0</td>\n",
       "      <td>0.458</td>\n",
       "      <td>7.147</td>\n",
       "      <td>54.2</td>\n",
       "      <td>6.0622</td>\n",
       "      <td>3</td>\n",
       "      <td>222.0</td>\n",
       "      <td>18.7</td>\n",
       "      <td>396.90</td>\n",
       "      <td>5.33</td>\n",
       "    </tr>\n",
       "  </tbody>\n",
       "</table>\n",
       "</div>"
      ],
      "text/plain": [
       "      CRIM    ZN  INDUS  CHAS    NOX     RM   AGE     DIS  RAD    TAX  \\\n",
       "0  0.00632  18.0   2.31     0  0.538  6.575  65.2  4.0900    1  296.0   \n",
       "1  0.02731   0.0   7.07     0  0.469  6.421  78.9  4.9671    2  242.0   \n",
       "2  0.02729   0.0   7.07     0  0.469  7.185  61.1  4.9671    2  242.0   \n",
       "3  0.03237   0.0   2.18     0  0.458  6.998  45.8  6.0622    3  222.0   \n",
       "4  0.06905   0.0   2.18     0  0.458  7.147  54.2  6.0622    3  222.0   \n",
       "\n",
       "   PTRATIO       B  LSTAT  \n",
       "0     15.3  396.90   4.98  \n",
       "1     17.8  396.90   9.14  \n",
       "2     17.8  392.83   4.03  \n",
       "3     18.7  394.63   2.94  \n",
       "4     18.7  396.90   5.33  "
      ]
     },
     "execution_count": 25,
     "metadata": {},
     "output_type": "execute_result"
    }
   ],
   "source": [
    "X_df = boston_df.iloc[:, :-1]\n",
    "T_df = boston_df.iloc[:, -1:]\n",
    "X_df.head()"
   ]
  },
  {
   "cell_type": "code",
   "execution_count": 26,
   "metadata": {
    "scrolled": true
   },
   "outputs": [
    {
     "data": {
      "text/html": [
       "<div>\n",
       "<style scoped>\n",
       "    .dataframe tbody tr th:only-of-type {\n",
       "        vertical-align: middle;\n",
       "    }\n",
       "\n",
       "    .dataframe tbody tr th {\n",
       "        vertical-align: top;\n",
       "    }\n",
       "\n",
       "    .dataframe thead th {\n",
       "        text-align: right;\n",
       "    }\n",
       "</style>\n",
       "<table border=\"1\" class=\"dataframe\">\n",
       "  <thead>\n",
       "    <tr style=\"text-align: right;\">\n",
       "      <th></th>\n",
       "      <th>MEDV</th>\n",
       "    </tr>\n",
       "  </thead>\n",
       "  <tbody>\n",
       "    <tr>\n",
       "      <th>0</th>\n",
       "      <td>24.0</td>\n",
       "    </tr>\n",
       "    <tr>\n",
       "      <th>1</th>\n",
       "      <td>21.6</td>\n",
       "    </tr>\n",
       "    <tr>\n",
       "      <th>2</th>\n",
       "      <td>34.7</td>\n",
       "    </tr>\n",
       "    <tr>\n",
       "      <th>3</th>\n",
       "      <td>33.4</td>\n",
       "    </tr>\n",
       "    <tr>\n",
       "      <th>4</th>\n",
       "      <td>36.2</td>\n",
       "    </tr>\n",
       "  </tbody>\n",
       "</table>\n",
       "</div>"
      ],
      "text/plain": [
       "   MEDV\n",
       "0  24.0\n",
       "1  21.6\n",
       "2  34.7\n",
       "3  33.4\n",
       "4  36.2"
      ]
     },
     "execution_count": 26,
     "metadata": {},
     "output_type": "execute_result"
    }
   ],
   "source": [
    "T_df.head()"
   ]
  },
  {
   "cell_type": "code",
   "execution_count": 27,
   "metadata": {},
   "outputs": [],
   "source": [
    "X = X_df.to_numpy()\n",
    "T = T_df.to_numpy()"
   ]
  },
  {
   "cell_type": "code",
   "execution_count": 28,
   "metadata": {},
   "outputs": [
    {
     "data": {
      "text/plain": [
       "array([[1.50380e-01, 0.00000e+00, 2.56500e+01, ..., 3.70310e+02,\n",
       "        2.54100e+01, 1.73000e+01],\n",
       "       [4.42228e+00, 0.00000e+00, 1.81000e+01, ..., 3.31290e+02,\n",
       "        2.13200e+01, 1.91000e+01],\n",
       "       [4.75470e-01, 0.00000e+00, 9.90000e+00, ..., 3.96230e+02,\n",
       "        1.27300e+01, 2.10000e+01],\n",
       "       ...,\n",
       "       [1.28160e-01, 1.25000e+01, 6.07000e+00, ..., 3.96900e+02,\n",
       "        8.79000e+00, 2.09000e+01],\n",
       "       [5.09017e+00, 0.00000e+00, 1.81000e+01, ..., 3.85090e+02,\n",
       "        1.72700e+01, 1.61000e+01],\n",
       "       [1.44383e+01, 0.00000e+00, 1.81000e+01, ..., 1.79360e+02,\n",
       "        1.97800e+01, 2.75000e+01]])"
      ]
     },
     "execution_count": 28,
     "metadata": {},
     "output_type": "execute_result"
    }
   ],
   "source": [
    "# Train Test partition using partition() function\n",
    "Xtrain, Ttrain, Xtest, Ttest = partition(X, T, train_fraction=0.7)\n",
    "np.hstack((Xtest, Ttest))"
   ]
  },
  {
   "cell_type": "markdown",
   "metadata": {},
   "source": [
    "Write and run code using your `NeuralNetwork` class to model the Boston housing data. Experiment with a variety of neural network structures (numbers of hidden layer and units) including no hidden layers, learning rates, and numbers of epochs. Show results for at least three different **network structures, learning rates, and numbers of epochs** for a total of at least 27 results.  Show your results in a `pandas` DataFrame with columns `('Structure', 'Epochs', 'Learning Rate', 'Train RMSE', 'Test RMSE')`.\n",
    "\n",
    "Try to find good values for the RMSE on testing data.  Discuss your results, including how good you think the RMSE values are by considering the range of house values given in the data. "
   ]
  },
  {
   "cell_type": "code",
   "execution_count": 29,
   "metadata": {},
   "outputs": [
    {
     "name": "stdout",
     "output_type": "stream",
     "text": [
      "Training for hidden_layers=[30, 20, 10, 5], rho=0.001, epoch=2000\n",
      "Training for hidden_layers=[30, 20, 10, 5], rho=0.001, epoch=5000\n",
      "Training for hidden_layers=[30, 20, 10, 5], rho=0.001, epoch=10000\n",
      "Training for hidden_layers=[30, 20, 10, 5], rho=0.005, epoch=2000\n",
      "Training for hidden_layers=[30, 20, 10, 5], rho=0.005, epoch=5000\n",
      "Training for hidden_layers=[30, 20, 10, 5], rho=0.005, epoch=10000\n",
      "Training for hidden_layers=[30, 20, 10, 5], rho=0.01, epoch=2000\n",
      "Training for hidden_layers=[30, 20, 10, 5], rho=0.01, epoch=5000\n",
      "Training for hidden_layers=[30, 20, 10, 5], rho=0.01, epoch=10000\n",
      "Training for hidden_layers=[10, 5], rho=0.001, epoch=2000\n",
      "Training for hidden_layers=[10, 5], rho=0.001, epoch=5000\n",
      "Training for hidden_layers=[10, 5], rho=0.001, epoch=10000\n",
      "Training for hidden_layers=[10, 5], rho=0.005, epoch=2000\n",
      "Training for hidden_layers=[10, 5], rho=0.005, epoch=5000\n",
      "Training for hidden_layers=[10, 5], rho=0.005, epoch=10000\n",
      "Training for hidden_layers=[10, 5], rho=0.01, epoch=2000\n",
      "Training for hidden_layers=[10, 5], rho=0.01, epoch=5000\n",
      "Training for hidden_layers=[10, 5], rho=0.01, epoch=10000\n",
      "Training for hidden_layers=[], rho=0.001, epoch=2000\n",
      "Training for hidden_layers=[], rho=0.001, epoch=5000\n",
      "Training for hidden_layers=[], rho=0.001, epoch=10000\n",
      "Training for hidden_layers=[], rho=0.005, epoch=2000\n",
      "Training for hidden_layers=[], rho=0.005, epoch=5000\n",
      "Training for hidden_layers=[], rho=0.005, epoch=10000\n",
      "Training for hidden_layers=[], rho=0.01, epoch=2000\n",
      "Training for hidden_layers=[], rho=0.01, epoch=5000\n",
      "Training for hidden_layers=[], rho=0.01, epoch=10000\n"
     ]
    },
    {
     "data": {
      "text/html": [
       "<div>\n",
       "<style scoped>\n",
       "    .dataframe tbody tr th:only-of-type {\n",
       "        vertical-align: middle;\n",
       "    }\n",
       "\n",
       "    .dataframe tbody tr th {\n",
       "        vertical-align: top;\n",
       "    }\n",
       "\n",
       "    .dataframe thead th {\n",
       "        text-align: right;\n",
       "    }\n",
       "</style>\n",
       "<table border=\"1\" class=\"dataframe\">\n",
       "  <thead>\n",
       "    <tr style=\"text-align: right;\">\n",
       "      <th></th>\n",
       "      <th>Structure</th>\n",
       "      <th>Epochs</th>\n",
       "      <th>Learning Rate</th>\n",
       "      <th>Train RMSE</th>\n",
       "      <th>Test RMSE</th>\n",
       "    </tr>\n",
       "  </thead>\n",
       "  <tbody>\n",
       "    <tr>\n",
       "      <th>26</th>\n",
       "      <td>[]</td>\n",
       "      <td>10000</td>\n",
       "      <td>0.010</td>\n",
       "      <td>4.708426</td>\n",
       "      <td>4.716895</td>\n",
       "    </tr>\n",
       "    <tr>\n",
       "      <th>25</th>\n",
       "      <td>[]</td>\n",
       "      <td>5000</td>\n",
       "      <td>0.010</td>\n",
       "      <td>4.708528</td>\n",
       "      <td>4.720092</td>\n",
       "    </tr>\n",
       "    <tr>\n",
       "      <th>23</th>\n",
       "      <td>[]</td>\n",
       "      <td>10000</td>\n",
       "      <td>0.005</td>\n",
       "      <td>4.708528</td>\n",
       "      <td>4.720094</td>\n",
       "    </tr>\n",
       "    <tr>\n",
       "      <th>22</th>\n",
       "      <td>[]</td>\n",
       "      <td>5000</td>\n",
       "      <td>0.005</td>\n",
       "      <td>4.711002</td>\n",
       "      <td>4.736562</td>\n",
       "    </tr>\n",
       "    <tr>\n",
       "      <th>24</th>\n",
       "      <td>[]</td>\n",
       "      <td>2000</td>\n",
       "      <td>0.010</td>\n",
       "      <td>4.713414</td>\n",
       "      <td>4.746626</td>\n",
       "    </tr>\n",
       "    <tr>\n",
       "      <th>21</th>\n",
       "      <td>[]</td>\n",
       "      <td>2000</td>\n",
       "      <td>0.005</td>\n",
       "      <td>4.730785</td>\n",
       "      <td>4.796795</td>\n",
       "    </tr>\n",
       "    <tr>\n",
       "      <th>20</th>\n",
       "      <td>[]</td>\n",
       "      <td>10000</td>\n",
       "      <td>0.001</td>\n",
       "      <td>4.730795</td>\n",
       "      <td>4.796818</td>\n",
       "    </tr>\n",
       "    <tr>\n",
       "      <th>19</th>\n",
       "      <td>[]</td>\n",
       "      <td>5000</td>\n",
       "      <td>0.001</td>\n",
       "      <td>4.772223</td>\n",
       "      <td>4.877371</td>\n",
       "    </tr>\n",
       "    <tr>\n",
       "      <th>18</th>\n",
       "      <td>[]</td>\n",
       "      <td>2000</td>\n",
       "      <td>0.001</td>\n",
       "      <td>4.881085</td>\n",
       "      <td>5.026268</td>\n",
       "    </tr>\n",
       "    <tr>\n",
       "      <th>17</th>\n",
       "      <td>[10, 5]</td>\n",
       "      <td>10000</td>\n",
       "      <td>0.010</td>\n",
       "      <td>9.264352</td>\n",
       "      <td>9.008369</td>\n",
       "    </tr>\n",
       "    <tr>\n",
       "      <th>16</th>\n",
       "      <td>[10, 5]</td>\n",
       "      <td>5000</td>\n",
       "      <td>0.010</td>\n",
       "      <td>9.264352</td>\n",
       "      <td>9.008369</td>\n",
       "    </tr>\n",
       "    <tr>\n",
       "      <th>14</th>\n",
       "      <td>[10, 5]</td>\n",
       "      <td>10000</td>\n",
       "      <td>0.005</td>\n",
       "      <td>9.264352</td>\n",
       "      <td>9.008370</td>\n",
       "    </tr>\n",
       "    <tr>\n",
       "      <th>13</th>\n",
       "      <td>[10, 5]</td>\n",
       "      <td>5000</td>\n",
       "      <td>0.005</td>\n",
       "      <td>9.264353</td>\n",
       "      <td>9.008371</td>\n",
       "    </tr>\n",
       "    <tr>\n",
       "      <th>11</th>\n",
       "      <td>[10, 5]</td>\n",
       "      <td>10000</td>\n",
       "      <td>0.001</td>\n",
       "      <td>9.264354</td>\n",
       "      <td>9.008371</td>\n",
       "    </tr>\n",
       "    <tr>\n",
       "      <th>15</th>\n",
       "      <td>[10, 5]</td>\n",
       "      <td>2000</td>\n",
       "      <td>0.010</td>\n",
       "      <td>9.264354</td>\n",
       "      <td>9.008371</td>\n",
       "    </tr>\n",
       "    <tr>\n",
       "      <th>12</th>\n",
       "      <td>[10, 5]</td>\n",
       "      <td>2000</td>\n",
       "      <td>0.005</td>\n",
       "      <td>9.264354</td>\n",
       "      <td>9.008371</td>\n",
       "    </tr>\n",
       "    <tr>\n",
       "      <th>10</th>\n",
       "      <td>[10, 5]</td>\n",
       "      <td>5000</td>\n",
       "      <td>0.001</td>\n",
       "      <td>9.264354</td>\n",
       "      <td>9.008371</td>\n",
       "    </tr>\n",
       "    <tr>\n",
       "      <th>9</th>\n",
       "      <td>[10, 5]</td>\n",
       "      <td>2000</td>\n",
       "      <td>0.001</td>\n",
       "      <td>9.264354</td>\n",
       "      <td>9.008371</td>\n",
       "    </tr>\n",
       "    <tr>\n",
       "      <th>8</th>\n",
       "      <td>[30, 20, 10, 5]</td>\n",
       "      <td>10000</td>\n",
       "      <td>0.010</td>\n",
       "      <td>9.264354</td>\n",
       "      <td>9.008371</td>\n",
       "    </tr>\n",
       "    <tr>\n",
       "      <th>3</th>\n",
       "      <td>[30, 20, 10, 5]</td>\n",
       "      <td>2000</td>\n",
       "      <td>0.005</td>\n",
       "      <td>9.264354</td>\n",
       "      <td>9.008371</td>\n",
       "    </tr>\n",
       "    <tr>\n",
       "      <th>1</th>\n",
       "      <td>[30, 20, 10, 5]</td>\n",
       "      <td>5000</td>\n",
       "      <td>0.001</td>\n",
       "      <td>9.264354</td>\n",
       "      <td>9.008371</td>\n",
       "    </tr>\n",
       "    <tr>\n",
       "      <th>2</th>\n",
       "      <td>[30, 20, 10, 5]</td>\n",
       "      <td>10000</td>\n",
       "      <td>0.001</td>\n",
       "      <td>9.264354</td>\n",
       "      <td>9.008371</td>\n",
       "    </tr>\n",
       "    <tr>\n",
       "      <th>7</th>\n",
       "      <td>[30, 20, 10, 5]</td>\n",
       "      <td>5000</td>\n",
       "      <td>0.010</td>\n",
       "      <td>9.264354</td>\n",
       "      <td>9.008371</td>\n",
       "    </tr>\n",
       "    <tr>\n",
       "      <th>5</th>\n",
       "      <td>[30, 20, 10, 5]</td>\n",
       "      <td>10000</td>\n",
       "      <td>0.005</td>\n",
       "      <td>9.264354</td>\n",
       "      <td>9.008371</td>\n",
       "    </tr>\n",
       "    <tr>\n",
       "      <th>4</th>\n",
       "      <td>[30, 20, 10, 5]</td>\n",
       "      <td>5000</td>\n",
       "      <td>0.005</td>\n",
       "      <td>9.264354</td>\n",
       "      <td>9.008371</td>\n",
       "    </tr>\n",
       "    <tr>\n",
       "      <th>0</th>\n",
       "      <td>[30, 20, 10, 5]</td>\n",
       "      <td>2000</td>\n",
       "      <td>0.001</td>\n",
       "      <td>9.264354</td>\n",
       "      <td>9.008371</td>\n",
       "    </tr>\n",
       "    <tr>\n",
       "      <th>6</th>\n",
       "      <td>[30, 20, 10, 5]</td>\n",
       "      <td>2000</td>\n",
       "      <td>0.010</td>\n",
       "      <td>9.264354</td>\n",
       "      <td>9.008371</td>\n",
       "    </tr>\n",
       "  </tbody>\n",
       "</table>\n",
       "</div>"
      ],
      "text/plain": [
       "          Structure  Epochs  Learning Rate  Train RMSE  Test RMSE\n",
       "26               []   10000          0.010    4.708426   4.716895\n",
       "25               []    5000          0.010    4.708528   4.720092\n",
       "23               []   10000          0.005    4.708528   4.720094\n",
       "22               []    5000          0.005    4.711002   4.736562\n",
       "24               []    2000          0.010    4.713414   4.746626\n",
       "21               []    2000          0.005    4.730785   4.796795\n",
       "20               []   10000          0.001    4.730795   4.796818\n",
       "19               []    5000          0.001    4.772223   4.877371\n",
       "18               []    2000          0.001    4.881085   5.026268\n",
       "17          [10, 5]   10000          0.010    9.264352   9.008369\n",
       "16          [10, 5]    5000          0.010    9.264352   9.008369\n",
       "14          [10, 5]   10000          0.005    9.264352   9.008370\n",
       "13          [10, 5]    5000          0.005    9.264353   9.008371\n",
       "11          [10, 5]   10000          0.001    9.264354   9.008371\n",
       "15          [10, 5]    2000          0.010    9.264354   9.008371\n",
       "12          [10, 5]    2000          0.005    9.264354   9.008371\n",
       "10          [10, 5]    5000          0.001    9.264354   9.008371\n",
       "9           [10, 5]    2000          0.001    9.264354   9.008371\n",
       "8   [30, 20, 10, 5]   10000          0.010    9.264354   9.008371\n",
       "3   [30, 20, 10, 5]    2000          0.005    9.264354   9.008371\n",
       "1   [30, 20, 10, 5]    5000          0.001    9.264354   9.008371\n",
       "2   [30, 20, 10, 5]   10000          0.001    9.264354   9.008371\n",
       "7   [30, 20, 10, 5]    5000          0.010    9.264354   9.008371\n",
       "5   [30, 20, 10, 5]   10000          0.005    9.264354   9.008371\n",
       "4   [30, 20, 10, 5]    5000          0.005    9.264354   9.008371\n",
       "0   [30, 20, 10, 5]    2000          0.001    9.264354   9.008371\n",
       "6   [30, 20, 10, 5]    2000          0.010    9.264354   9.008371"
      ]
     },
     "execution_count": 29,
     "metadata": {},
     "output_type": "execute_result"
    }
   ],
   "source": [
    "# Searching for best model layout for Boston data\n",
    "nnet_structure = [[30, 20, 10, 5], [10, 5], []]\n",
    "nnet_rho = [0.001, 0.005, 0.01]\n",
    "nnet_epoch = [2000, 5000, 10000]\n",
    "\n",
    "results = configure_nnet_model(X, T, nnet_structure, nnet_rho, nnet_epoch, train_test_ratio=0.7)\n",
    "results"
   ]
  },
  {
   "cell_type": "markdown",
   "metadata": {},
   "source": [
    "<h3> Discussion </h3>\n",
    "\n",
    "<b>Three</b> types of model structures were tested for the designed Neural Network class using the <b>Boston</b> dataset.\n",
    "\n",
    "1. More hidden layers: [20, 10, 10, 5]\n",
    "2. Less hidden layers: [10, 5]\n",
    "3. No hidden layers: []\n",
    "\n",
    "Surprisingly, <b> No hidden layers</b> NN models performs the best in terms of RMSE values. Test rmse is higher than train rmse, which means there is no overfitting. The best possible reason for such good performance can be -the variables in boston dataset are very linearly connected to the output variable 'median value'. So, even model with no hidden layers work that well. With this fewer training sample and 13 number of variables, a model with no hidden layer might be the best model.\n",
    "\n",
    "<b> Less hidden layers </b> NN models and <b> More hidden layers </b> NN models work almost same with the data. The created models are overfitting the data with lower test rmse than train rmse. It seems like non-linear models with hidden layers might not be the best fit for a dataset with such low number of samples. If there were more samples, hidden layers might have been been able to find out underlying patterns and generate better results.\n",
    "\n",
    "The output variable's maximum and minimum range in between **50 to 5**. Test rmse of 5.28 (lowest found during the experiment) indicates that the model with no hidden layer is going to perform relatively better for samples with output value near the maximum. As discussed above, the models with hidden layers will work relatively poorer. Possibly, more samples in the training dataset, higher number of epochs, and more complex neural networks would be able to perform better on the dataset with lower rmse values."
   ]
  },
  {
   "cell_type": "markdown",
   "metadata": {},
   "source": [
    "# Grading\n",
    "\n",
    "Your notebook will be run and graded automatically. Test this grading process by first downloading [A2grader.tar](http://www.cs.colostate.edu/~anderson/cs545/notebooks/A2grader.tar) and extract `A2grader.py` from it. Run the code in the following cell to demonstrate an example grading session.  The remaining 20 points will be based on your discussion of this assignment.\n",
    "\n",
    "A different, but similar, grading script will be used to grade your checked-in notebook. It will include additional tests. You should design and perform additional tests on all of your functions to be sure they run correctly before checking in your notebook.  \n",
    "\n",
    "For the grading script to run correctly, you must first name this notebook as `Lastname-A2.ipynb` with `Lastname` being your last name, and then save this notebook."
   ]
  },
  {
   "cell_type": "code",
   "execution_count": 30,
   "metadata": {
    "ExecuteTime": {
     "end_time": "2022-09-16T21:17:11.112089Z",
     "start_time": "2022-09-16T21:17:08.965640Z"
    },
    "scrolled": false
   },
   "outputs": [
    {
     "name": "stdout",
     "output_type": "stream",
     "text": [
      "\n",
      "======================= Code Execution =======================\n",
      "\n",
      "Extracting python code from notebook named 'A2 NeuralNetwork Class.ipynb' and storing in notebookcode.py\n",
      "Removing all statements that are not function or class defs or import statements.\n",
      "\n",
      "Testing\n",
      "\n",
      "    n_inputs = 3\n",
      "    n_hiddens = [2, 1]\n",
      "    n_outputs = 2\n",
      "    n_samples = 5\n",
      "\n",
      "    X = np.arange(n_samples * n_inputs).reshape(n_samples, n_inputs) * 0.1\n",
      "    T = np.hstack((X, X*2))\n",
      "\n",
      "    nnet = NeuralNetwork(n_inputs, n_hiddens, n_outputs)\n",
      "    nnet.set_weights_for_testing()\n",
      "\n",
      "    # Set standardization variables so use() will run\n",
      "    nnet.X_means = 0\n",
      "    nnet.X_stds = 1\n",
      "    nnet.T_means = 0\n",
      "    nnet.T_stds = 1\n",
      "    \n",
      "    Y = nnet.use(X)\n",
      "\n",
      "Weights set for testing by calling set_weights_for_testing()\n",
      "\n",
      "--- 20/20 points. Returned correct value.\n",
      "\n",
      "Testing\n",
      "\n",
      "    n_inputs = 3\n",
      "    n_hiddens = []   # NO HIDDEN LAYERS.  SO THE NEURAL NET IS JUST A LINEAR MODEL.\n",
      "    n_samples = 5\n",
      "\n",
      "    X = np.arange(n_samples * n_inputs).reshape(n_samples, n_inputs) * 0.1\n",
      "    T = np.hstack((X, X*2))\n",
      "    n_outputs = T.shape[1]\n",
      "\n",
      "    nnet = NeuralNetwork(n_inputs, n_hiddens, n_outputs)\n",
      "    nnet.set_weights_for_testing()\n",
      "\n",
      "    nnet.train(X, T, 1000, 0.01)\n",
      "    Y = nnet.use(X)\n",
      "\n",
      "Weights set for testing by calling set_weights_for_testing()\n",
      "\n",
      "--- 20/20 points. Returned correct value.\n",
      "\n",
      "Testing\n",
      "    n_inputs = 3\n",
      "    n_hiddens = [20, 20, 10, 10, 5]\n",
      "    n_samples = 5\n",
      "\n",
      "    X = np.arange(n_samples * n_inputs).reshape(n_samples, n_inputs) * 0.1\n",
      "    T = np.log(X + 0.1)\n",
      "    n_outputs = T.shape[1]\n",
      "    \n",
      "    def rmse(A, B):\n",
      "        return np.sqrt(np.mean((A - B)**2))\n",
      "\n",
      "    nnet = NeuralNetwork(n_inputs, n_hiddens, n_outputs)\n",
      "    nnet.set_weights_for_testing()\n",
      "\n",
      "    nnet.train(X, T, 6000, 0.01)\n",
      "    Y = nnet.use(X)\n",
      "    err = rmse(Y, T)\n",
      "    print('RMSE', rmse(Y, T))\n",
      "\n",
      "Weights set for testing by calling set_weights_for_testing()\n",
      "RMSE 0.03891978132299609\n",
      "\n",
      "--- 40/40 points. Returned correct value.\n",
      "\n",
      "======================================================================\n",
      "F:\\PhD_Course_materials_documents\\Course_Materials_Fall_2022\\CS_545_Machine_Learning\\Assignments\\Assignment_2 Execution Grade is 80 / 80\n",
      "======================================================================\n",
      "\n",
      "___ / 5 Correctly read in Boston housing data using pandas.read_csv.\n",
      "___ / 5 Correctly created X and T and training and testing partitions.\n",
      "___ / 5 Correctly ran the required experiments.\n",
      "___ / 5 Provided a sufficient description of your experiments and results.\n",
      "\n",
      "======================================================================\n",
      "F:\\PhD_Course_materials_documents\\Course_Materials_Fall_2022\\CS_545_Machine_Learning\\Assignments\\Assignment_2 Experiments and Discussion Grade is __ / 20\n",
      "======================================================================\n",
      "\n",
      "======================================================================\n",
      "F:\\PhD_Course_materials_documents\\Course_Materials_Fall_2022\\CS_545_Machine_Learning\\Assignments\\Assignment_2 FINAL GRADE is  ___ / 100\n",
      "======================================================================\n",
      "\n",
      "Extra Credit:\n",
      "\n",
      "Apply your functions to a data set from the UCI Machine Learning Repository.\n",
      "Explain your steps and results in markdown cells.\n",
      "\n",
      "\n",
      "F:\\PhD_Course_materials_documents\\Course_Materials_Fall_2022\\CS_545_Machine_Learning\\Assignments\\Assignment_2 EXTRA CREDIT is 0 / 1\n"
     ]
    },
    {
     "data": {
      "text/plain": [
       "<Figure size 432x288 with 0 Axes>"
      ]
     },
     "metadata": {},
     "output_type": "display_data"
    }
   ],
   "source": [
    "%run -i A2grader.py"
   ]
  },
  {
   "cell_type": "markdown",
   "metadata": {},
   "source": [
    "# Extra Credit\n",
    "\n",
    "Apply your multilayer neural network code to a regression problem using data that you choose \n",
    "from the [UCI Machine Learning Repository](http://archive.ics.uci.edu/ml/datasets.php). Pick a dataset that\n",
    "is listed as being appropriate for regression."
   ]
  }
 ],
 "metadata": {
  "kernelspec": {
   "display_name": "Python 3 (ipykernel)",
   "language": "python",
   "name": "python3"
  },
  "language_info": {
   "codemirror_mode": {
    "name": "ipython",
    "version": 3
   },
   "file_extension": ".py",
   "mimetype": "text/x-python",
   "name": "python",
   "nbconvert_exporter": "python",
   "pygments_lexer": "ipython3",
   "version": "3.8.13"
  },
  "toc": {
   "base_numbering": 1,
   "nav_menu": {},
   "number_sections": false,
   "sideBar": true,
   "skip_h1_title": true,
   "title_cell": "Table of Contents",
   "title_sidebar": "Contents",
   "toc_cell": true,
   "toc_position": {
    "height": "calc(100% - 180px)",
    "left": "10px",
    "top": "150px",
    "width": "512px"
   },
   "toc_section_display": true,
   "toc_window_display": false
  }
 },
 "nbformat": 4,
 "nbformat_minor": 4
}
