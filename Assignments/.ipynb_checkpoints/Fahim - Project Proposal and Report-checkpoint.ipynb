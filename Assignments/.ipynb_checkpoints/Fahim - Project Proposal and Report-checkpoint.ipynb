{
 "cells": [
  {
   "cell_type": "markdown",
   "metadata": {},
   "source": [
    "# Applications of Deep Learning in Hydrology: Improving Prediction Accuracy and Revealing Underlying Processes"
   ]
  },
  {
   "cell_type": "markdown",
   "metadata": {},
   "source": [
    "*by Md Fahim Hasan, October 26, 2022* "
   ]
  },
  {
   "cell_type": "markdown",
   "metadata": {},
   "source": [
    "Please follow the structure of this example proposal.  Change all text except the headings.\n",
    "\n",
    "At the end is a code cell that counts words for you.\n"
   ]
  },
  {
   "cell_type": "markdown",
   "metadata": {},
   "source": [
    "## Introduction"
   ]
  },
  {
   "cell_type": "markdown",
   "metadata": {},
   "source": [
    "Hydrology is the science of quantifying and understanding the water cycle and how that affects land surface and atmospheric processes. In this crucial crossroad era of climate change, hydrology is one of the principal domain of science that scientists are using to understand climate change impacts. Hydrologic processes are complex and highly data-driven. Due to shortage of in-situ estimates of hydrologic fluxes (precipitation, evapotranspiration, surface runoff, etc.), scientists are becoming more inclined to satellite-based estimates of these fluxes. Fortunately, advancement in space era is offering us with plenty of datasets, ushering the age of big data (remote sensing and geospatial datasets) in hydrology. \n",
    "\n",
    "These advancements have presented some new challenges. The traditional process-based (numerical/physical) models that hydrologists have been using are not suitable for handling the big data, either because of not being  computationally robust or the physics based equations in such models are not fitted for big data. These limitations have encouraged hydrologists to incorporate machine/deep learning (ML/DL) based models in hydrology. Such model are not dependent on process-based equations and offer high prediction accuracy. But still, it is crucial to understand the underlysing physical processes driving the predictions. Though some ML/DL methods offers shallow level insights of the physical processes, the increasing concern is how to improve ML/DL based methodologies that will be able to predict with high accuracy while following the process based mechanisms, providing scientists with information about involved hydrologic processes.\n",
    "\n",
    "In this porject, I will discuss some recent papers of hydrologic ML/DL domain. Some of these research have developed models with high prediction accuracy but does not offer physical insights. On the other hand, some papers incorporate physical models with ML/DL approach, offering not only high accuracy predictions, but also provides good understanding of internal hydrologic process of the model."
   ]
  },
  {
   "cell_type": "markdown",
   "metadata": {},
   "source": [
    "## Methods"
   ]
  },
  {
   "cell_type": "markdown",
   "metadata": {},
   "source": [
    "The studies that I will analyze incorporate various ML/DL techniques, some using hybrid techniques (ML/DL + Processe based models) in their methodology. I have gathered some prilimanary studies using different techniques for their analysis, such as-\n",
    "\n",
    " - Jian et al. 2020 - process-wrapped neural network (general NN framework based on physical rules) \n",
    " - Solgi et al. 2021 - Long short-term memory neural network (LSTM-NN)\n",
    " - Feng et al. 2022 - diffentiable neural network that can calibrate parameters of physical models\n",
    "\n",
    "The method of my project will involve the following tasks-\n",
    "1. Collecting papers of high impact : 4 November, 2022.\n",
    "2. Looking into the papers and understanding their methods : 11 November, 2022.\n",
    "3. Describe ML/DL architectures the papers used : 18 November, 2022.\n",
    "4. Analysis of future directions and possibilties : 2 December, 2022.\n",
    "5. Writing analysis of my study and results : 9 December, 2022."
   ]
  },
  {
   "cell_type": "markdown",
   "metadata": {},
   "source": [
    "## Results"
   ]
  },
  {
   "cell_type": "markdown",
   "metadata": {},
   "source": [
    "In the result, I will present a detail analysis of differnt methods used in the papers, their strengths and limitations. I will also discuss the research gap that exists in hydrologic big data domain and ways to overcome that. As a researcher in grounwater hydrology, I will also try to propose a plan that I will possibly incorporate in my research using/improving the ideas from these papers."
   ]
  },
  {
   "cell_type": "markdown",
   "metadata": {},
   "source": [
    "## Conclusions"
   ]
  },
  {
   "cell_type": "markdown",
   "metadata": {},
   "source": [
    "Here, I will provide a general conclusion about the advancement of ML/DL based techniques in hydrology and future directions to follow."
   ]
  },
  {
   "cell_type": "markdown",
   "metadata": {},
   "source": [
    "### References"
   ]
  },
  {
   "cell_type": "markdown",
   "metadata": {},
   "source": [
    "* [Goodfellow, et al., 2016] Ian Goodfellow and Yoshua Bengio and Aaron Courville, [Deep Learning](http://www.deeplearningbook.org), MIT Press. 2014."
   ]
  },
  {
   "cell_type": "markdown",
   "metadata": {
    "collapsed": true
   },
   "source": [
    "There is no word count expectations for your proposal.\n",
    "\n",
    "Your final report should contain 2,000 to 3,000 words, times the number of team members.  Projects with two people, for example, should contain 4,000 to 6,000 words.\n",
    "\n",
    "Count words by running the following python code in your report directory.  Do this before you check-in this notebook so the word count appears as the output of the following code cell."
   ]
  },
  {
   "cell_type": "code",
   "execution_count": 1,
   "metadata": {
    "ExecuteTime": {
     "end_time": "2022-10-11T20:24:09.713104Z",
     "start_time": "2022-10-11T20:24:09.678375Z"
    },
    "scrolled": true
   },
   "outputs": [
    {
     "ename": "IndexError",
     "evalue": "list index out of range",
     "output_type": "error",
     "traceback": [
      "\u001b[1;31m---------------------------------------------------------------------------\u001b[0m",
      "\u001b[1;31mIndexError\u001b[0m                                Traceback (most recent call last)",
      "Input \u001b[1;32mIn [1]\u001b[0m, in \u001b[0;36m<cell line: 7>\u001b[1;34m()\u001b[0m\n\u001b[0;32m      5\u001b[0m \u001b[38;5;28;01mif\u001b[39;00m \u001b[38;5;28mlen\u001b[39m(nbfile) \u001b[38;5;241m>\u001b[39m \u001b[38;5;241m1\u001b[39m:\n\u001b[0;32m      6\u001b[0m     \u001b[38;5;28mprint\u001b[39m(\u001b[38;5;124m'\u001b[39m\u001b[38;5;124mMore than one ipynb file. Using the first one.  nbfile=\u001b[39m\u001b[38;5;124m'\u001b[39m, nbfile)\n\u001b[1;32m----> 7\u001b[0m \u001b[38;5;28;01mwith\u001b[39;00m io\u001b[38;5;241m.\u001b[39mopen(\u001b[43mnbfile\u001b[49m\u001b[43m[\u001b[49m\u001b[38;5;241;43m0\u001b[39;49m\u001b[43m]\u001b[49m, \u001b[38;5;124m'\u001b[39m\u001b[38;5;124mr\u001b[39m\u001b[38;5;124m'\u001b[39m, encoding\u001b[38;5;241m=\u001b[39m\u001b[38;5;124m'\u001b[39m\u001b[38;5;124mutf-8\u001b[39m\u001b[38;5;124m'\u001b[39m) \u001b[38;5;28;01mas\u001b[39;00m f:\n\u001b[0;32m      8\u001b[0m     nb \u001b[38;5;241m=\u001b[39m nbformat\u001b[38;5;241m.\u001b[39mread(f, nbformat\u001b[38;5;241m.\u001b[39mNO_CONVERT)\n\u001b[0;32m      9\u001b[0m word_count \u001b[38;5;241m=\u001b[39m \u001b[38;5;241m0\u001b[39m\n",
      "\u001b[1;31mIndexError\u001b[0m: list index out of range"
     ]
    }
   ],
   "source": [
    "import io\n",
    "import nbformat\n",
    "import glob\n",
    "nbfile = glob.glob('Project Proposal and Report Example.ipynb')\n",
    "if len(nbfile) > 1:\n",
    "    print('More than one ipynb file. Using the first one.  nbfile=', nbfile)\n",
    "with io.open(nbfile[0], 'r', encoding='utf-8') as f:\n",
    "    nb = nbformat.read(f, nbformat.NO_CONVERT)\n",
    "word_count = 0\n",
    "for cell in nb.cells:\n",
    "    if cell.cell_type == \"markdown\":\n",
    "        word_count += len(cell['source'].replace('#', '').lstrip().split(' '))\n",
    "print('Word count for file', nbfile[0], 'is', word_count)"
   ]
  },
  {
   "cell_type": "code",
   "execution_count": null,
   "metadata": {},
   "outputs": [],
   "source": []
  }
 ],
 "metadata": {
  "kernelspec": {
   "display_name": "Python 3 (ipykernel)",
   "language": "python",
   "name": "python3"
  },
  "language_info": {
   "codemirror_mode": {
    "name": "ipython",
    "version": 3
   },
   "file_extension": ".py",
   "mimetype": "text/x-python",
   "name": "python",
   "nbconvert_exporter": "python",
   "pygments_lexer": "ipython3",
   "version": "3.8.13"
  },
  "toc": {
   "base_numbering": 1,
   "nav_menu": {},
   "number_sections": true,
   "sideBar": true,
   "skip_h1_title": false,
   "title_cell": "Table of Contents",
   "title_sidebar": "Contents",
   "toc_cell": false,
   "toc_position": {},
   "toc_section_display": true,
   "toc_window_display": false
  }
 },
 "nbformat": 4,
 "nbformat_minor": 1
}
