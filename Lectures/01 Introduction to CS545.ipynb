{
 "cells": [
  {
   "cell_type": "markdown",
   "metadata": {
    "slideshow": {
     "slide_type": "slide"
    }
   },
   "source": [
    "# Welcome to CS545: Machine Learning\n",
    "\n",
    "## Instructors\n",
    "\n",
    "- [Chuck Anderson](http://www.cs.colostate.edu/~anderson) and [Saira Jabeen](https://www.linkedin.com/in/saira-jabeen-a7a305b2/)"
   ]
  },
  {
   "cell_type": "markdown",
   "metadata": {
    "heading_collapsed": true,
    "slideshow": {
     "slide_type": "slide"
    }
   },
   "source": [
    "## Lectures\n",
    "- Tuesday and Thursday: 11:00 - 12:15, Computer Science Building, Room 130.  See \"Overview\" web page.\n",
    "    - All students can watch recorded lecture videos through Echo360 in Canvas\n",
    "- Presentation and discussions of lecture notes and assignments and all other topics of interest to you!"
   ]
  },
  {
   "cell_type": "markdown",
   "metadata": {
    "slideshow": {
     "slide_type": "slide"
    }
   },
   "source": [
    "## Grading\n",
    "\n",
    "- 7 or 8 Assignments: combinations of python implementations and applications of machine learning algorithms with text, math and visualizations that explain the algorithms and results.\n",
    "- Check in solutions through Canvas as jupyter notebooks -\n",
    "- Some on-line quizzes.\n",
    "- No exams!"
   ]
  },
  {
   "cell_type": "markdown",
   "metadata": {
    "slideshow": {
     "slide_type": "slide"
    }
   },
   "source": [
    "## Questions?\n",
    "- What is [python](https://www.python.org/)?  \n",
    "- What is a [jupyter notebook](https://jupyter.org/)? This [tutorial](https://www.youtube.com/watch?v=3jZYC9rGrNg) is helpful.\n",
    "- And what do you mean by [machine learning](https://mitsloan.mit.edu/ideas-made-to-matter/machine-learning-explained)?"
   ]
  },
  {
   "cell_type": "markdown",
   "metadata": {
    "heading_collapsed": true,
    "slideshow": {
     "slide_type": "slide"
    }
   },
   "source": [
    "## Machine Learning\n",
    "\n",
    "Supervised Learning\n",
    "- Given samples of inputs and correct outputs, find a computational model that takes an input and produces approximately correct outputs, even for other inputs.\n",
    "- For example, predict stock prices, or classify a patient's symptoms into likely diagnoses."
   ]
  },
  {
   "cell_type": "markdown",
   "metadata": {
    "slideshow": {
     "slide_type": "slide"
    }
   },
   "source": [
    "## Machine Learning\n",
    "\n",
    "Unsupervised Learning\n",
    "- Given samples of input data, find similarities, dissimilarities, anomolies, trends, and low-dimensional representations of the data.\n",
    "- For example, identify network attacks, or a faulty sensor."
   ]
  },
  {
   "cell_type": "markdown",
   "metadata": {
    "slideshow": {
     "slide_type": "slide"
    }
   },
   "source": [
    "## Machine Learning\n",
    "\n",
    "Reinforcement Learning\n",
    "- Find sequences of decisions, or actions, that optimize some measure of success over time.\n",
    "- Requires trying many actions to see which ones produce good results.\n",
    "- For example, learn to take shortest paths, or learn to play chess."
   ]
  },
  {
   "cell_type": "markdown",
   "metadata": {
    "slideshow": {
     "slide_type": "slide"
    }
   },
   "source": [
    "## Machine Learning\n",
    "\n",
    "Algorithms we will focus on\n",
    "- Regression\n",
    "- Classification\n",
    "- Clustering\n",
    "- Q-Learning, Policy Gradients\n",
    "\n",
    "All using deep learning (artificial neural networks), implemented ourselves mostly using `numpy` and sometimes using public frameworks, such as `pytorch` and `jax`."
   ]
  },
  {
   "cell_type": "markdown",
   "metadata": {
    "slideshow": {
     "slide_type": "slide"
    }
   },
   "source": [
    "## Python\n",
    "\n",
    "If you have no or just a little experience with python, it may be difficult for you to gain the necessary experience fast enough.\n",
    "\n",
    "1. True or False: Python code must be compiled before being run.\n",
    "2. True or False: Variables in python can be assigned values of any type.\n",
    "3. True or False: Python is to be avoided for big machine learning tasks because execution is so slow.\n",
    "4. True or False: Python is free and available on all platforms.\n",
    "5. True of False: Knowing python will not help you get a job.\n",
    "\n",
    "Easy to install on your own laptop.  The [Anaconda distribution](https://www.anaconda.com/products/individual) is recommended.  "
   ]
  },
  {
   "cell_type": "markdown",
   "metadata": {
    "slideshow": {
     "slide_type": "slide"
    }
   },
   "source": [
    "[Popularity of Python](http://pypl.github.io/PYPL.html) judged by accesses of tutorials on github.\n",
    "\n",
    "[Popularity of Python, and other languages, for Deep Learning](https://iglu.net/machine-learning-programming/)"
   ]
  },
  {
   "cell_type": "markdown",
   "metadata": {
    "slideshow": {
     "slide_type": "slide"
    }
   },
   "source": [
    "## Python Packages We Will Use\n",
    "\n",
    "    numpy\n",
    "    matplotlib\n",
    "    pandas\n",
    "    pytorch\n",
    "    jax \n",
    "    \n",
    "and others"
   ]
  },
  {
   "cell_type": "code",
   "execution_count": 6,
   "metadata": {
    "ExecuteTime": {
     "end_time": "2022-08-23T16:00:50.414258Z",
     "start_time": "2022-08-23T16:00:50.298041Z"
    },
    "slideshow": {
     "slide_type": "slide"
    }
   },
   "outputs": [
    {
     "data": {
      "image/png": "[encoded data removed]",
      "text/plain": [
       "<Figure size 432x288 with 1 Axes>"
      ]
     },
     "metadata": {
      "needs_background": "light"
     },
     "output_type": "display_data"
    }
   ],
   "source": [
    "import numpy as np\n",
    "import matplotlib.pyplot as plt\n",
    "# %matplotlib inline\n",
    "\n",
    "plt.plot(np.sin(0.1 * np.arange(100)));"
   ]
  },
  {
   "cell_type": "markdown",
   "metadata": {},
   "source": [
    "## Matplotlib Backends\n",
    "\n",
    "See the documentation for [matplotlib backends](https://matplotlib.org/stable/users/explain/backends.html).\n",
    "\n",
    "Take a look at [ipympl](https://github.com/matplotlib/ipympl) documentation."
   ]
  },
  {
   "cell_type": "markdown",
   "metadata": {
    "slideshow": {
     "slide_type": "slide"
    }
   },
   "source": [
    "## jupyter notebook\n",
    "\n",
    "Finally, we have\n",
    "- literate programming\n",
    "- executable documents\n",
    "- reproducible results\n",
    "- super tutorials\n",
    "- excellent lab notebook for computer scientists\n",
    "- executable lecture notes!\n",
    "\n",
    "Github, and some IDEs ([VSCode](https://code.visualstudio.com/docs/datascience/jupyter-notebooks)), can render them in browsers."
   ]
  },
  {
   "cell_type": "markdown",
   "metadata": {
    "slideshow": {
     "slide_type": "slide"
    }
   },
   "source": [
    "## Let's see what you know.\n",
    "\n",
    "How would you do these?\n",
    "\n",
    "1. Assign to variable $W$ a 5 x 2 matrix (`numpy` array)  of random values between -0.1 and 0.1\n",
    "2. Assign to variable  a $X$ 10 x 5 matrix of random values between 0 and 10.\n",
    "3. Multiply two matrices, $X$ and $W$.\n",
    "4. Take the transpose of $XW$, which is $(XW)^T$.\n",
    "5. Multiply all elements of matrix $X$ by 2 and subtract 1 from all elements.\n",
    "6. Iteratively make small adjustments to an initial matrix $W$ to make it converge on values in matrix $Z$."
   ]
  },
  {
   "cell_type": "code",
   "execution_count": null,
   "metadata": {
    "lines_to_next_cell": 2,
    "slideshow": {
     "slide_type": "slide"
    }
   },
   "outputs": [],
   "source": [
    "# 1. Assign to variable W a 5 x 2 matrix (numpy array) of random values between -0.1 and 0.1"
   ]
  },
  {
   "cell_type": "code",
   "execution_count": null,
   "metadata": {
    "lines_to_next_cell": 2,
    "slideshow": {
     "slide_type": "slide"
    }
   },
   "outputs": [],
   "source": [
    "# 2. Assign to variable X a 10 x 5 matrix of random values between 0 and 10."
   ]
  },
  {
   "cell_type": "code",
   "execution_count": null,
   "metadata": {
    "slideshow": {
     "slide_type": "slide"
    }
   },
   "outputs": [],
   "source": [
    "# 3. Multiply two matrices, X and W."
   ]
  },
  {
   "cell_type": "code",
   "execution_count": null,
   "metadata": {
    "slideshow": {
     "slide_type": "slide"
    }
   },
   "outputs": [],
   "source": [
    "# 4. Take the transpose of XW."
   ]
  },
  {
   "cell_type": "code",
   "execution_count": null,
   "metadata": {
    "slideshow": {
     "slide_type": "slide"
    }
   },
   "outputs": [],
   "source": [
    "# 5. Multiply all elements of matrix X by 2 and subtract 1 from all elements."
   ]
  },
  {
   "cell_type": "code",
   "execution_count": null,
   "metadata": {
    "slideshow": {
     "slide_type": "slide"
    }
   },
   "outputs": [],
   "source": [
    "# Iteratively make small adjustments to an initial matrix `W` to\n",
    "# make it converge on values in matrix `Z`."
   ]
  },
  {
   "cell_type": "code",
   "execution_count": 7,
   "metadata": {
    "ExecuteTime": {
     "end_time": "2022-08-23T16:07:15.103783Z",
     "start_time": "2022-08-23T16:07:15.088816Z"
    },
    "slideshow": {
     "slide_type": "slide"
    }
   },
   "outputs": [
    {
     "name": "stdout",
     "output_type": "stream",
     "text": [
      "step=0 W=array([ 5.20933945, -2.21135129,  0.64314775]) Z=array([1, 2, 3])\n",
      "step=30 W=array([1.17843877, 1.82147594, 2.9000903 ]) Z=array([1, 2, 3])\n",
      "step=60 W=array([1.00756423, 1.99243216, 2.99576471]) Z=array([1, 2, 3])\n",
      "step=90 W=array([1.00032066, 1.99967919, 2.99982046]) Z=array([1, 2, 3])\n",
      "step=120 W=array([1.00001359, 1.9999864 , 2.99999239]) Z=array([1, 2, 3])\n",
      "step=150 W=array([1.00000058, 1.99999942, 2.99999968]) Z=array([1, 2, 3])\n",
      "step=180 W=array([1.00000002, 1.99999998, 2.99999999]) Z=array([1, 2, 3])\n",
      "step=210 W=array([1., 2., 3.]) Z=array([1, 2, 3])\n",
      "step=240 W=array([1., 2., 3.]) Z=array([1, 2, 3])\n",
      "step=270 W=array([1., 2., 3.]) Z=array([1, 2, 3])\n"
     ]
    }
   ],
   "source": [
    "# Iteratively make small adjustments to an initial matrix `W` to\n",
    "# make it converge on values in matrix `Z`.\n",
    "\n",
    "Z = np.array([1,2,3])\n",
    "W = np.random.uniform(-10, 10, 3)\n",
    "for step in range(300):\n",
    "    W += 0.1 * (Z - W)\n",
    "    if step % 30 == 0:\n",
    "        print(f'{step=} {W=} {Z=}')"
   ]
  },
  {
   "cell_type": "markdown",
   "metadata": {
    "slideshow": {
     "slide_type": "slide"
    }
   },
   "source": [
    "# A Curious Story of High-Dimensional Spaces\n",
    "\n",
    "Here is a wild statement.  In a high-dimensional space, most of the points lie on the surface of the hypercube shell!\n",
    "\n",
    "Huh?  As discussed at [this stackexchange post](https://datascience.stackexchange.com/questions/27388/what-does-it-mean-when-we-say-most-of-the-points-in-a-hypercube-are-at-the-bound), consider the volume of the hypercube in $d$-dimensional space with each side of the hypercube being of length 1.\n",
    "\n",
    "$$ 1 \\cdot 1 \\cdot 1 \\cdot \\ldots \\cdot 1 = 1^d$$\n",
    "\n",
    "Nothing surprising here."
   ]
  },
  {
   "cell_type": "markdown",
   "metadata": {
    "slideshow": {
     "slide_type": "slide"
    }
   },
   "source": [
    "Now, let's look at the volume of the \"interior\" of this hypercube.  Let's define the interior as the space from 0.01 to 0.99 along each dimension. This would be\n",
    "\n",
    "$$ 0.98 \\cdot 0.98 \\cdot 0.98 \\ldots \\cdot 0.98 = 0.98^d$$\n",
    "\n",
    "So what?  Well, let's look at the results of these calculations.  First let's consider two dimensions."
   ]
  },
  {
   "cell_type": "code",
   "execution_count": null,
   "metadata": {
    "slideshow": {
     "slide_type": "-"
    }
   },
   "outputs": [],
   "source": [
    "0.98**2"
   ]
  },
  {
   "cell_type": "code",
   "execution_count": null,
   "metadata": {
    "slideshow": {
     "slide_type": "slide"
    }
   },
   "outputs": [],
   "source": [
    "d = 2\n",
    "print(f'Total volume {1**d}.  Interior volume {0.98**d}')"
   ]
  },
  {
   "cell_type": "markdown",
   "metadata": {
    "slideshow": {
     "slide_type": "slide"
    }
   },
   "source": [
    "How about 10 dimensions, or 50?"
   ]
  },
  {
   "cell_type": "code",
   "execution_count": null,
   "metadata": {
    "slideshow": {
     "slide_type": "slide"
    }
   },
   "outputs": [],
   "source": [
    "d = 10\n",
    "print(f'Total volume {1**d}.  Interior volume {0.98**d}')"
   ]
  },
  {
   "cell_type": "code",
   "execution_count": null,
   "metadata": {
    "slideshow": {
     "slide_type": "slide"
    }
   },
   "outputs": [],
   "source": [
    "d = 50\n",
    "print(f'Total volume {1**d}.  Interior volume {0.98**d}')"
   ]
  },
  {
   "cell_type": "markdown",
   "metadata": {
    "slideshow": {
     "slide_type": "slide"
    }
   },
   "source": [
    "Okay, this is getting tedious.  Let's automate this and calculate interior volume for a range of dimensions up to 100, and plot it. "
   ]
  },
  {
   "cell_type": "code",
   "execution_count": null,
   "metadata": {
    "ExecuteTime": {
     "end_time": "2021-08-24T14:18:15.716900Z",
     "start_time": "2021-08-24T14:18:15.470738Z"
    },
    "scrolled": false,
    "slideshow": {
     "slide_type": "slide"
    }
   },
   "outputs": [],
   "source": [
    "def interior_volume(d):\n",
    "    return (1 - 0.01 * 2) ** d\n",
    "\n",
    "dims = np.arange(1, 100, 1)\n",
    "plt.plot(dims, interior_volume(dims))\n",
    "plt.xlabel('dimensions')\n",
    "plt.ylabel('interior volume')\n",
    "plt.grid('on')"
   ]
  },
  {
   "cell_type": "markdown",
   "metadata": {
    "slideshow": {
     "slide_type": "slide"
    }
   },
   "source": [
    "Keep going, up to 1000 dimensions."
   ]
  },
  {
   "cell_type": "code",
   "execution_count": null,
   "metadata": {
    "ExecuteTime": {
     "end_time": "2021-08-24T14:18:21.659566Z",
     "start_time": "2021-08-24T14:18:21.392112Z"
    },
    "scrolled": false,
    "slideshow": {
     "slide_type": "slide"
    }
   },
   "outputs": [],
   "source": [
    "def interior_volume(d):\n",
    "    return 0.98 ** d\n",
    "\n",
    "dims = np.arange(1, 1000, 1)\n",
    "plt.plot(dims, interior_volume(dims))\n",
    "plt.xlabel('dimensions')\n",
    "plt.ylabel('interior volume')\n",
    "plt.grid('on')\n",
    "\n",
    "plt.text(500, 0.6, 'WHOA!', fontsize=40);"
   ]
  },
  {
   "cell_type": "code",
   "execution_count": null,
   "metadata": {
    "slideshow": {
     "slide_type": "slide"
    }
   },
   "outputs": [],
   "source": [
    "interior_volume(1000)"
   ]
  },
  {
   "cell_type": "markdown",
   "metadata": {
    "slideshow": {
     "slide_type": "slide"
    }
   },
   "source": [
    "Go back to definition of `interior_volume` and try a thinner shell."
   ]
  },
  {
   "cell_type": "markdown",
   "metadata": {
    "ExecuteTime": {
     "end_time": "2022-08-23T16:12:59.879911Z",
     "start_time": "2022-08-23T16:12:59.874321Z"
    }
   },
   "source": [
    "# *It's the questions that drive us, Mr. Anderson.*   \n",
    "\n",
    "                    - Agent Smith from The Matrix"
   ]
  },
  {
   "cell_type": "markdown",
   "metadata": {
    "ExecuteTime": {
     "end_time": "2022-08-23T16:13:23.666395Z",
     "start_time": "2022-08-23T16:13:23.627771Z"
    }
   },
   "source": [
    "1. What are the general categories of machine learning?\n",
    "\n",
    "1. What will I learn in this class?\n",
    "1. Why are we using python and jupyter notebooks, and what are jupyter notebooks?\n",
    "1. Will we be using GPUs?\n",
    "1. What deep learning software frameworks are there, and which ones will we be using?"
   ]
  },
  {
   "cell_type": "markdown",
   "metadata": {
    "ExecuteTime": {
     "end_time": "2022-08-23T16:13:23.666395Z",
     "start_time": "2022-08-23T16:13:23.627771Z"
    }
   },
   "source": [
    "6. Why do you think you can teach this stuff?\n",
    "1. How can I get a job in machine learning?\n",
    "1. My math background is weak. Will I do okay in this course?\n",
    "1. My python coding and debugging is weak. Will I do okay in this course?\n",
    "1. Why are there no exams?\n",
    "1. How can I send you my questions and thoughts about lecture topics?"
   ]
  },
  {
   "cell_type": "markdown",
   "metadata": {},
   "source": [
    "# Thinking Thursdays\n",
    "\n",
    "For some weeks a research paper or news item will be posted on our Schedule.  Please read these before class and be ready to discuss them in Thursday lectures.  Share your questions, no matter how trivial you believe them to be. Also share what you consider to be the strong points and weak points of the article."
   ]
  },
  {
   "cell_type": "code",
   "execution_count": null,
   "metadata": {},
   "outputs": [],
   "source": []
  }
 ],
 "metadata": {
  "celltoolbar": "Slideshow",
  "jupytext": {
   "formats": "ipynb,py:light"
  },
  "kernelspec": {
   "display_name": "Python 3 (ipykernel)",
   "language": "python",
   "name": "python3"
  },
  "language_info": {
   "codemirror_mode": {
    "name": "ipython",
    "version": 3
   },
   "file_extension": ".py",
   "mimetype": "text/x-python",
   "name": "python",
   "nbconvert_exporter": "python",
   "pygments_lexer": "ipython3",
   "version": "3.8.13"
  },
  "toc": {
   "base_numbering": 1,
   "nav_menu": {},
   "number_sections": true,
   "sideBar": true,
   "skip_h1_title": false,
   "title_cell": "Table of Contents",
   "title_sidebar": "Contents",
   "toc_cell": false,
   "toc_position": {},
   "toc_section_display": true,
   "toc_window_display": false
  },
  "varInspector": {
   "cols": {
    "lenName": 16,
    "lenType": 16,
    "lenVar": 40
   },
   "kernels_config": {
    "python": {
     "delete_cmd_postfix": "",
     "delete_cmd_prefix": "del ",
     "library": "var_list.py",
     "varRefreshCmd": "print(var_dic_list())"
    },
    "r": {
     "delete_cmd_postfix": ") ",
     "delete_cmd_prefix": "rm(",
     "library": "var_list.r",
     "varRefreshCmd": "cat(var_dic_list()) "
    }
   },
   "types_to_exclude": [
    "module",
    "function",
    "builtin_function_or_method",
    "instance",
    "_Feature"
   ],
   "window_display": false
  }
 },
 "nbformat": 4,
 "nbformat_minor": 2
}
