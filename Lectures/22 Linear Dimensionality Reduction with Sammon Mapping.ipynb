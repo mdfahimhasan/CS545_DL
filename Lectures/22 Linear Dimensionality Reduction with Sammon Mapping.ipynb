{
 "cells": [
  {
   "cell_type": "markdown",
   "metadata": {},
   "source": [
    "$\\newcommand{\\xv}{\\mathbf{x}}\n",
    "\\newcommand{\\Xv}{\\mathbf{X}}\n",
    "\\newcommand{\\yv}{\\mathbf{y}}\n",
    "\\newcommand{\\Yv}{\\mathbf{Y}}\n",
    "\\newcommand{\\zv}{\\mathbf{z}}\n",
    "\\newcommand{\\av}{\\mathbf{a}}\n",
    "\\newcommand{\\Wv}{\\mathbf{W}}\n",
    "\\newcommand{\\wv}{\\mathbf{w}}\n",
    "\\newcommand{\\betav}{\\mathbf{\\beta}}\n",
    "\\newcommand{\\gv}{\\mathbf{g}}\n",
    "\\newcommand{\\Hv}{\\mathbf{H}}\n",
    "\\newcommand{\\dv}{\\mathbf{d}}\n",
    "\\newcommand{\\Vv}{\\mathbf{V}}\n",
    "\\newcommand{\\vv}{\\mathbf{v}}\n",
    "\\newcommand{\\Uv}{\\mathbf{U}}\n",
    "\\newcommand{\\uv}{\\mathbf{u}}\n",
    "\\newcommand{\\tv}{\\mathbf{t}}\n",
    "\\newcommand{\\Tv}{\\mathbf{T}}\n",
    "\\newcommand{\\Sv}{\\mathbf{S}}\n",
    "\\newcommand{\\Gv}{\\mathbf{G}}\n",
    "\\newcommand{\\zv}{\\mathbf{z}}\n",
    "\\newcommand{\\Zv}{\\mathbf{Z}}\n",
    "\\newcommand{\\Norm}{\\mathcal{N}}\n",
    "\\newcommand{\\muv}{\\boldsymbol{\\mu}}\n",
    "\\newcommand{\\sigmav}{\\boldsymbol{\\sigma}}\n",
    "\\newcommand{\\phiv}{\\boldsymbol{\\phi}}\n",
    "\\newcommand{\\Phiv}{\\boldsymbol{\\Phi}}\n",
    "\\newcommand{\\Sigmav}{\\boldsymbol{\\Sigma}}\n",
    "\\newcommand{\\Lambdav}{\\boldsymbol{\\Lambda}}\n",
    "\\newcommand{\\half}{\\frac{1}{2}}\n",
    "\\newcommand{\\argmax}[1]{\\underset{#1}{\\operatorname{argmax}}}\n",
    "\\newcommand{\\argmin}[1]{\\underset{#1}{\\operatorname{argmin}}}\n",
    "\\newcommand{\\dimensionbar}[1]{\\underset{#1}{\\operatorname{|}}}\n",
    "\\newcommand{\\grad}{\\mathbf{\\nabla}}\n",
    "\\newcommand{\\ebx}[1]{e^{\\betav_{#1}^T \\xv_n}}\n",
    "\\newcommand{\\eby}[1]{e^{y_{n,#1}}}\n",
    "\\newcommand{\\Tiv}{\\mathbf{Ti}}\n",
    "\\newcommand{\\Fv}{\\mathbf{F}}\n",
    "\\newcommand{\\ones}[1]{\\mathbf{1}_{#1}}$"
   ]
  },
  {
   "cell_type": "markdown",
   "metadata": {},
   "source": [
    "# Linear Dimensionality Reduction with Sammon Mapping"
   ]
  },
  {
   "cell_type": "code",
   "execution_count": 37,
   "metadata": {
    "ExecuteTime": {
     "end_time": "2022-11-10T17:08:24.958994Z",
     "start_time": "2022-11-10T17:08:24.956179Z"
    }
   },
   "outputs": [],
   "source": [
    "import numpy as np\n",
    "import matplotlib.pyplot as plt\n",
    "import gzip\n",
    "import pickle"
   ]
  },
  {
   "cell_type": "markdown",
   "metadata": {},
   "source": [
    "Introductions to Sammon Mapping are found at\n",
    "  * [Sammon Mapping in Wikipedia](http://en.wikipedia.org/wiki/Sammon_mapping)\n",
    "  * [Sammon Mapping](http://homepages.inf.ed.ac.uk/rbf/CVonline/LOCAL_COPIES/AV0910/henderson.pdf), by Paul Henderson"
   ]
  },
  {
   "cell_type": "markdown",
   "metadata": {},
   "source": [
    "A Sammon Mapping is one that maps each data sample $d_i$ to a location in two dimensions, $p_i$, such that distances between pairs of points are preserved. The objective defined by Sammon is to minimize the squared difference in distances between pairs of data points and their projections through the use of an objective function like\n",
    "$$\n",
    "\\sum_{i=1}^{N-1} \\sum_{j=i+1}^N \\left (\\frac{||d_i - d_j||}{s} - ||p_i - p_j|| \\right )^2\n",
    "$$\n",
    "The typical Sammon Mapping algorithm does a gradient descent on this function by adjusting all of the two-dimensional points $p_{ij}$.  Each iteration requires computing all pairwise distances.  \n",
    "\n",
    "One way to decrease this amount of work is to just work with a subset of points, perhaps picked randomly.  To display all points, we just find an explicit mapping (function) that projects a data sample to a two-dimensional point.  Let's call this $f$, so $f(d_i) = p_i$.  For now, let's just use a linear function for $f$, so \n",
    "$$\n",
    "f(d_i) = d_i^T \\theta\n",
    "$$\n",
    "where $\\theta$ is a $D\\times 2$ matrix of coefficients. "
   ]
  },
  {
   "cell_type": "markdown",
   "metadata": {},
   "source": [
    "To do this in python, let's start with calculating all pairwise distances.  Let $X$ be our $N\\times D$ matrix of data samples, one per row.  We can use a list comprehension to calculate the distance between each row in $X$ and each of the rows following that row."
   ]
  },
  {
   "cell_type": "code",
   "execution_count": 2,
   "metadata": {
    "ExecuteTime": {
     "end_time": "2022-11-10T16:45:57.946979Z",
     "start_time": "2022-11-10T16:45:57.936550Z"
    }
   },
   "outputs": [
    {
     "data": {
      "text/plain": [
       "array([[ 0,  1],\n",
       "       [ 4,  5],\n",
       "       [10, 20]])"
      ]
     },
     "execution_count": 2,
     "metadata": {},
     "output_type": "execute_result"
    }
   ],
   "source": [
    "X = np.array([[0, 1], [4, 5], [10, 20]])\n",
    "X"
   ]
  },
  {
   "cell_type": "code",
   "execution_count": 3,
   "metadata": {
    "ExecuteTime": {
     "end_time": "2022-11-10T16:46:29.959393Z",
     "start_time": "2022-11-10T16:46:29.953824Z"
    }
   },
   "outputs": [
    {
     "data": {
      "text/plain": [
       "[(0, 1), (0, 2), (1, 2)]"
      ]
     },
     "execution_count": 3,
     "metadata": {},
     "output_type": "execute_result"
    }
   ],
   "source": [
    "N = X.shape[0] # number of rows\n",
    "[(i, j) for i in range(N - 1) for j in range(i + 1, N)]"
   ]
  },
  {
   "cell_type": "code",
   "execution_count": 4,
   "metadata": {
    "ExecuteTime": {
     "end_time": "2022-11-10T16:46:34.162815Z",
     "start_time": "2022-11-10T16:46:34.157748Z"
    }
   },
   "outputs": [
    {
     "data": {
      "text/plain": [
       "[array([-4, -4]), array([-10, -19]), array([ -6, -15])]"
      ]
     },
     "execution_count": 4,
     "metadata": {},
     "output_type": "execute_result"
    }
   ],
   "source": [
    "[X[i, :] - X[j, :] for i in range(N - 1) for j in range(i + 1, N)]"
   ]
  },
  {
   "cell_type": "code",
   "execution_count": 5,
   "metadata": {
    "ExecuteTime": {
     "end_time": "2022-11-10T16:46:37.137920Z",
     "start_time": "2022-11-10T16:46:37.131858Z"
    }
   },
   "outputs": [
    {
     "data": {
      "text/plain": [
       "array([[ -4,  -4],\n",
       "       [-10, -19],\n",
       "       [ -6, -15]])"
      ]
     },
     "execution_count": 5,
     "metadata": {},
     "output_type": "execute_result"
    }
   ],
   "source": [
    "np.array([X[i, :] - X[j, :] for i in range(N - 1) for j in range(i + 1, N)])"
   ]
  },
  {
   "cell_type": "markdown",
   "metadata": {},
   "source": [
    "To convert these differences to distances, just"
   ]
  },
  {
   "cell_type": "code",
   "execution_count": 6,
   "metadata": {
    "ExecuteTime": {
     "end_time": "2022-11-10T16:46:39.628627Z",
     "start_time": "2022-11-10T16:46:39.623241Z"
    }
   },
   "outputs": [
    {
     "data": {
      "text/plain": [
       "array([ 5.65685425, 21.47091055, 16.15549442])"
      ]
     },
     "execution_count": 6,
     "metadata": {},
     "output_type": "execute_result"
    }
   ],
   "source": [
    "diffs = np.array([X[i, :] - X[j, :] for i in range(N - 1) for j in range(i + 1 ,N)])\n",
    "np.sqrt(np.sum(diffs * diffs, axis=1))"
   ]
  },
  {
   "cell_type": "markdown",
   "metadata": {},
   "source": [
    "And to project a data point into our two-dimensional space defined by $\\theta$, just use matrix multiplication.  Let's make a function to do the projection, and one to convert differences to distances."
   ]
  },
  {
   "cell_type": "code",
   "execution_count": 7,
   "metadata": {
    "ExecuteTime": {
     "end_time": "2022-11-10T16:48:38.941090Z",
     "start_time": "2022-11-10T16:48:38.937435Z"
    }
   },
   "outputs": [],
   "source": [
    "def diffToDist(dX):\n",
    "    return np.sqrt(np.sum(dX * dX, axis=1))\n",
    "\n",
    "def proj(X, theta):\n",
    "    return X @ theta"
   ]
  },
  {
   "cell_type": "code",
   "execution_count": 8,
   "metadata": {
    "ExecuteTime": {
     "end_time": "2022-11-10T16:48:39.817190Z",
     "start_time": "2022-11-10T16:48:39.811532Z"
    }
   },
   "outputs": [
    {
     "data": {
      "text/plain": [
       "array([ 5.65685425, 21.47091055, 16.15549442])"
      ]
     },
     "execution_count": 8,
     "metadata": {},
     "output_type": "execute_result"
    }
   ],
   "source": [
    "diffToDist(diffs)"
   ]
  },
  {
   "cell_type": "code",
   "execution_count": 9,
   "metadata": {
    "ExecuteTime": {
     "end_time": "2022-11-10T16:48:44.077979Z",
     "start_time": "2022-11-10T16:48:44.019135Z"
    }
   },
   "outputs": [
    {
     "data": {
      "text/plain": [
       "array([[ 0.3,  0.8],\n",
       "       [ 5.5,  4.8],\n",
       "       [16. , 18. ]])"
      ]
     },
     "execution_count": 9,
     "metadata": {},
     "output_type": "execute_result"
    }
   ],
   "source": [
    "proj(X, np.array([[1 ,0.2], [0.3, 0.8]]))"
   ]
  },
  {
   "cell_type": "markdown",
   "metadata": {},
   "source": [
    "Now, to follow the negative gradient of the objective function, we need its gradient, with respect to $\\theta$.  With a little work, you can derive it to find\n",
    "$$\n",
    "\\begin{align*}\n",
    "\\nabla_\\theta &=  \\frac{1}{2} \\sum_{i=1}^{N-1} \\sum_{j=i+1}^N \\left (\\frac{||d_i - d_j||}{s} - ||p_i - p_j|| \\right )^2 \\\\\n",
    " &=  2 \\frac{1}{2} \\sum_{i=1}^{N-1} \\sum_{j=i+1}^N \\left (\\frac{||d_i - d_j||}{s} - ||f(d_i;\\theta) - f(d_j;\\theta)|| \\right ) (-1) \\nabla_\\theta ||f(d_i;\\theta) - f(d_j;\\theta)||\\\\\n",
    "  &=  - \\sum_{i=1}^{N-1} \\sum_{j=i+1}^N \\left (\\frac{||d_i - d_j||}{s} - ||f(d_i;\\theta) - f(d_j;\\theta)|| \\right )  \\frac{(d_i-d_j)^T (p_i - p_j)}{||p_i - p_j||} \n",
    "  \\end{align*}\n",
    "$$"
   ]
  },
  {
   "cell_type": "markdown",
   "metadata": {},
   "source": [
    "So, we need to keep the differences around, in addition to the distances.  First, let's write a function for the objective function, so we can monitor it, to make sure we are decrease it with each iteration.  Let's multiply by $1/N$ so the values we get don't grow huge with large $N$."
   ]
  },
  {
   "cell_type": "code",
   "execution_count": 76,
   "metadata": {
    "ExecuteTime": {
     "end_time": "2022-11-10T17:30:26.882452Z",
     "start_time": "2022-11-10T17:30:26.878000Z"
    }
   },
   "outputs": [],
   "source": [
    "def objective(X, proj, theta, s):\n",
    "    N = X.shape[0]\n",
    "    P = proj(X, theta)\n",
    "    dX = np.array([X[i, :] - X[j, :] for i in range(N - 1) for j in range(i + 1, N)])\n",
    "    dP = np.array([P[i, :] - P[j, :] for i in range(N - 1) for j in range(i + 1, N)])\n",
    "    return np.sum( (diffToDist(dX) / s - diffToDist(dP))**2) / (N * (N-1) / 2)"
   ]
  },
  {
   "cell_type": "markdown",
   "metadata": {},
   "source": [
    "Now for the gradient\n",
    "$$\n",
    "\\begin{align*}\n",
    "\\nabla_\\theta &=   - \\sum_{i=1}^{N-1} \\sum_{j=i+1}^N \\left (\\frac{||d_i - d_j||}{s} - ||f(d_i;\\theta) - f(d_j;\\theta)|| \\right )  \\frac{(d_i-d_j)^T (p_i - p_j)}{||p_i - p_j||}  \n",
    "  \\end{align*}\n",
    "$$\n"
   ]
  },
  {
   "cell_type": "code",
   "execution_count": 78,
   "metadata": {
    "ExecuteTime": {
     "end_time": "2022-11-10T17:31:18.386245Z",
     "start_time": "2022-11-10T17:31:18.381562Z"
    }
   },
   "outputs": [],
   "source": [
    "def gradient(X, proj, theta, s):\n",
    "    N = X.shape[0]\n",
    "    P = proj(X, theta)\n",
    "    dX = np.array([X[i, :] - X[j, :] for i in range(N - 1) for j in range(i + 1, N)])\n",
    "    dP = np.array([P[i, :] - P[j, :] for i in range(N - 1) for j in range(i + 1, N)])\n",
    "    distX = diffToDist(dX)\n",
    "    distP = diffToDist(dP)\n",
    "    return - ((((distX/s - distP) / distP).reshape((-1,1)) * dX).T @ dP)  / (N * (N - 1) / 2) "
   ]
  },
  {
   "cell_type": "markdown",
   "metadata": {},
   "source": [
    "This last line has the potential for dividing by zero!  Let's avoid this, in a very ad-hoc manner, by replacing zeros in *distP* by its smallest nonzero value"
   ]
  },
  {
   "cell_type": "code",
   "execution_count": 80,
   "metadata": {
    "ExecuteTime": {
     "end_time": "2022-11-10T17:31:23.750567Z",
     "start_time": "2022-11-10T17:31:23.745290Z"
    }
   },
   "outputs": [],
   "source": [
    "def gradient(X, proj, theta, s):\n",
    "    N = X.shape[0]\n",
    "    P = proj(X, theta)\n",
    "    dX = np.array([X[i, :] - X[j, :] for i in range(N - 1) for j in range(i + 1, N)])\n",
    "    dP = np.array([P[i, :] - P[j, :] for i in range(N - 1) for j in range(i + 1, N)])\n",
    "    distX = diffToDist(dX)\n",
    "    distP = diffToDist(dP)\n",
    "    minimumNonzero = np.min(distP[distP > 0])\n",
    "    distP[distP == 0] = minimumNonzero\n",
    "    return - ((((distX/s - distP) / distP).reshape((-1,1)) * dX).T @ dP)  / (N * (N - 1) / 2) "
   ]
  },
  {
   "cell_type": "markdown",
   "metadata": {},
   "source": [
    "Let's start with two-dimensional points."
   ]
  },
  {
   "cell_type": "code",
   "execution_count": 81,
   "metadata": {
    "ExecuteTime": {
     "end_time": "2022-11-10T17:31:26.163556Z",
     "start_time": "2022-11-10T17:31:26.157623Z"
    }
   },
   "outputs": [
    {
     "name": "stdout",
     "output_type": "stream",
     "text": [
      "s 0.9539667826133666\n"
     ]
    }
   ],
   "source": [
    "n = 8\n",
    "X = np.random.multivariate_normal([2, 3], 0.5 * np.eye(2), n)\n",
    "X = np.vstack((X, np.random.multivariate_normal([1, -1], 0.2 * np.eye(2), n)))\n",
    "X = X - np.mean(X, axis=0)\n",
    "s = 0.5 * np.sqrt(np.max(np.var(X, axis=0)))\n",
    "print('s', s)"
   ]
  },
  {
   "cell_type": "code",
   "execution_count": 84,
   "metadata": {
    "ExecuteTime": {
     "end_time": "2022-11-10T17:32:21.842121Z",
     "start_time": "2022-11-10T17:32:20.853565Z"
    }
   },
   "outputs": [
    {
     "name": "stdout",
     "output_type": "stream",
     "text": [
      "theta\n",
      " [[-0.56175426  0.78870324]\n",
      " [-0.8880096  -0.54408489]]\n"
     ]
    },
    {
     "data": {
      "image/png": "[encoded data removed]",
      "text/plain": [
       "<Figure size 1000x1500 with 2 Axes>"
      ]
     },
     "metadata": {},
     "output_type": "display_data"
    }
   ],
   "source": [
    "if True:\n",
    "    theta = np.random.uniform(-0.1, 0.1, (2, 2))\n",
    "elif False:\n",
    "    theta = np.eye(2) + np.random.uniform(-0.1,0.1,(2,2))\n",
    "else:\n",
    "    u, svalues, v = np.linalg.svd(X)\n",
    "    v = v.T\n",
    "    theta = v[:, :2]\n",
    "\n",
    "nIterations = 1000\n",
    "vals = []\n",
    "for i in range(nIterations):\n",
    "    theta -= 0.01 * gradient(X, proj, theta, s)\n",
    "    v = objective(X, proj, theta, s)\n",
    "    vals.append(v)\n",
    "\n",
    "# print('X\\n',X)\n",
    "# print('P\\n',proj(X,theta))\n",
    "print('theta\\n', theta)\n",
    "plt.figure(figsize=(10, 15))\n",
    "plt.subplot(3, 1, (1, 2))\n",
    "P = proj(X, theta)\n",
    "mn = 1.1 * np.min(P)\n",
    "mx = 1.1 * np.max(P)\n",
    "plt.axis([mn, mx, mn, mx])\n",
    "#strings = [chr(ord('a')+i) for i in range(X.shape[0])]\n",
    "strings = [i for i in range(X.shape[0])]\n",
    "for i in range(X.shape[0]):\n",
    "    plt.text(X[i, 0], X[i, 1], strings[i], color='black', size=15)\n",
    "for i in range(P.shape[0]):\n",
    "    plt.text(P[i, 0], P[i, 1], strings[i], color='red', size=15)\n",
    "plt.title('2D data, Originals in black')\n",
    "\n",
    "plt.subplot(3, 1, 3)\n",
    "plt.plot(vals)\n",
    "plt.ylabel('Objective Function');"
   ]
  },
  {
   "cell_type": "markdown",
   "metadata": {},
   "source": [
    "Let's watch the mapping develop.  One way to do this is to save the values of $\\theta$ after each iteration, then use *interact* to step through the interations."
   ]
  },
  {
   "cell_type": "markdown",
   "metadata": {},
   "source": [
    "Check out the [documentation on ipywidgets](https://ipywidgets.readthedocs.io/en/stable/examples/Using%20Interact.html)"
   ]
  },
  {
   "cell_type": "code",
   "execution_count": 85,
   "metadata": {
    "ExecuteTime": {
     "end_time": "2022-11-10T17:32:35.525282Z",
     "start_time": "2022-11-10T17:32:35.506347Z"
    }
   },
   "outputs": [
    {
     "data": {
      "application/vnd.jupyter.widget-view+json": {
       "model_id": "33669c155c9a486ea402662ce4c9ad44",
       "version_major": 2,
       "version_minor": 0
      },
      "text/plain": [
       "interactive(children=(IntSlider(value=10, description='x', max=30, min=-10), Output()), _dom_classes=('widget-…"
      ]
     },
     "metadata": {},
     "output_type": "display_data"
    }
   ],
   "source": [
    "from ipywidgets import interact\n",
    "\n",
    "@interact(x=10)\n",
    "def f(x):\n",
    "    return x, x**2"
   ]
  },
  {
   "cell_type": "code",
   "execution_count": 87,
   "metadata": {
    "ExecuteTime": {
     "end_time": "2022-11-10T17:33:12.231671Z",
     "start_time": "2022-11-10T17:33:07.677664Z"
    },
    "scrolled": false
   },
   "outputs": [
    {
     "name": "stdout",
     "output_type": "stream",
     "text": [
      "s 1.0372367102626934\n"
     ]
    },
    {
     "data": {
      "application/vnd.jupyter.widget-view+json": {
       "model_id": "0d7758d168264a02ad7363667e227d18",
       "version_major": 2,
       "version_minor": 0
      },
      "text/plain": [
       "interactive(children=(IntSlider(value=499, description='iteration', max=999), Output()), _dom_classes=('widget…"
      ]
     },
     "metadata": {},
     "output_type": "display_data"
    }
   ],
   "source": [
    "n = 20\n",
    "X = np.random.multivariate_normal([2, 3], 0.5 * np.eye(2), n)\n",
    "X = np.vstack((X, np.random.multivariate_normal([1, -1], 0.2 * np.eye(2), n)))\n",
    "X = X - np.mean(X, axis=0)\n",
    "s = 0.5 * np.sqrt(np.max(np.var(X, axis=0)))\n",
    "print('s', s)\n",
    "\n",
    "if True:\n",
    "    theta = np.random.uniform(-0.1 , 0.1, (2, 2))\n",
    "elif False:\n",
    "    theta = np.eye(2) + np.random.uniform(-0.1, 0.1, (2, 2))\n",
    "else:\n",
    "    u, svalues, v = np.linalg.svd(X)\n",
    "    v = v.T\n",
    "    theta = v[:, :2]\n",
    "\n",
    "# theta = (np.random.uniform(size=((2, 2))) - 0.5) * 10\n",
    "\n",
    "thetas = [theta] # store all theta values\n",
    "\n",
    "nIterations = 1000\n",
    "vals = []\n",
    "for i in range(nIterations):\n",
    "    theta = theta - 0.05 * gradient(X, proj, theta, s)\n",
    "    v = objective(X, proj, theta, s)\n",
    "    thetas.append(theta.copy())\n",
    "    vals.append(v)\n",
    "\n",
    "\n",
    "mn = 1.5 * np.min(X)\n",
    "mx = 1.5 * np.max(X)\n",
    "\n",
    "strings = [i for i in range(X.shape[0])]\n",
    "\n",
    "@interact(iteration=(0, nIterations-1, 1))\n",
    "def plotIteration(iteration):\n",
    "    #plt.cla()\n",
    "    plt.figure(figsize=(12, 12));\n",
    "    theta = thetas[iteration]\n",
    "    val = vals[iteration]\n",
    "    P = proj(X, theta)\n",
    "    plt.axis([mn, mx, mn, mx])\n",
    "    for i in range(X.shape[0]):\n",
    "        plt.text(X[i, 0], X[i, 1], strings[i], color='black', size=15) \n",
    "    for i in range(P.shape[0]):\n",
    "        plt.text(P[i, 0], P[i, 1], strings[i], color='red', size=15) \n",
    "    plt.title('2D data, Originals in black. Objective={:.3f} Iter={}'.format(val, iteration))"
   ]
  },
  {
   "cell_type": "markdown",
   "metadata": {},
   "source": [
    "Now let's try it with high-dimensional data. Let's use MNIST digits."
   ]
  },
  {
   "cell_type": "code",
   "execution_count": 88,
   "metadata": {
    "ExecuteTime": {
     "end_time": "2022-11-10T17:33:53.999634Z",
     "start_time": "2022-11-10T17:33:53.521969Z"
    }
   },
   "outputs": [],
   "source": [
    "with gzip.open('mnist.pkl.gz', 'rb') as f:\n",
    "    train_set, valid_set, test_set = pickle.load(f, encoding='latin1')\n",
    "\n",
    "Xtrain = train_set[0]\n",
    "Ttrain = train_set[1].reshape((-1, 1))"
   ]
  },
  {
   "cell_type": "code",
   "execution_count": 98,
   "metadata": {
    "ExecuteTime": {
     "end_time": "2022-11-10T17:40:33.174907Z",
     "start_time": "2022-11-10T17:40:33.170023Z"
    },
    "scrolled": true
   },
   "outputs": [
    {
     "data": {
      "text/plain": [
       "((100, 784), array([0, 1, 2, 3, 4, 5, 6, 7, 8, 9]))"
      ]
     },
     "execution_count": 98,
     "metadata": {},
     "output_type": "execute_result"
    }
   ],
   "source": [
    "n = 100\n",
    "X = Xtrain[:n]\n",
    "T = Ttrain[:n]\n",
    "X.shape, np.unique(T)"
   ]
  },
  {
   "cell_type": "code",
   "execution_count": 100,
   "metadata": {
    "ExecuteTime": {
     "end_time": "2022-11-10T17:44:54.867984Z",
     "start_time": "2022-11-10T17:43:07.287422Z"
    },
    "scrolled": true
   },
   "outputs": [
    {
     "name": "stdout",
     "output_type": "stream",
     "text": [
      "Done with 0 iterations, out of 2000\n",
      "Done with 100 iterations, out of 2000\n",
      "Done with 200 iterations, out of 2000\n",
      "Done with 300 iterations, out of 2000\n",
      "Done with 400 iterations, out of 2000\n",
      "Done with 500 iterations, out of 2000\n",
      "Done with 600 iterations, out of 2000\n",
      "Done with 700 iterations, out of 2000\n",
      "Done with 800 iterations, out of 2000\n",
      "Done with 900 iterations, out of 2000\n",
      "Done with 1000 iterations, out of 2000\n",
      "Done with 1100 iterations, out of 2000\n",
      "Done with 1200 iterations, out of 2000\n",
      "Done with 1300 iterations, out of 2000\n",
      "Done with 1400 iterations, out of 2000\n",
      "Done with 1500 iterations, out of 2000\n",
      "Done with 1600 iterations, out of 2000\n",
      "Done with 1700 iterations, out of 2000\n",
      "Done with 1800 iterations, out of 2000\n",
      "Done with 1900 iterations, out of 2000\n"
     ]
    },
    {
     "data": {
      "application/vnd.jupyter.widget-view+json": {
       "model_id": "a1f3d6fae2554435a25c0d4cb31c5670",
       "version_major": 2,
       "version_minor": 0
      },
      "text/plain": [
       "interactive(children=(IntSlider(value=999, description='iteration', max=1999), Output()), _dom_classes=('widge…"
      ]
     },
     "metadata": {},
     "output_type": "display_data"
    }
   ],
   "source": [
    "D = 784\n",
    "\n",
    "if True:\n",
    "    theta = np.random.uniform(-0.1 , 0.1, (D, 2))\n",
    "elif False:\n",
    "    theta = np.eye(2) + np.random.uniform(-0.1, 0.1, (D, 2))\n",
    "else:\n",
    "    u, svalues, v = np.linalg.svd(X)\n",
    "    v = v.T\n",
    "    theta = v[:, :2]\n",
    "\n",
    "thetas = [theta] # store all theta values\n",
    "\n",
    "nIterations = 2000\n",
    "vals = []\n",
    "for i in range(nIterations):\n",
    "    theta = theta - 0.01 * gradient(X, proj, theta, s)\n",
    "    v = objective(X, proj, theta, s)\n",
    "    thetas.append(theta.copy())\n",
    "    vals.append(v)\n",
    "    if i % 100 == 0:\n",
    "        print('Done with', i, 'iterations, out of', nIterations)\n",
    "\n",
    "last_P = proj(X, thetas[-1])\n",
    "mnx = np.min(last_P[:, 0])\n",
    "mxx = np.max(last_P[:, 0])\n",
    "mny = np.min(last_P[:, 1])\n",
    "mxy = np.max(last_P[:, 1])\n",
    "\n",
    "@interact(iteration=(0, nIterations-1, 1))\n",
    "def plotIteration(iteration):\n",
    "    #plt.cla()\n",
    "    plt.figure(figsize=(12, 12))\n",
    "    theta = thetas[iteration]\n",
    "    val = vals[iteration]\n",
    "    P = proj(X, theta)\n",
    "    for i in range(P.shape[0]):\n",
    "        # plt.text(P[i, 0], P[i, 1], str(T[i, 0]), color='red', size=15) \n",
    "        plt.annotate(str(T[i, 0]), P[i], color='red', size=15) \n",
    "    plt.axis([mnx, mxx, mny, mxy])\n",
    "    plt.title('2D data, Originals in black. Objective={:.3f} Iter={}'.format(val, iteration))"
   ]
  },
  {
   "cell_type": "code",
   "execution_count": 101,
   "metadata": {
    "ExecuteTime": {
     "end_time": "2022-11-10T17:45:51.003678Z",
     "start_time": "2022-11-10T17:45:50.891711Z"
    }
   },
   "outputs": [
    {
     "data": {
      "text/plain": [
       "[<matplotlib.lines.Line2D at 0x7f4a981d61f0>]"
      ]
     },
     "execution_count": 101,
     "metadata": {},
     "output_type": "execute_result"
    },
    {
     "data": {
      "image/png": "[encoded data removed]",
      "text/plain": [
       "<Figure size 640x480 with 1 Axes>"
      ]
     },
     "metadata": {},
     "output_type": "display_data"
    }
   ],
   "source": [
    "plt.plot(vals)"
   ]
  },
  {
   "cell_type": "code",
   "execution_count": null,
   "metadata": {},
   "outputs": [],
   "source": []
  }
 ],
 "metadata": {
  "anaconda-cloud": {},
  "kernelspec": {
   "display_name": "Python 3 (ipykernel)",
   "language": "python",
   "name": "python3"
  },
  "language_info": {
   "codemirror_mode": {
    "name": "ipython",
    "version": 3
   },
   "file_extension": ".py",
   "mimetype": "text/x-python",
   "name": "python",
   "nbconvert_exporter": "python",
   "pygments_lexer": "ipython3",
   "version": "3.9.13"
  },
  "toc": {
   "base_numbering": 1,
   "nav_menu": {},
   "number_sections": true,
   "sideBar": true,
   "skip_h1_title": false,
   "title_cell": "Table of Contents",
   "title_sidebar": "Contents",
   "toc_cell": false,
   "toc_position": {},
   "toc_section_display": true,
   "toc_window_display": false
  }
 },
 "nbformat": 4,
 "nbformat_minor": 2
}
