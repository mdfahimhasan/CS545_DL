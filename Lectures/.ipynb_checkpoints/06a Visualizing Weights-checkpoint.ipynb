{
 "cells": [
  {
   "cell_type": "markdown",
   "id": "831aae86",
   "metadata": {},
   "source": [
    "# 06a Visualizing Weights"
   ]
  },
  {
   "cell_type": "markdown",
   "id": "f2495fc9",
   "metadata": {},
   "source": [
    "How can we figure out how our trained neural network is making its decisions?\n",
    "\n",
    "One way is to examine the weights in the first layer.  The units in this layer have learned weighted sums of the inputs. The magnitudes of the weight values will tell us how significant each input is, and the signs of the weights will distinguish between negative and positive effects of each input.\n",
    "\n",
    "We can use `matplotlib`'s `imshow` function to display a matrix of weights using pseudocolors."
   ]
  },
  {
   "cell_type": "markdown",
   "id": "6d124a21",
   "metadata": {},
   "source": [
    "To illustrate this, let's make some toy data, after importing the usual stuff."
   ]
  },
  {
   "cell_type": "code",
   "execution_count": 2,
   "id": "ed10fb26",
   "metadata": {
    "ExecuteTime": {
     "end_time": "2022-09-29T16:39:11.746647Z",
     "start_time": "2022-09-29T16:39:11.744150Z"
    }
   },
   "outputs": [],
   "source": [
    "import numpy as np\n",
    "import matplotlib.pyplot as plt\n",
    "import neuralnetworkA3 as nn"
   ]
  },
  {
   "cell_type": "code",
   "execution_count": 7,
   "id": "a4239dd4",
   "metadata": {},
   "outputs": [
    {
     "data": {
      "text/plain": [
       "array([[ 6.30573267e-01, -9.04957244e+01,  1.68948031e+03,\n",
       "        -5.71029961e-01],\n",
       "       [ 6.31104983e-01, -9.01272814e+01,  1.94350155e+03,\n",
       "         3.28309648e-01],\n",
       "       [ 8.66183284e-01, -8.68378117e+01,  1.59440374e+03,\n",
       "        -4.00135161e-01],\n",
       "       [ 9.01639305e-01, -9.70304613e+01,  1.44966912e+03,\n",
       "        -9.62378040e-01],\n",
       "       [ 5.93348341e-02, -9.16947638e+01,  1.09629322e+03,\n",
       "        -5.18037284e-01],\n",
       "       [ 9.22014944e-01, -9.93112906e+01,  1.39488439e+03,\n",
       "         2.42973049e-01],\n",
       "       [ 6.98265092e-01, -9.26089294e+01,  1.57443065e+03,\n",
       "        -5.33473311e-01],\n",
       "       [ 1.81367161e-01, -9.47617331e+01,  1.25377350e+03,\n",
       "         7.32416273e-01],\n",
       "       [ 1.74575949e-01, -8.43719004e+01,  1.76352755e+03,\n",
       "        -3.11434909e-01],\n",
       "       [ 4.10419389e-01, -8.56889426e+01,  1.82719607e+03,\n",
       "        -4.13411444e-02],\n",
       "       [ 8.57410584e-01, -8.84720805e+01,  1.00615552e+03,\n",
       "        -1.88753738e-01],\n",
       "       [ 9.13286740e-01, -8.35999644e+01,  1.06341978e+03,\n",
       "         6.31038202e-01],\n",
       "       [ 2.71223884e-01, -8.61950915e+01,  1.44207600e+03,\n",
       "        -5.09848632e-01],\n",
       "       [ 8.04053205e-01, -8.84531979e+01,  1.77845119e+03,\n",
       "        -7.26057063e-01],\n",
       "       [ 6.90982709e-01, -9.44441039e+01,  1.38238370e+03,\n",
       "         5.57222142e-01],\n",
       "       [ 9.35671962e-01, -9.71412097e+01,  1.88591538e+03,\n",
       "         8.53576777e-01],\n",
       "       [ 2.35896233e-01, -8.91682624e+01,  1.10859000e+03,\n",
       "        -6.09702530e-01],\n",
       "       [ 9.40457496e-01, -9.90873438e+01,  1.94552053e+03,\n",
       "         5.70547692e-01],\n",
       "       [ 9.07737170e-01, -9.89880880e+01,  1.79771713e+03,\n",
       "        -7.06967889e-01],\n",
       "       [ 9.98987911e-01, -8.44431107e+01,  1.95767937e+03,\n",
       "        -2.76949732e-01],\n",
       "       [ 5.95368411e-01, -9.60379402e+01,  1.01368120e+03,\n",
       "        -2.50535214e-02],\n",
       "       [ 4.64205752e-01, -9.19823520e+01,  1.53227103e+03,\n",
       "        -2.08086399e-01],\n",
       "       [ 9.23078337e-01, -8.36876603e+01,  1.90864078e+03,\n",
       "         8.50705723e-01],\n",
       "       [ 4.33863761e-01, -9.98850823e+01,  1.19259066e+03,\n",
       "         2.39125670e-02],\n",
       "       [ 9.17294995e-01, -8.01472306e+01,  1.02824784e+03,\n",
       "         9.75961027e-01],\n",
       "       [ 9.84980309e-01, -9.99772517e+01,  1.25497325e+03,\n",
       "        -6.11136521e-02],\n",
       "       [ 3.05367452e-01, -8.15703348e+01,  1.65920862e+03,\n",
       "         5.20043460e-01],\n",
       "       [ 2.18322945e-01, -9.00435571e+01,  1.90555000e+03,\n",
       "        -6.18894320e-01],\n",
       "       [ 4.09011282e-01, -9.48968458e+01,  1.96412619e+03,\n",
       "        -5.83705284e-01],\n",
       "       [ 8.49665663e-01, -8.00547083e+01,  1.62210098e+03,\n",
       "         1.02026984e-01],\n",
       "       [ 7.67539837e-01, -9.10280808e+01,  1.48349998e+03,\n",
       "        -3.79080773e-01],\n",
       "       [ 7.72227821e-02, -9.51967395e+01,  1.91097275e+03,\n",
       "         7.45847690e-01],\n",
       "       [ 5.26940139e-01, -8.87790366e+01,  1.25195761e+03,\n",
       "        -3.04374935e-01],\n",
       "       [ 4.29570447e-01, -9.89044751e+01,  1.02232958e+03,\n",
       "        -4.71771700e-02],\n",
       "       [ 3.17950679e-01, -8.66400849e+01,  1.72468598e+03,\n",
       "        -1.46381878e-01],\n",
       "       [ 8.49164633e-01, -8.43838469e+01,  1.20814664e+03,\n",
       "         8.30404022e-02],\n",
       "       [ 5.77362707e-01, -8.29743349e+01,  1.17697172e+03,\n",
       "        -8.90829802e-01],\n",
       "       [ 1.15208855e-02, -9.25487943e+01,  1.59498097e+03,\n",
       "         2.02705993e-01],\n",
       "       [ 7.51648102e-01, -9.14560682e+01,  1.75764012e+03,\n",
       "        -8.21359110e-01],\n",
       "       [ 1.39863806e-01, -8.42556855e+01,  1.91802084e+03,\n",
       "         6.30719619e-01],\n",
       "       [ 1.65615320e-01, -8.59593846e+01,  1.64853329e+03,\n",
       "         6.72552661e-01],\n",
       "       [ 3.41378585e-02, -8.91839724e+01,  1.50685050e+03,\n",
       "         3.43017094e-01],\n",
       "       [ 7.45940984e-01, -8.55846916e+01,  1.31357103e+03,\n",
       "        -9.43470152e-01],\n",
       "       [ 5.00650838e-01, -9.16552867e+01,  1.04509840e+03,\n",
       "        -5.97495213e-01],\n",
       "       [ 6.84540041e-01, -9.04244497e+01,  1.50685247e+03,\n",
       "         6.05180997e-01],\n",
       "       [ 3.50167901e-01, -9.62948655e+01,  1.10709273e+03,\n",
       "         2.78871427e-01],\n",
       "       [ 4.31389632e-01, -8.77297020e+01,  1.61252873e+03,\n",
       "         4.04130502e-01],\n",
       "       [ 3.26283895e-01, -9.21501195e+01,  1.32540426e+03,\n",
       "        -6.23762811e-01],\n",
       "       [ 5.63806630e-01, -8.88799292e+01,  1.32430009e+03,\n",
       "         9.42039003e-02],\n",
       "       [ 9.41586468e-01, -9.75569365e+01,  1.09600207e+03,\n",
       "        -3.03726129e-01],\n",
       "       [ 2.95786742e-01, -9.08719046e+01,  1.23752427e+03,\n",
       "        -8.73212421e-01],\n",
       "       [ 4.34157499e-01, -9.33776577e+01,  1.78534498e+03,\n",
       "         9.24791508e-02],\n",
       "       [ 3.71177711e-01, -8.45819884e+01,  1.21759409e+03,\n",
       "        -4.45665340e-01],\n",
       "       [ 4.02255416e-01, -9.35098666e+01,  1.28457829e+03,\n",
       "        -2.14156608e-01],\n",
       "       [ 3.89420308e-01, -8.05023074e+01,  1.70939335e+03,\n",
       "         8.14310857e-01],\n",
       "       [ 4.17846888e-01, -9.82118007e+01,  1.93662648e+03,\n",
       "        -3.90570453e-02],\n",
       "       [ 1.84127930e-02, -9.93865906e+01,  1.27366821e+03,\n",
       "        -8.22502486e-01],\n",
       "       [ 2.87207598e-01, -9.31358404e+01,  1.68320569e+03,\n",
       "        -6.99846194e-01],\n",
       "       [ 6.64640345e-02, -8.86973446e+01,  1.27560491e+03,\n",
       "        -4.50781786e-01],\n",
       "       [ 1.86263779e-01, -9.12261158e+01,  1.12415737e+03,\n",
       "        -3.75584524e-01],\n",
       "       [ 2.87292786e-02, -9.43756502e+01,  1.23644514e+03,\n",
       "        -3.75536834e-02],\n",
       "       [ 5.96544910e-01, -9.13281198e+01,  1.24360887e+03,\n",
       "         7.77632316e-01],\n",
       "       [ 9.89886928e-01, -8.81234569e+01,  1.50411639e+03,\n",
       "        -4.47423861e-01],\n",
       "       [ 2.37825437e-01, -8.03487905e+01,  1.23542472e+03,\n",
       "        -7.34907095e-01],\n",
       "       [ 8.85678602e-01, -9.02359726e+01,  1.43358017e+03,\n",
       "         5.98817677e-01],\n",
       "       [ 5.56522148e-01, -9.72028385e+01,  1.69364765e+03,\n",
       "         5.20020408e-01],\n",
       "       [ 7.63180770e-02, -8.86604776e+01,  1.22862633e+03,\n",
       "         6.63539759e-01],\n",
       "       [ 7.06431841e-01, -9.53674293e+01,  1.83103023e+03,\n",
       "        -9.32904090e-01],\n",
       "       [ 7.59751990e-02, -8.43216953e+01,  1.86054165e+03,\n",
       "         8.70343642e-01],\n",
       "       [ 6.79459251e-02, -9.87772366e+01,  1.76370430e+03,\n",
       "        -4.60538424e-01],\n",
       "       [ 2.93287046e-01, -8.61047281e+01,  1.08605413e+03,\n",
       "         7.86450951e-01],\n",
       "       [ 1.77493594e-01, -9.41499203e+01,  1.02247382e+03,\n",
       "         2.17598182e-01],\n",
       "       [ 5.34223690e-01, -9.99555707e+01,  1.28774033e+03,\n",
       "        -3.22935880e-01],\n",
       "       [ 9.34443403e-01, -8.41291942e+01,  1.18064158e+03,\n",
       "         6.71796487e-01],\n",
       "       [ 4.32802250e-01, -8.00510219e+01,  1.45909959e+03,\n",
       "         2.08583280e-01],\n",
       "       [ 7.11915403e-02, -8.44537533e+01,  1.66357796e+03,\n",
       "        -4.87204598e-01],\n",
       "       [ 3.05000692e-01, -8.50026446e+01,  1.46722028e+03,\n",
       "        -9.37977097e-01],\n",
       "       [ 3.26012447e-01, -9.01861431e+01,  1.38080752e+03,\n",
       "        -2.72066543e-01],\n",
       "       [ 1.97287321e-01, -8.04559701e+01,  1.20582154e+03,\n",
       "         1.91142027e-01],\n",
       "       [ 1.16782084e-01, -8.70633197e+01,  1.76373205e+03,\n",
       "         2.54495609e-01],\n",
       "       [ 2.53767511e-02, -8.00058891e+01,  1.02605586e+03,\n",
       "         8.02020085e-01],\n",
       "       [ 2.86763701e-01, -9.05290120e+01,  1.17091564e+03,\n",
       "        -9.19712667e-01],\n",
       "       [ 9.32209082e-04, -9.05463809e+01,  1.69077783e+03,\n",
       "        -8.71965823e-01],\n",
       "       [ 5.85351530e-01, -9.17824414e+01,  1.96096757e+03,\n",
       "        -5.52021553e-01],\n",
       "       [ 5.92771167e-01, -8.77115271e+01,  1.21885540e+03,\n",
       "         9.45671975e-01],\n",
       "       [ 1.34676172e-01, -8.27016318e+01,  1.16360261e+03,\n",
       "         6.11362849e-01],\n",
       "       [ 4.77066697e-01, -9.37915153e+01,  1.49814439e+03,\n",
       "        -8.07676994e-01],\n",
       "       [ 8.07156423e-02, -9.46211348e+01,  1.37821930e+03,\n",
       "        -8.62474101e-03],\n",
       "       [ 2.29901208e-01, -8.97472101e+01,  1.78421003e+03,\n",
       "        -3.44051988e-01],\n",
       "       [ 4.82328653e-01, -9.51235144e+01,  1.47672420e+03,\n",
       "         8.81272094e-01],\n",
       "       [ 1.64947956e-01, -8.92604749e+01,  1.13161346e+03,\n",
       "         2.57813562e-01],\n",
       "       [ 9.86317982e-01, -9.97313033e+01,  1.06684973e+03,\n",
       "        -4.61201870e-01],\n",
       "       [ 7.98238683e-01, -9.99693235e+01,  1.51602814e+03,\n",
       "        -1.08336367e-01],\n",
       "       [ 9.25255065e-01, -9.73850790e+01,  1.04318190e+03,\n",
       "         7.60016650e-01],\n",
       "       [ 1.58426200e-01, -9.08435833e+01,  1.31580603e+03,\n",
       "        -1.87702202e-01],\n",
       "       [ 6.32578858e-01, -8.46041787e+01,  1.50381023e+03,\n",
       "        -3.21547145e-01],\n",
       "       [ 2.06850019e-02, -9.79849865e+01,  1.19683205e+03,\n",
       "        -2.17406436e-01],\n",
       "       [ 9.51479259e-01, -9.16230478e+01,  1.32960795e+03,\n",
       "        -6.73203207e-01],\n",
       "       [ 4.31291668e-01, -9.33688624e+01,  1.80908452e+03,\n",
       "        -1.33444603e-01],\n",
       "       [ 8.96739710e-01, -8.96887315e+01,  1.88946942e+03,\n",
       "        -7.63116994e-01]])"
      ]
     },
     "execution_count": 7,
     "metadata": {},
     "output_type": "execute_result"
    }
   ],
   "source": [
    "np.vstack((x1, x2, x3, x4)).T"
   ]
  },
  {
   "cell_type": "code",
   "execution_count": 3,
   "id": "64985c2e",
   "metadata": {
    "ExecuteTime": {
     "end_time": "2022-09-29T16:39:11.760220Z",
     "start_time": "2022-09-29T16:39:11.748978Z"
    }
   },
   "outputs": [
    {
     "name": "stdout",
     "output_type": "stream",
     "text": [
      "(100, 4) (100, 2)\n"
     ]
    }
   ],
   "source": [
    "n_samples = 100\n",
    "\n",
    "x1 = np.random.uniform(0, 1, n_samples)\n",
    "x2 = np.random.uniform(-100, -80, n_samples)\n",
    "x3 = np.random.uniform(1000, 2000, n_samples)\n",
    "x4 = np.random.uniform(-1, 1, n_samples)\n",
    "\n",
    "t1 = x1 ** 2\n",
    "t2 = x3 + x4 * 1000\n",
    "\n",
    "X = np.vstack((x1, x2, x3, x4)).T\n",
    "T = np.vstack((t1, t2)).T\n",
    "\n",
    "print(X.shape, T.shape)"
   ]
  },
  {
   "cell_type": "markdown",
   "id": "5696ec69",
   "metadata": {},
   "source": [
    "So, four inputs and two outputs. Let's try a network with one hidden layer of 10 units."
   ]
  },
  {
   "cell_type": "code",
   "execution_count": 59,
   "id": "de807043",
   "metadata": {
    "ExecuteTime": {
     "end_time": "2022-09-29T16:39:12.053190Z",
     "start_time": "2022-09-29T16:39:11.762091Z"
    }
   },
   "outputs": [
    {
     "name": "stdout",
     "output_type": "stream",
     "text": [
      "SCG: Iteration 100 RMSE=0.01407\n",
      "SCG: Iteration 200 RMSE=0.00777\n",
      "SCG: Iteration 300 RMSE=0.00570\n",
      "SCG: Iteration 400 RMSE=0.00498\n",
      "SCG: Iteration 500 RMSE=0.00456\n",
      "SCG: Iteration 600 RMSE=0.00418\n",
      "SCG: Iteration 700 RMSE=0.00396\n",
      "SCG: Iteration 800 RMSE=0.00381\n",
      "SCG: Iteration 900 RMSE=0.00365\n",
      "SCG: Iteration 1000 RMSE=0.00351\n"
     ]
    },
    {
     "data": {
      "text/plain": [
       "NeuralNetwork(4, [10], 2)"
      ]
     },
     "execution_count": 59,
     "metadata": {},
     "output_type": "execute_result"
    }
   ],
   "source": [
    "nnet = nn.NeuralNetwork(4, [10], 2)\n",
    "nnet.train(X, T, 1000, 'scg')"
   ]
  },
  {
   "cell_type": "code",
   "execution_count": 60,
   "id": "98d7339f",
   "metadata": {
    "ExecuteTime": {
     "end_time": "2022-09-29T16:39:12.131966Z",
     "start_time": "2022-09-29T16:39:12.054692Z"
    }
   },
   "outputs": [
    {
     "data": {
      "image/png": "[encoded data removed]",
      "text/plain": [
       "<Figure size 432x288 with 1 Axes>"
      ]
     },
     "metadata": {
      "needs_background": "light"
     },
     "output_type": "display_data"
    }
   ],
   "source": [
    "plt.plot(nnet.get_performance_trace());"
   ]
  },
  {
   "cell_type": "markdown",
   "id": "d575da51",
   "metadata": {},
   "source": [
    "We can plot the output versus input for the first target, since it is a function of just the first input component."
   ]
  },
  {
   "cell_type": "code",
   "execution_count": 61,
   "id": "48f625a5",
   "metadata": {
    "ExecuteTime": {
     "end_time": "2022-09-29T16:39:12.211740Z",
     "start_time": "2022-09-29T16:39:12.133886Z"
    }
   },
   "outputs": [
    {
     "data": {
      "image/png": "[encoded data removed]",
      "text/plain": [
       "<Figure size 432x288 with 1 Axes>"
      ]
     },
     "metadata": {
      "needs_background": "light"
     },
     "output_type": "display_data"
    }
   ],
   "source": [
    "Y = nnet.use(X)\n",
    "plt.plot(X[:, 0], Y[:, 0], 'o', alpha=0.5)\n",
    "plt.plot(X[:, 0], T[:, 0], '.', alpha=0.5);"
   ]
  },
  {
   "cell_type": "markdown",
   "id": "cdd40b53",
   "metadata": {},
   "source": [
    "We can plot Y vs T for each output separately."
   ]
  },
  {
   "cell_type": "code",
   "execution_count": 62,
   "id": "8f72990c",
   "metadata": {
    "ExecuteTime": {
     "end_time": "2022-09-29T16:39:12.384759Z",
     "start_time": "2022-09-29T16:39:12.212867Z"
    }
   },
   "outputs": [
    {
     "data": {
      "image/png": "[encoded data removed]",
      "text/plain": [
       "<Figure size 432x288 with 2 Axes>"
      ]
     },
     "metadata": {
      "needs_background": "light"
     },
     "output_type": "display_data"
    }
   ],
   "source": [
    "plt.subplot(1, 2, 1)\n",
    "plt.plot(T[:, 0], Y[:, 0], '.')\n",
    "TY = np.stack((T[:, 0], Y[:, 0]))\n",
    "mn, mx = TY.min(), TY.max()\n",
    "plt.plot([mn, mx], [mn, mx], 'r-', alpha=0.5)\n",
    "plt.xlabel('$T_0$')\n",
    "plt.ylabel('$Y_0$')\n",
    "\n",
    "plt.subplot(1, 2, 2)\n",
    "plt.plot(T[:, 1], Y[:, 1], '.')\n",
    "TY = np.stack((T[:, 1], Y[:, 1]))\n",
    "mn, mx = TY.min(), TY.max()\n",
    "plt.plot([mn, mx], [mn, mx], 'r-', alpha=0.5)\n",
    "plt.xlabel('$T_1$')\n",
    "plt.ylabel('$Y_1$')\n",
    "\n",
    "plt.tight_layout();"
   ]
  },
  {
   "cell_type": "markdown",
   "id": "ef6c0d13",
   "metadata": {},
   "source": [
    "Now, let's look at the first layer weights.\n",
    "\n",
    "We expect the first input to be significant, since $T_0$ depends only on it.  $T_1$ depends on the third and fourth inputs."
   ]
  },
  {
   "cell_type": "code",
   "execution_count": 63,
   "id": "df66433c",
   "metadata": {
    "ExecuteTime": {
     "end_time": "2022-09-29T16:39:12.388731Z",
     "start_time": "2022-09-29T16:39:12.385877Z"
    }
   },
   "outputs": [
    {
     "data": {
      "text/plain": [
       "2"
      ]
     },
     "execution_count": 63,
     "metadata": {},
     "output_type": "execute_result"
    }
   ],
   "source": [
    "len(nnet.Ws)"
   ]
  },
  {
   "cell_type": "code",
   "execution_count": 64,
   "id": "2657fe62",
   "metadata": {
    "ExecuteTime": {
     "end_time": "2022-09-29T16:39:12.398233Z",
     "start_time": "2022-09-29T16:39:12.389739Z"
    }
   },
   "outputs": [
    {
     "data": {
      "text/plain": [
       "(5, 10)"
      ]
     },
     "execution_count": 64,
     "metadata": {},
     "output_type": "execute_result"
    }
   ],
   "source": [
    "W1 = nnet.Ws[0]\n",
    "W1.shape"
   ]
  },
  {
   "cell_type": "code",
   "execution_count": 65,
   "id": "f2337de5",
   "metadata": {
    "ExecuteTime": {
     "end_time": "2022-09-29T16:39:12.481741Z",
     "start_time": "2022-09-29T16:39:12.399776Z"
    }
   },
   "outputs": [
    {
     "data": {
      "text/plain": [
       "<matplotlib.image.AxesImage at 0x7fd333bc5a60>"
      ]
     },
     "execution_count": 65,
     "metadata": {},
     "output_type": "execute_result"
    },
    {
     "data": {
      "image/png": "[encoded data removed]",
      "text/plain": [
       "<Figure size 432x288 with 1 Axes>"
      ]
     },
     "metadata": {
      "needs_background": "light"
     },
     "output_type": "display_data"
    }
   ],
   "source": [
    "plt.imshow(W1)"
   ]
  },
  {
   "cell_type": "code",
   "execution_count": 66,
   "id": "255f1f4e",
   "metadata": {
    "ExecuteTime": {
     "end_time": "2022-09-29T16:39:12.555330Z",
     "start_time": "2022-09-29T16:39:12.482922Z"
    }
   },
   "outputs": [
    {
     "data": {
      "image/png": "[encoded data removed]",
      "text/plain": [
       "<Figure size 432x288 with 1 Axes>"
      ]
     },
     "metadata": {
      "needs_background": "light"
     },
     "output_type": "display_data"
    }
   ],
   "source": [
    "plt.imshow(W1)\n",
    "n_inputs, n_units = W1.shape\n",
    "x_labels = ['Unit {}'.format(i) for i in range(n_units)]\n",
    "plt.xticks(list(range(n_units)), x_labels)\n",
    "y_labels = ['x{}'.format(i) for i in range(n_inputs)]\n",
    "plt.yticks(range(n_inputs), y_labels);"
   ]
  },
  {
   "cell_type": "markdown",
   "id": "8d948feb",
   "metadata": {},
   "source": [
    "Now add a colorbar to help us interpret the colors."
   ]
  },
  {
   "cell_type": "code",
   "execution_count": 67,
   "id": "94a30a08",
   "metadata": {
    "ExecuteTime": {
     "end_time": "2022-09-29T16:39:12.678438Z",
     "start_time": "2022-09-29T16:39:12.557408Z"
    }
   },
   "outputs": [
    {
     "data": {
      "image/png": "[encoded data removed]",
      "text/plain": [
       "<Figure size 432x288 with 2 Axes>"
      ]
     },
     "metadata": {
      "needs_background": "light"
     },
     "output_type": "display_data"
    }
   ],
   "source": [
    "plt.imshow(W1)\n",
    "n_inputs, n_units = W1.shape\n",
    "x_labels = ['Unit {}'.format(i) for i in range(n_units)]\n",
    "plt.xticks(list(range(n_units)), x_labels)\n",
    "y_labels = ['x{}'.format(i) for i in range(n_inputs)]\n",
    "plt.yticks(range(n_inputs), y_labels)\n",
    "\n",
    "plt.colorbar();"
   ]
  },
  {
   "cell_type": "markdown",
   "id": "2b3e945b",
   "metadata": {},
   "source": [
    "These colors are hard to understand.  Make our own colorbar with white being zero weights."
   ]
  },
  {
   "cell_type": "code",
   "execution_count": 68,
   "id": "b7624490",
   "metadata": {
    "ExecuteTime": {
     "end_time": "2022-09-29T16:39:12.872890Z",
     "start_time": "2022-09-29T16:39:12.679668Z"
    }
   },
   "outputs": [
    {
     "data": {
      "image/png": "[encoded data removed]",
      "text/plain": [
       "<Figure size 432x288 with 2 Axes>"
      ]
     },
     "metadata": {
      "needs_background": "light"
     },
     "output_type": "display_data"
    }
   ],
   "source": [
    "from  matplotlib.colors import LinearSegmentedColormap\n",
    "cmap = LinearSegmentedColormap.from_list('rg',[\"r\", \"w\", \"g\"], N=256) \n",
    "\n",
    "plt.imshow(W1, cmap=cmap)\n",
    "n_inputs, n_units = W1.shape\n",
    "x_labels = ['Unit {}'.format(i) for i in range(n_units)]\n",
    "plt.xticks(list(range(n_units)), x_labels)\n",
    "y_labels = ['x{}'.format(i) for i in range(n_inputs)]\n",
    "plt.yticks(range(n_inputs), y_labels)\n",
    "\n",
    "plt.colorbar();"
   ]
  },
  {
   "cell_type": "markdown",
   "id": "69cdb69b",
   "metadata": {},
   "source": [
    "Not quite.  We want the color scale to have equal magnitude max and min values."
   ]
  },
  {
   "cell_type": "code",
   "execution_count": 69,
   "id": "0482c890",
   "metadata": {
    "ExecuteTime": {
     "end_time": "2022-09-29T16:39:12.997241Z",
     "start_time": "2022-09-29T16:39:12.874157Z"
    }
   },
   "outputs": [
    {
     "data": {
      "image/png": "[encoded data removed]",
      "text/plain": [
       "<Figure size 432x288 with 2 Axes>"
      ]
     },
     "metadata": {
      "needs_background": "light"
     },
     "output_type": "display_data"
    }
   ],
   "source": [
    "mx = np.max(np.abs(W1))\n",
    "\n",
    "plt.imshow(W1, cmap=cmap, vmin=-mx, vmax=mx)\n",
    "n_inputs, n_units = W1.shape\n",
    "x_labels = ['Unit {}'.format(i) for i in range(n_units)]\n",
    "plt.xticks(list(range(n_units)), x_labels)\n",
    "y_labels = ['x{}'.format(i) for i in range(n_inputs)]\n",
    "plt.yticks(range(n_inputs), y_labels)\n",
    "\n",
    "plt.colorbar();"
   ]
  },
  {
   "cell_type": "markdown",
   "id": "770754ad",
   "metadata": {},
   "source": [
    "There.  Kind of what we expected.  $x_1$, $x_3$, and $x_4$, and the bias weight, $w_0$ are most significant.\n",
    "\n",
    "We can add the output weight values in the x tick labels to see how each of the units are connected to the output layer."
   ]
  },
  {
   "cell_type": "code",
   "execution_count": 70,
   "id": "df641fde",
   "metadata": {
    "ExecuteTime": {
     "end_time": "2022-09-29T16:39:13.198883Z",
     "start_time": "2022-09-29T16:39:12.998432Z"
    }
   },
   "outputs": [
    {
     "data": {
      "image/png": "[encoded data removed]",
      "text/plain": [
       "<Figure size 432x288 with 2 Axes>"
      ]
     },
     "metadata": {
      "needs_background": "light"
     },
     "output_type": "display_data"
    }
   ],
   "source": [
    "W2 = nnet.Ws[1]\n",
    "\n",
    "mx = np.max(np.abs(W1))\n",
    "\n",
    "plt.imshow(W1, cmap=cmap, vmin=-mx, vmax=mx)\n",
    "n_inputs, n_units = W1.shape\n",
    "x_labels = ['Unit {}\\n${:.1f}$\\n${:.1f}$'.format(i, W2[i+1, 0], W2[i+1, 1]) for i in range(n_units)]\n",
    "plt.xticks(list(range(n_units)), x_labels)\n",
    "y_labels = ['x{}'.format(i) for i in range(n_inputs)]\n",
    "plt.yticks(range(n_inputs), y_labels)\n",
    "\n",
    "plt.colorbar();"
   ]
  },
  {
   "cell_type": "markdown",
   "id": "d8db944a",
   "metadata": {},
   "source": [
    "Why did I use dollar signs for the values in the x tick labels?"
   ]
  },
  {
   "cell_type": "markdown",
   "id": "b1696b4e",
   "metadata": {},
   "source": [
    "Now for even more fun!   Here is a function I use to draw neural networks with weight matrices!"
   ]
  },
  {
   "cell_type": "code",
   "execution_count": 71,
   "id": "15945146",
   "metadata": {
    "ExecuteTime": {
     "end_time": "2022-09-29T16:39:13.215678Z",
     "start_time": "2022-09-29T16:39:13.200175Z"
    }
   },
   "outputs": [],
   "source": [
    "import matplotlib.patches as pltpatch  # for Arc\n",
    "import matplotlib.collections as pltcoll\n",
    "\n",
    "def draw(W, inputNames = None, outputNames = None, scale = 1, gray = False):\n",
    "    \n",
    "    def isOdd(x):\n",
    "        return x % 2 != 0\n",
    "\n",
    "    # if inputNames is None:\n",
    "    #     inputNames = [\"$x_{}$\".format(i) for i in range(1,W[0].shape[0])]\n",
    "\n",
    "    nLayers = len(W)\n",
    "\n",
    "    # calculate xlim and ylim for whole network plot\n",
    "    #  Assume 4 characters fit between each wire\n",
    "    #  -0.5 is to leave 0.5 spacing before first wire\n",
    "    xlim = max(map(len,inputNames))/4.0 if inputNames else 1\n",
    "    ylim = 0\n",
    "    \n",
    "    for li in range(nLayers):\n",
    "        ni,no = W[li].shape  #no means number outputs this layer\n",
    "        if not isOdd(li):\n",
    "            ylim += ni + 0.5\n",
    "        else:\n",
    "            xlim += ni + 0.5\n",
    "\n",
    "    ni,no = W[nLayers-1].shape  #no means number outputs this layer\n",
    "    if isOdd(nLayers):\n",
    "        xlim += no + 0.5\n",
    "    else:\n",
    "        ylim += no + 0.5\n",
    "\n",
    "    # Add space for output names\n",
    "    if outputNames:\n",
    "        if isOdd(nLayers):\n",
    "            ylim += 0.25\n",
    "        else:\n",
    "            xlim += round(max(map(len,outputNames))/4.0)\n",
    "\n",
    "    ax = plt.gca()\n",
    "\n",
    "    # changes from Jim Jazwiecki (jim.jazwiecki@gmail.com) CS480 student\n",
    "    character_width_factor = 0.07\n",
    "    padding = 2\n",
    "    if inputNames:\n",
    "        x0 = max([1, max(map(len, inputNames)) * (character_width_factor * 3.5)])\n",
    "    else:\n",
    "        x0 = 1\n",
    "    y0 = 0 # to allow for constant input to first layer\n",
    "    # First Layer\n",
    "    if inputNames:\n",
    "        # addx = max(map(len,inputNames))*0.1\n",
    "        y = 0.55\n",
    "        for n in inputNames:\n",
    "            y += 1\n",
    "            ax.text(x0 - (character_width_factor * padding), y, n, horizontalalignment=\"right\", fontsize=20)\n",
    "            # x0 = max([1,max(map(len,inputNames))/4.0])\n",
    "\n",
    "    patches = []\n",
    "    for li in range(nLayers):\n",
    "        thisW = W[li]\n",
    "        maxW = np.max(np.abs(thisW))\n",
    "        ni,no = thisW.shape\n",
    "        if not isOdd(li):\n",
    "            # Even layer index. Vertical layer. Origin is upper left.\n",
    "            # Constant input\n",
    "            ax.text(x0-0.2, y0+0.5, '1', fontsize=20)\n",
    "            for i in range(ni):\n",
    "                ax.plot((x0,x0+no-0.5), (y0+i+0.5, y0+i+0.5),color='gray')\n",
    "            # output lines\n",
    "            for i in range(no):\n",
    "                ax.plot((x0+1+i-0.5, x0+1+i-0.5), (y0, y0+ni+1),color='gray')\n",
    "            # cell \"bodies\"\n",
    "            xs = x0 + np.arange(no) + 0.5\n",
    "            ys = np.array([y0+ni+0.5]*no)\n",
    "            for x,y in zip(xs,ys):\n",
    "                patches.append(pltpatch.RegularPolygon( (x,y-0.4), 3, 0.3, 0, color ='#555555'))\n",
    "            # ax.scatter(xs,ys,marker='v',s=distToPoints(ax,1),c='gray')\n",
    "            # weights\n",
    "            if gray:\n",
    "                colors = np.array([\"black\",\"gray\"])[(thisW.flat >= 0)+0]\n",
    "            else:\n",
    "                colors = np.array([\"red\",\"green\"])[(thisW.flat >= 0)+0]\n",
    "            xs = np.arange(no)+ x0+0.5\n",
    "            ys = np.arange(ni)+ y0 + 0.5\n",
    "            # aWi = (np.abs(Wi) * scaleW)**2\n",
    "            coords = np.meshgrid(xs,ys)\n",
    "            #ax.scatter(coords[0],coords[1],marker='o',s=2*np.pi*aWi**2,c=colors)\n",
    "            for x,y,w,c in zip(coords[0].flat,coords[1].flat, \n",
    "                               np.abs(thisW/maxW).flat, colors):\n",
    "                patches.append(pltpatch.Rectangle((x-w/2, y-w/2), w,w, color=c))\n",
    "            # ax.scatter(coords[0],coords[1],marker='s',s=distsToPoints(ax,thisW/maxW),c=colors)\n",
    "            y0 += ni + 1\n",
    "            x0 += -1 ## shift for next layer's constant input\n",
    "        else:\n",
    "            # Odd layer index. Horizontal layer. Origin is upper left.\n",
    "            # Constant input\n",
    "            # Reverse order of columns\n",
    "            thisW = thisW.T\n",
    "            ax.text(x0+0.5, y0-0.2, '1', fontsize=20)\n",
    "            # input lines\n",
    "            for i in range(ni):\n",
    "                ax.plot((x0+i+0.5,  x0+i+0.5), (y0,y0+no-0.5),color='gray')\n",
    "            # output lines\n",
    "            for i in range(no):\n",
    "                ax.plot((x0, x0+ni+1), (y0+i+0.5, y0+i+0.5),color='gray')\n",
    "            # cell \"bodies\"\n",
    "            xs = np.array([x0 + ni + 0.5]*no)\n",
    "            ys = y0 + 0.5 + np.arange(no)\n",
    "            for x,y in zip(xs,ys):\n",
    "                patches.append(pltpatch.RegularPolygon( (x-0.4,y), 3, 0.3, -np.pi/2, color ='#555555'))\n",
    "            # ax.scatter(xs,ys,marker='>',s=distToPoints(ax,1),c='gray')\n",
    "            # weights\n",
    "            if gray:\n",
    "                colors = np.array([\"black\",\"gray\"])[(thisW.flat >= 0)+0]\n",
    "            else:\n",
    "                colors = np.array([\"red\",\"green\"])[(thisW.flat >= 0)+0]\n",
    "            xs = np.arange(ni)+x0 + 0.5\n",
    "            ys = np.arange(no)+y0 + 0.5\n",
    "            coords = np.meshgrid(xs,ys)\n",
    "            # aWi = (np.abs(Wi) * scaleW)**2\n",
    "            #ax.scatter(coords[0],coords[1],marker='o',s=2*np.pi*aWi**2,c=colors)\n",
    "            for x,y,w,c in zip(coords[0].flat,coords[1].flat, \n",
    "                               np.abs(thisW/maxW).flat, colors):\n",
    "                patches.append(pltpatch.Rectangle((x-w/2, y-w/2), w,w, color=c))\n",
    "            # ax.scatter(coords[0],coords[1],marker='s',s=distsToPoints(ax,thisW/maxW),c=colors)\n",
    "            x0 += ni + 1\n",
    "            y0 -= 1 ##shift to allow for next layer's constant input\n",
    "\n",
    "    collection = pltcoll.PatchCollection(patches, match_original=True)\n",
    "    ax.add_collection(collection)\n",
    "\n",
    "    # Last layer output labels \n",
    "    if outputNames:\n",
    "        if isOdd(nLayers):\n",
    "            x = x0+1.5\n",
    "            for n in outputNames:\n",
    "                x += 1\n",
    "                ax.text(x, y0+0.5, n, fontsize=20)\n",
    "        else:\n",
    "            y = y0+0.6\n",
    "            for n in outputNames:\n",
    "                y += 1\n",
    "                ax.text(x0+0.2, y, n, fontsize=20)\n",
    "    ax.axis([0,xlim, ylim,0])\n",
    "    ax.axis('off')"
   ]
  },
  {
   "cell_type": "code",
   "execution_count": 72,
   "id": "79b97219",
   "metadata": {
    "ExecuteTime": {
     "end_time": "2022-09-29T16:39:13.287517Z",
     "start_time": "2022-09-29T16:39:13.216878Z"
    }
   },
   "outputs": [
    {
     "data": {
      "image/png": "[encoded data removed]",
      "text/plain": [
       "<Figure size 432x288 with 1 Axes>"
      ]
     },
     "metadata": {
      "needs_background": "light"
     },
     "output_type": "display_data"
    }
   ],
   "source": [
    "draw(nnet.Ws)"
   ]
  },
  {
   "cell_type": "markdown",
   "id": "ee158bb1",
   "metadata": {},
   "source": [
    "Now, let's combine the data generation, neural network training, and visualizations all together in one code cell so we can easily repeat with variations."
   ]
  },
  {
   "cell_type": "code",
   "execution_count": 73,
   "id": "1237dfb7",
   "metadata": {
    "ExecuteTime": {
     "end_time": "2022-09-29T16:39:13.290747Z",
     "start_time": "2022-09-29T16:39:13.288711Z"
    }
   },
   "outputs": [],
   "source": [
    "from mpl_toolkits.axes_grid1 import make_axes_locatable"
   ]
  },
  {
   "cell_type": "code",
   "execution_count": 74,
   "id": "f122c7cc",
   "metadata": {
    "ExecuteTime": {
     "end_time": "2022-09-29T16:39:14.027407Z",
     "start_time": "2022-09-29T16:39:13.291970Z"
    }
   },
   "outputs": [
    {
     "name": "stdout",
     "output_type": "stream",
     "text": [
      "SCG: Iteration 100 RMSE=0.01394\n",
      "SCG: Iteration 200 RMSE=0.00955\n",
      "SCG: Iteration 300 RMSE=0.00389\n",
      "SCG: Iteration 400 RMSE=0.00267\n",
      "SCG: Iteration 500 RMSE=0.00226\n",
      "SCG: Iteration 600 RMSE=0.00212\n",
      "SCG: Iteration 700 RMSE=0.00204\n",
      "SCG: Iteration 800 RMSE=0.00199\n",
      "SCG: Iteration 900 RMSE=0.00194\n",
      "SCG: Iteration 1000 RMSE=0.00190\n"
     ]
    },
    {
     "data": {
      "image/png": "[encoded data removed]",
      "text/plain": [
       "<Figure size 1080x1080 with 6 Axes>"
      ]
     },
     "metadata": {
      "needs_background": "light"
     },
     "output_type": "display_data"
    }
   ],
   "source": [
    "n_samples = 100\n",
    "x1 = np.random.uniform(0, 1, n_samples)\n",
    "x2 = np.random.uniform(-100, -80, n_samples)\n",
    "x3 = np.random.uniform(1000, 2000, n_samples)\n",
    "x4 = np.random.uniform(-1, 1, n_samples)\n",
    "\n",
    "t1 = x1 ** 2\n",
    "t2 = 0 * x3 + x4 * 1000\n",
    "\n",
    "X = np.vstack((x1, x2, x3, x4)).T\n",
    "T = np.vstack((t1, t2)).T\n",
    "\n",
    "\n",
    "nnet = nn.NeuralNetwork(4, [10], 2)\n",
    "nnet.train(X, T, 1000, 'scg')\n",
    "\n",
    "\n",
    "plt.figure(figsize=(15, 15))\n",
    "\n",
    "plt.subplot(3, 1, 1)\n",
    "plt.plot(nnet.get_performance_trace())\n",
    "\n",
    "Y = nnet.use(X)\n",
    "\n",
    "plt.subplot(3, 2, 3)\n",
    "plt.plot(T[:, 0], Y[:, 0], '.')\n",
    "TY = np.stack((T[:, 0], Y[:, 0]))\n",
    "mn, mx = TY.min(), TY.max()\n",
    "plt.plot([mn, mx], [mn, mx], 'r-', alpha=0.5)\n",
    "\n",
    "plt.subplot(3, 2, 4)\n",
    "plt.plot(T[:, 1], Y[:, 1], '.')\n",
    "TY = np.stack((T[:, 1], Y[:, 1]))\n",
    "mn, mx = TY.min(), TY.max()\n",
    "plt.plot([mn, mx], [mn, mx], 'r-', alpha=0.5)\n",
    "\n",
    "W1 = nnet.Ws[0]\n",
    "W2 = nnet.Ws[1]\n",
    "\n",
    "plt.subplot(3, 2, 5)\n",
    "\n",
    "mx = np.max(np.abs(W1))\n",
    "# image = plt.imshow(W1, cmap='coolwarm', vmin=-mx, vmax=mx)\n",
    "image = plt.imshow(W1, cmap=cmap, vmin=-mx, vmax=mx)\n",
    "n_inputs, n_units = W1.shape\n",
    "x_labels = ['Unit {}\\n{:.1f}\\n{:.1f}'.format(i, W2[i+1, 0], W2[i+1, 1]) for i in range(n_units)]\n",
    "plt.xticks(list(range(n_units)), x_labels)\n",
    "y_labels = ['x{}'.format(i) for i in range(n_inputs)]\n",
    "plt.yticks(range(n_inputs), y_labels)\n",
    "\n",
    "ax = plt.gca()\n",
    "divider = make_axes_locatable(ax)\n",
    "cax = divider.append_axes('right', size='10%', pad=0.1)\n",
    "plt.colorbar(image, cax=cax)\n",
    "\n",
    "plt.subplot(3, 2, 6)\n",
    "\n",
    "\n",
    "input_labels = ['x{}'.format(i) for i in range(n_inputs)]\n",
    "n_outputs = T.shape[1]\n",
    "output_labels = ['t{}'.format(i) for i in range(n_outputs)]\n",
    "draw(nnet.Ws, inputNames = input_labels, outputNames = output_labels)"
   ]
  },
  {
   "cell_type": "markdown",
   "id": "1e3f53da",
   "metadata": {},
   "source": [
    "This should raise some questions in your brains!\n",
    "\n",
    "- Can I interpret the functions learned in each hidden unit?\n",
    "- Does the sign with which they connect to the output units make sense?\n",
    "- How many units do we need in the first layer?\n",
    "- How much variation is there in results from one run to the next?\n",
    "- Can I reduce the number of units in the hidden layer by combining similar units?\n"
   ]
  },
  {
   "cell_type": "code",
   "execution_count": null,
   "id": "a58a9af3",
   "metadata": {},
   "outputs": [],
   "source": []
  }
 ],
 "metadata": {
  "kernelspec": {
   "display_name": "Python 3 (ipykernel)",
   "language": "python",
   "name": "python3"
  },
  "language_info": {
   "codemirror_mode": {
    "name": "ipython",
    "version": 3
   },
   "file_extension": ".py",
   "mimetype": "text/x-python",
   "name": "python",
   "nbconvert_exporter": "python",
   "pygments_lexer": "ipython3",
   "version": "3.8.13"
  },
  "toc": {
   "base_numbering": 1,
   "nav_menu": {},
   "number_sections": true,
   "sideBar": true,
   "skip_h1_title": false,
   "title_cell": "Table of Contents",
   "title_sidebar": "Contents",
   "toc_cell": false,
   "toc_position": {},
   "toc_section_display": true,
   "toc_window_display": false
  }
 },
 "nbformat": 4,
 "nbformat_minor": 5
}
