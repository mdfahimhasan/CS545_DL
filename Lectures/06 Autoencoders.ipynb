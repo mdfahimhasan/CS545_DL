{
 "cells": [
  {
   "cell_type": "markdown",
   "id": "8e0cccf9",
   "metadata": {},
   "source": [
    "# Autoencoders"
   ]
  },
  {
   "cell_type": "code",
   "execution_count": null,
   "id": "4acdd235",
   "metadata": {
    "ExecuteTime": {
     "end_time": "2022-09-22T16:43:47.767551Z",
     "start_time": "2022-09-22T16:43:47.115734Z"
    }
   },
   "outputs": [],
   "source": [
    "import numpy as np\n",
    "import matplotlib.pyplot as plt\n",
    "%matplotlib inline"
   ]
  },
  {
   "cell_type": "code",
   "execution_count": null,
   "id": "7f566759",
   "metadata": {
    "ExecuteTime": {
     "end_time": "2022-09-22T16:43:47.771781Z",
     "start_time": "2022-09-22T16:43:47.769084Z"
    }
   },
   "outputs": [],
   "source": [
    "import neuralnetworksA3 as nn"
   ]
  },
  {
   "cell_type": "markdown",
   "id": "9da62bd2",
   "metadata": {},
   "source": [
    "## Climate Change\n",
    "\n",
    "Patterns in [global temperature data](https://www.cs.colostate.edu/~anderson/cs545/notebooks/global_temps.npz) provide a way to investigate climate change.  This data is from the [Coupled Model Intercomparison Project Phase 5](https://pcmdi.llnl.gov/mips/cmip5/)"
   ]
  },
  {
   "cell_type": "code",
   "execution_count": null,
   "id": "b4c10df3",
   "metadata": {
    "ExecuteTime": {
     "end_time": "2022-09-22T16:43:47.784878Z",
     "start_time": "2022-09-22T16:43:47.772957Z"
    }
   },
   "outputs": [],
   "source": [
    "temps = np.load('global_temps.npz')\n",
    "temps.files"
   ]
  },
  {
   "cell_type": "code",
   "execution_count": null,
   "id": "72e0d9f9",
   "metadata": {
    "ExecuteTime": {
     "end_time": "2022-09-22T16:43:50.933341Z",
     "start_time": "2022-09-22T16:43:47.786496Z"
    }
   },
   "outputs": [],
   "source": [
    "data = temps['data']\n",
    "lats = temps['lats']\n",
    "lons = temps['lons']\n",
    "\n",
    "data.shape, lats.shape, lons.shape"
   ]
  },
  {
   "cell_type": "markdown",
   "id": "8b212c0c",
   "metadata": {},
   "source": [
    "The data was produced by 29 different simulations of the dynamics of the earth's atmosphere.  The simulations produced global temperatures for 180 years, from 1920 through 2100."
   ]
  },
  {
   "cell_type": "markdown",
   "id": "64afda74",
   "metadata": {},
   "source": [
    "We are using the `cartopy` package.  You should be able to install it in your anaconda distribution using\n",
    "\n",
    "      conda install -c anaconda cartopy"
   ]
  },
  {
   "cell_type": "code",
   "execution_count": null,
   "id": "79d766bf",
   "metadata": {
    "ExecuteTime": {
     "end_time": "2022-09-22T16:43:51.046205Z",
     "start_time": "2022-09-22T16:43:50.934513Z"
    }
   },
   "outputs": [],
   "source": [
    "import cartopy.util as cutil\n",
    "import cartopy.crs as ccrs\n",
    "import cartopy.feature as cpf\n",
    "from mpl_toolkits.axes_grid1 import make_axes_locatable  # for colorbar\n",
    "\n",
    "def draw_on_globe(data, lats, lons, cmap='coolwarm', vmin=None, vmax=None,\n",
    "                fig=None, axes=None):\n",
    "    if fig is None:\n",
    "        fig = plt.figure()\n",
    "        \n",
    "    if axes is None:\n",
    "        axes = fig.add_subplot(1, 1, 1, projection=ccrs.Robinson())\n",
    "\n",
    "    data_cyclic, lons_cyclic = cutil.add_cyclic_point(data, coord=lons)\n",
    "\n",
    "    image = axes.pcolormesh(lons_cyclic, lats, data_cyclic,\n",
    "                          cmap=cmap, vmin=vmin, vmax=vmax,\n",
    "                          transform=ccrs.PlateCarree() )\n",
    "\n",
    "    axes.coastlines();\n",
    "    \n",
    "    divider = make_axes_locatable(axes)\n",
    "    ax_cb = divider.new_horizontal(size=\"5%\", pad=0.1, axes_class=plt.Axes)\n",
    "\n",
    "    plt.gcf().add_axes(ax_cb)\n",
    "    plt.colorbar(image, cax=ax_cb)\n",
    "\n",
    "    plt.sca(axes)  # in case other calls, like plt.title(...), will be made\n",
    "    # return image\n"
   ]
  },
  {
   "cell_type": "code",
   "execution_count": null,
   "id": "b1a47950",
   "metadata": {
    "ExecuteTime": {
     "end_time": "2022-09-22T16:43:51.050886Z",
     "start_time": "2022-09-22T16:43:51.047918Z"
    }
   },
   "outputs": [],
   "source": [
    "data.shape"
   ]
  },
  {
   "cell_type": "code",
   "execution_count": null,
   "id": "96e1d0b2",
   "metadata": {
    "ExecuteTime": {
     "end_time": "2022-09-22T16:43:51.230588Z",
     "start_time": "2022-09-22T16:43:51.052128Z"
    }
   },
   "outputs": [],
   "source": [
    "data = data - data.mean((2, 3))[:, :, np.newaxis, np.newaxis]"
   ]
  },
  {
   "cell_type": "code",
   "execution_count": null,
   "id": "bba10120",
   "metadata": {
    "ExecuteTime": {
     "end_time": "2022-09-22T16:43:52.425131Z",
     "start_time": "2022-09-22T16:43:51.232035Z"
    }
   },
   "outputs": [],
   "source": [
    "draw_on_globe(data[0, 0, :, :], lats, lons)\n",
    "plt.title('First Simulation, Year 1920');"
   ]
  },
  {
   "cell_type": "code",
   "execution_count": null,
   "id": "014ffed7",
   "metadata": {
    "ExecuteTime": {
     "end_time": "2022-09-22T16:43:53.342657Z",
     "start_time": "2022-09-22T16:43:52.426593Z"
    }
   },
   "outputs": [],
   "source": [
    "draw_on_globe(data[0, 179, :, :], lats, lons)\n",
    "plt.title('First Simulation, Year 2100');"
   ]
  },
  {
   "cell_type": "code",
   "execution_count": null,
   "id": "f8db3f8f",
   "metadata": {
    "ExecuteTime": {
     "end_time": "2022-09-22T16:43:54.262258Z",
     "start_time": "2022-09-22T16:43:53.344859Z"
    }
   },
   "outputs": [],
   "source": [
    "temperature_differences = data[0, 179, :, :] - data[0, 0, :, :]\n",
    "draw_on_globe(temperature_differences, lats, lons)\n",
    "plt.title('First Simulation, Year 2100 - 1920');"
   ]
  },
  {
   "cell_type": "markdown",
   "id": "b8841c34",
   "metadata": {},
   "source": [
    "Let's swap the first two axes, so the first dimension is the years.  Then we will use the different years as different samples and try to project data into two dimensions and see how the years fall in the two-dimensional plane."
   ]
  },
  {
   "cell_type": "code",
   "execution_count": null,
   "id": "e9ee57fa",
   "metadata": {
    "ExecuteTime": {
     "end_time": "2022-09-22T16:43:54.298240Z",
     "start_time": "2022-09-22T16:43:54.263548Z"
    }
   },
   "outputs": [],
   "source": [
    "np.moveaxis?"
   ]
  },
  {
   "cell_type": "code",
   "execution_count": null,
   "id": "67a03527",
   "metadata": {
    "ExecuteTime": {
     "end_time": "2022-09-22T16:43:54.302319Z",
     "start_time": "2022-09-22T16:43:54.299538Z"
    }
   },
   "outputs": [],
   "source": [
    "data.shape"
   ]
  },
  {
   "cell_type": "code",
   "execution_count": null,
   "id": "1c34ff73",
   "metadata": {
    "ExecuteTime": {
     "end_time": "2022-09-22T16:43:54.312052Z",
     "start_time": "2022-09-22T16:43:54.303437Z"
    }
   },
   "outputs": [],
   "source": [
    "data_shifted = np.moveaxis(data, 0, 1)\n",
    "data.shape, data_shifted.shape"
   ]
  },
  {
   "cell_type": "markdown",
   "id": "22a50e3a",
   "metadata": {},
   "source": [
    "To save time, just use data from the first two (of 29) models."
   ]
  },
  {
   "cell_type": "code",
   "execution_count": null,
   "id": "c3ed9573",
   "metadata": {
    "ExecuteTime": {
     "end_time": "2022-09-22T16:36:19.096741Z",
     "start_time": "2022-09-22T16:36:19.079754Z"
    }
   },
   "outputs": [],
   "source": [
    "X = data_shifted[:, 0:2, :, :].reshape(180, -1)\n",
    "X.shape"
   ]
  },
  {
   "cell_type": "code",
   "execution_count": null,
   "id": "718346f0",
   "metadata": {
    "ExecuteTime": {
     "end_time": "2022-09-22T16:37:34.586155Z",
     "start_time": "2022-09-22T16:36:50.164701Z"
    }
   },
   "outputs": [],
   "source": [
    "nnet = nn.NeuralNetwork(X.shape[1], [50, 20, 20, 2, 20, 20, 50], X.shape[1])\n",
    "\n",
    "nnet.train(X, X, 100, 'scg')  # notice the target !\n",
    "plt.plot(nnet.get_performance_trace());"
   ]
  },
  {
   "cell_type": "code",
   "execution_count": null,
   "id": "ea90bc11",
   "metadata": {
    "ExecuteTime": {
     "end_time": "2022-09-22T16:38:33.909331Z",
     "start_time": "2022-09-22T16:37:44.276292Z"
    }
   },
   "outputs": [],
   "source": [
    "nnet.train(X, X, 100, 'scg')  # notice the target !\n",
    "plt.plot(nnet.get_performance_trace());"
   ]
  },
  {
   "cell_type": "code",
   "execution_count": null,
   "id": "e55678f7",
   "metadata": {
    "ExecuteTime": {
     "end_time": "2022-09-22T16:38:41.321610Z",
     "start_time": "2022-09-22T16:38:41.316692Z"
    }
   },
   "outputs": [],
   "source": [
    "len(nnet.Ys)"
   ]
  },
  {
   "cell_type": "code",
   "execution_count": null,
   "id": "b0f14b71",
   "metadata": {
    "ExecuteTime": {
     "end_time": "2022-09-22T16:38:55.240232Z",
     "start_time": "2022-09-22T16:38:55.236206Z"
    }
   },
   "outputs": [],
   "source": [
    "bottle = nnet.Ys[4]\n",
    "bottle.shape"
   ]
  },
  {
   "cell_type": "code",
   "execution_count": null,
   "id": "636dc62c",
   "metadata": {
    "ExecuteTime": {
     "end_time": "2022-09-22T16:41:21.337604Z",
     "start_time": "2022-09-22T16:41:21.291691Z"
    },
    "scrolled": false
   },
   "outputs": [],
   "source": [
    "plt.plot(bottle[:, 0], bottle[:, 1], '-o')\n",
    "r = 0.02\n",
    "for year, x, y in zip(range(1920, 2100), bottle[:, 0], bottle[:, 1]):\n",
    "    plt.annotate(str(year), xy=(x+np.random.uniform(-r, r),\n",
    "                                y+np.random.uniform(-r, r)),\n",
    "                 size=10);"
   ]
  },
  {
   "cell_type": "code",
   "execution_count": null,
   "id": "1a2e2387",
   "metadata": {
    "ExecuteTime": {
     "end_time": "2022-09-22T16:39:21.164087Z",
     "start_time": "2022-09-22T16:39:21.160267Z"
    }
   },
   "outputs": [],
   "source": [
    "bottle.shape"
   ]
  },
  {
   "cell_type": "code",
   "execution_count": null,
   "id": "4835065c",
   "metadata": {
    "ExecuteTime": {
     "end_time": "2022-09-22T16:42:57.077010Z",
     "start_time": "2022-09-22T16:42:57.063899Z"
    },
    "scrolled": false
   },
   "outputs": [],
   "source": [
    "plt.scatter(bottle[:, 0], bottle[:, 1], s=np.arange(180)*0.2, alpha=0.5)\n",
    "plt.plot(bottle[:, 0], bottle[:, 1], '-', alpha=0.2);"
   ]
  },
  {
   "cell_type": "markdown",
   "id": "8b7272a8",
   "metadata": {},
   "source": [
    "## Robot Kinematics"
   ]
  },
  {
   "cell_type": "code",
   "execution_count": null,
   "id": "e3d2e681",
   "metadata": {
    "ExecuteTime": {
     "end_time": "2022-09-22T16:49:53.576010Z",
     "start_time": "2022-09-22T16:49:53.566397Z"
    }
   },
   "outputs": [],
   "source": [
    "from math import pi\n",
    "import time\n",
    "import IPython.display as ipd  # for display and clear_output\n",
    "\n",
    "\n",
    "class Robot():\n",
    "\n",
    "    def __init__(self, link_lengths):\n",
    "        self.n_links = len(link_lengths)\n",
    "        self.link_lengths = np.array(link_lengths)\n",
    "        self.joint_angles = np.zeros(self.n_links)\n",
    "        self.points = [[10, 10] for _ in range(self.n_links + 1)]\n",
    "        self.lim = sum(link_lengths)\n",
    "        self.update_points()\n",
    "\n",
    "    def update_joints(self, joint_angles):\n",
    "        self.joint_angles = joint_angles\n",
    "        self.update_points()\n",
    "\n",
    "    def add_to_joints(self, joint_angle_deltas):\n",
    "        self.joint_angles += joint_angle_deltas\n",
    "        too_high = self.joint_angles > 2 * pi\n",
    "        self.joint_angles[too_high] = self.joint_angles[too_high] - 2 * pi\n",
    "        too_low = self.joint_angles < 0\n",
    "        self.joint_angles[too_low] = self.joint_angles[too_low] + 2 * pi\n",
    "        self.update_points()\n",
    "\n",
    "    def update_points(self):\n",
    "        for i in range(1, self.n_links + 1):\n",
    "            self.points[i][0] = self.points[i - 1][0] + \\\n",
    "                self.link_lengths[i - 1] * \\\n",
    "                np.cos(np.sum(self.joint_angles[:i]))\n",
    "            self.points[i][1] = self.points[i - 1][1] + \\\n",
    "                self.link_lengths[i - 1] * \\\n",
    "                np.sin(np.sum(self.joint_angles[:i]))\n",
    "\n",
    "        self.end_effector = np.array(self.points[self.n_links]).T\n",
    "\n",
    "    def get_state(self):\n",
    "        return np.hstack((np.sin(self.joint_angles),\n",
    "                          np.cos(self.joint_angles)))\n",
    "\n",
    "    def plot(self, obstacles=[]):\n",
    "        for i in range(self.n_links + 1):\n",
    "            if i is not self.n_links:\n",
    "                plt.plot([self.points[i][0], self.points[i + 1][0]],\n",
    "                         [self.points[i][1], self.points[i + 1][1]], 'r-')\n",
    "            plt.plot(self.points[i][0], self.points[i][1], 'k.')\n",
    "       \n",
    "        plt.axis('square')\n",
    "        plt.xlim([-1, 21])\n",
    "        plt.ylim([-1, 21])\n",
    "        # plt.pause(1e-2)\n",
    "\n",
    "    def illustrate(self):\n",
    "        for i in range(10):\n",
    "            action = np.random.uniform(0.1, 0.2, size=self.n_links)\n",
    "            # action = np.random.choice([0, 0.2, 0, 0.2], size=self.n_links)\n",
    "            # action = [0, 0, 0, 0.1]\n",
    "            self.add_to_joints(action)\n",
    "            self.plot()"
   ]
  },
  {
   "cell_type": "code",
   "execution_count": null,
   "id": "baf03fe7",
   "metadata": {
    "ExecuteTime": {
     "end_time": "2022-09-22T16:49:54.174008Z",
     "start_time": "2022-09-22T16:49:53.975966Z"
    }
   },
   "outputs": [],
   "source": [
    "arm = Robot([4., 5., 4., 6.])\n",
    "arm.illustrate()"
   ]
  },
  {
   "cell_type": "code",
   "execution_count": null,
   "id": "68a4813a",
   "metadata": {
    "ExecuteTime": {
     "end_time": "2022-09-22T16:50:02.381604Z",
     "start_time": "2022-09-22T16:50:01.834537Z"
    }
   },
   "outputs": [],
   "source": [
    "arm = Robot([4., 5., 4., 6.])\n",
    "graphics = False\n",
    "points = []\n",
    "fig = plt.figure()\n",
    "for i in range(1000):\n",
    "    action = np.random.uniform(0.1, 0.2, size=arm.n_links)\n",
    "    arm.add_to_joints(action)\n",
    "    if graphics:\n",
    "        plt.clf()\n",
    "        arm.plot()\n",
    "        ipd.clear_output(wait=True)\n",
    "        ipd.display(fig)\n",
    "        time.sleep(0.2)  # 0.2 seconds\n",
    "    ipd.clear_output(wait=True)\n",
    " \n",
    "    points.append(arm.points[1] + arm.points[2])"
   ]
  },
  {
   "cell_type": "code",
   "execution_count": null,
   "id": "11bddea4",
   "metadata": {
    "ExecuteTime": {
     "end_time": "2022-09-22T16:50:14.871040Z",
     "start_time": "2022-09-22T16:50:14.866162Z"
    }
   },
   "outputs": [],
   "source": [
    "points = np.array(points)\n",
    "points.shape"
   ]
  },
  {
   "cell_type": "code",
   "execution_count": null,
   "id": "2f67f312",
   "metadata": {
    "ExecuteTime": {
     "end_time": "2022-09-22T16:51:07.316739Z",
     "start_time": "2022-09-22T16:51:07.123381Z"
    }
   },
   "outputs": [],
   "source": [
    "for p in points[:10]:\n",
    "    arm.update_joints(p)\n",
    "    arm.plot()"
   ]
  },
  {
   "cell_type": "code",
   "execution_count": null,
   "id": "82c333ba",
   "metadata": {
    "ExecuteTime": {
     "end_time": "2022-09-22T16:52:51.719886Z",
     "start_time": "2022-09-22T16:52:10.156223Z"
    },
    "scrolled": false
   },
   "outputs": [],
   "source": [
    "X = np.array(points)\n",
    "\n",
    "nnet = nn.NeuralNetwork(X.shape[1], [100, 10, 2, 50], X.shape[1])\n",
    "nnet.train(X, X, 5000, 'scg')\n",
    "\n",
    "plt.figure()\n",
    "plt.plot(nnet.get_performance_trace())\n",
    "\n",
    "Y = nnet.use(X)\n",
    "\n",
    "plt.figure(figsize=(12, 12))\n",
    "plt.plot(X, '--')\n",
    "plt.plot(Y)\n",
    "\n",
    "plt.figure(figsize=(12, 12))\n",
    "bottle = nnet.Ys[3]\n",
    "plt.plot(bottle[:, 0], bottle[:, 1], '-o');"
   ]
  },
  {
   "cell_type": "code",
   "execution_count": null,
   "id": "41e9a145",
   "metadata": {
    "ExecuteTime": {
     "end_time": "2022-09-22T16:53:44.173673Z",
     "start_time": "2022-09-22T16:53:31.019310Z"
    },
    "scrolled": false
   },
   "outputs": [],
   "source": [
    "nnet = nn.NeuralNetwork(X.shape[1], [20, 10, 3, 20], X.shape[1])\n",
    "# nnet = nn.NeuralNetwork(X.shape[1], [100, 100, 50, 3, 50, 100], X.shape[1])\n",
    "nnet.train(X, X, 4000, 'scg')\n",
    "\n",
    "plt.figure()\n",
    "plt.plot(nnet.get_performance_trace())\n",
    "\n",
    "Y = nnet.use(X)\n",
    "\n",
    "plt.figure(figsize=(12, 12))\n",
    "plt.plot(X, '--')\n",
    "plt.plot(Y)\n",
    "\n",
    "from mpl_toolkits.mplot3d import Axes3D\n",
    "\n",
    "plt.figure(figsize=(12, 12))\n",
    "ax = plt.subplot(projection='3d')\n",
    "bottle = nnet.Ys[3]\n",
    "plt.plot(bottle[:, 0], bottle[:, 1], bottle[:, 2], '-o', alpha=0.5);"
   ]
  },
  {
   "cell_type": "markdown",
   "id": "590233f3",
   "metadata": {},
   "source": [
    "## Rates of Neurons Firing During Movements"
   ]
  },
  {
   "cell_type": "markdown",
   "id": "90bc7971",
   "metadata": {},
   "source": [
    "From [Neural Latents Benchmark](https://neurallatents.github.io/datasets) site. Download [this data file](https://www.cs.colostate.edu/~anderson/cs545/notebooks/neuron_rates.npz)."
   ]
  },
  {
   "cell_type": "code",
   "execution_count": null,
   "id": "f7753efd",
   "metadata": {},
   "outputs": [],
   "source": [
    "file = np.load('neuron_rates.npz')\n",
    "rates = file['rates']\n",
    "colors = file['colors']\n",
    "rates.shape, colors.shape"
   ]
  },
  {
   "cell_type": "code",
   "execution_count": null,
   "id": "d977cf92",
   "metadata": {},
   "outputs": [],
   "source": [
    "plt.plot(rates[:500, :20]);"
   ]
  },
  {
   "cell_type": "code",
   "execution_count": null,
   "id": "f0f4d4de",
   "metadata": {},
   "outputs": [],
   "source": [
    "X = rates"
   ]
  },
  {
   "cell_type": "code",
   "execution_count": null,
   "id": "91f352d1",
   "metadata": {
    "scrolled": true
   },
   "outputs": [],
   "source": [
    "nnet = nn.NeuralNetwork(X.shape[1], [2], X.shape[1])\n",
    "# nnet = nn.NeuralNetwork(X.shape[1], [100, 100, 50, 3, 50, 100], X.shape[1])\n",
    "nnet.train(X, X, 4000, 'scg')"
   ]
  },
  {
   "cell_type": "code",
   "execution_count": null,
   "id": "12668fd0",
   "metadata": {
    "scrolled": true
   },
   "outputs": [],
   "source": [
    "plt.plot(nnet.get_error_trace());"
   ]
  },
  {
   "cell_type": "code",
   "execution_count": null,
   "id": "756d31e2",
   "metadata": {},
   "outputs": [],
   "source": [
    "Y = nnet.use(X)\n",
    "bottle = nnet.Ys[1]\n",
    "bottle.shape"
   ]
  },
  {
   "cell_type": "code",
   "execution_count": null,
   "id": "0295c57f",
   "metadata": {},
   "outputs": [],
   "source": [
    "n_trials = 27\n",
    "bottle = bottle.reshape(n_trials, -1, 2)"
   ]
  },
  {
   "cell_type": "code",
   "execution_count": null,
   "id": "d96a1327",
   "metadata": {},
   "outputs": [],
   "source": [
    "bottle.shape"
   ]
  },
  {
   "cell_type": "code",
   "execution_count": null,
   "id": "fd0410a1",
   "metadata": {},
   "outputs": [],
   "source": [
    "plt.figure(figsize=(20,20))\n",
    "for trial, color in zip(bottle, colors):\n",
    "    plt.plot(trial[:, 0], trial[:, 1], color=color)\n",
    "    plt.scatter(trial[0, 0], trial[0, 1], color=color)"
   ]
  },
  {
   "cell_type": "markdown",
   "id": "f22ef94f",
   "metadata": {},
   "source": [
    "Since we are looking for \"dynamics\", meaning changes in time, let's try predicting the change in firing rates, rather than the firing rates themselves."
   ]
  },
  {
   "cell_type": "code",
   "execution_count": null,
   "id": "2c9ff404",
   "metadata": {},
   "outputs": [],
   "source": [
    "X_trials = X.copy().reshape(n_trials, 100, -1)\n",
    "X_trials.shape"
   ]
  },
  {
   "cell_type": "code",
   "execution_count": null,
   "id": "3aaf539e",
   "metadata": {},
   "outputs": [],
   "source": [
    "X_trials_diff = X_trials[:, 1:, :] - X_trials[:, :-1, :]\n",
    "X_trials_diff.shape"
   ]
  },
  {
   "cell_type": "code",
   "execution_count": null,
   "id": "0d46ed38",
   "metadata": {},
   "outputs": [],
   "source": [
    "X_trials = X_trials[:, :-1, :]\n",
    "X_trials.shape"
   ]
  },
  {
   "cell_type": "code",
   "execution_count": null,
   "id": "8bc6403d",
   "metadata": {},
   "outputs": [],
   "source": [
    "X_trials = X_trials.reshape(-1, 182)\n",
    "X_trials_diff = X_trials_diff.reshape(-1, 182)\n",
    "X_trials.shape, X_trials_diff.shape"
   ]
  },
  {
   "cell_type": "code",
   "execution_count": null,
   "id": "74323cb1",
   "metadata": {
    "scrolled": false
   },
   "outputs": [],
   "source": [
    "nnet = nn.NeuralNetwork(X.shape[1], [2], X.shape[1])\n",
    "# nnet = nn.NeuralNetwork(X.shape[1], [100, 100, 50, 3, 50, 100], X.shape[1])\n",
    "nnet.train(X_trials, X_trials_diff, 2000, 'scg')"
   ]
  },
  {
   "cell_type": "code",
   "execution_count": null,
   "id": "6adcc8bc",
   "metadata": {},
   "outputs": [],
   "source": [
    "plt.plot(nnet.get_performance_trace());"
   ]
  },
  {
   "cell_type": "code",
   "execution_count": null,
   "id": "9c398830",
   "metadata": {},
   "outputs": [],
   "source": [
    "Y = nnet.use(X)\n",
    "bottle = nnet.Ys[1]\n",
    "bottle.shape"
   ]
  },
  {
   "cell_type": "code",
   "execution_count": null,
   "id": "9fc7c06b",
   "metadata": {},
   "outputs": [],
   "source": [
    "n_trials = 27\n",
    "bottle = bottle.reshape(n_trials, -1, 2)\n",
    "bottle.shape"
   ]
  },
  {
   "cell_type": "code",
   "execution_count": null,
   "id": "2eb99b6a",
   "metadata": {},
   "outputs": [],
   "source": [
    "plt.figure(figsize=(20,20))\n",
    "for trial, color in zip(bottle, colors):\n",
    "    plt.plot(trial[:, 0], trial[:, 1], color=color)\n",
    "    plt.scatter(trial[0, 0], trial[0, 1], color=color)"
   ]
  },
  {
   "cell_type": "code",
   "execution_count": null,
   "id": "ca15c9b5",
   "metadata": {},
   "outputs": [],
   "source": []
  }
 ],
 "metadata": {
  "kernelspec": {
   "display_name": "Python 3 (ipykernel)",
   "language": "python",
   "name": "python3"
  },
  "language_info": {
   "codemirror_mode": {
    "name": "ipython",
    "version": 3
   },
   "file_extension": ".py",
   "mimetype": "text/x-python",
   "name": "python",
   "nbconvert_exporter": "python",
   "pygments_lexer": "ipython3",
   "version": "3.8.13"
  },
  "toc": {
   "base_numbering": 1,
   "nav_menu": {},
   "number_sections": false,
   "sideBar": true,
   "skip_h1_title": false,
   "title_cell": "Table of Contents",
   "title_sidebar": "Contents",
   "toc_cell": false,
   "toc_position": {},
   "toc_section_display": true,
   "toc_window_display": false
  }
 },
 "nbformat": 4,
 "nbformat_minor": 5
}
