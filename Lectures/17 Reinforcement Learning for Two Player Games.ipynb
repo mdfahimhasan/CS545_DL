{
 "cells": [
  {
   "cell_type": "markdown",
   "metadata": {},
   "source": [
    "$$\\newcommand{\\Rv}{\\mathbf{R}}\n",
    "\\newcommand{\\rv}{\\mathbf{r}}\n",
    "\\newcommand{\\Qv}{\\mathbf{Q}}\n",
    "\\newcommand{\\Qnv}{\\mathbf{Qn}}\n",
    "\\newcommand{\\Av}{\\mathbf{A}}\n",
    "\\newcommand{\\Aiv}{\\mathbf{Ai}}\n",
    "\\newcommand{\\av}{\\mathbf{a}}\n",
    "\\newcommand{\\xv}{\\mathbf{x}}\n",
    "\\newcommand{\\Xv}{\\mathbf{X}}\n",
    "\\newcommand{\\yv}{\\mathbf{y}}\n",
    "\\newcommand{\\Yv}{\\mathbf{Y}}\n",
    "\\newcommand{\\zv}{\\mathbf{z}}\n",
    "\\newcommand{\\av}{\\mathbf{a}}\n",
    "\\newcommand{\\Wv}{\\mathbf{W}}\n",
    "\\newcommand{\\wv}{\\mathbf{w}}\n",
    "\\newcommand{\\betav}{\\mathbf{\\beta}}\n",
    "\\newcommand{\\gv}{\\mathbf{g}}\n",
    "\\newcommand{\\Hv}{\\mathbf{H}}\n",
    "\\newcommand{\\dv}{\\mathbf{d}}\n",
    "\\newcommand{\\Vv}{\\mathbf{V}}\n",
    "\\newcommand{\\vv}{\\mathbf{v}}\n",
    "\\newcommand{\\Uv}{\\mathbf{U}}\n",
    "\\newcommand{\\uv}{\\mathbf{u}}\n",
    "\\newcommand{\\tv}{\\mathbf{t}}\n",
    "\\newcommand{\\Tv}{\\mathbf{T}}\n",
    "\\newcommand{\\TDv}{\\mathbf{TD}}\n",
    "\\newcommand{\\Tiv}{\\mathbf{Ti}}\n",
    "\\newcommand{\\Sv}{\\mathbf{S}}\n",
    "\\newcommand{\\Gv}{\\mathbf{G}}\n",
    "\\newcommand{\\zv}{\\mathbf{z}}\n",
    "\\newcommand{\\Zv}{\\mathbf{Z}}\n",
    "\\newcommand{\\Norm}{\\mathcal{N}}\n",
    "\\newcommand{\\muv}{\\boldsymbol{\\mu}}\n",
    "\\newcommand{\\sigmav}{\\boldsymbol{\\sigma}}\n",
    "\\newcommand{\\phiv}{\\boldsymbol{\\phi}}\n",
    "\\newcommand{\\Phiv}{\\boldsymbol{\\Phi}}\n",
    "\\newcommand{\\Sigmav}{\\boldsymbol{\\Sigma}}\n",
    "\\newcommand{\\Lambdav}{\\boldsymbol{\\Lambda}}\n",
    "\\newcommand{\\half}{\\frac{1}{2}}\n",
    "\\newcommand{\\argmax}[1]{\\underset{#1}{\\operatorname{argmax}}}\n",
    "\\newcommand{\\argmin}[1]{\\underset{#1}{\\operatorname{argmin}}}\n",
    "\\newcommand{\\dimensionbar}[1]{\\underset{#1}{\\operatorname{|}}}\n",
    "\\newcommand{\\grad}{\\mathbf{\\nabla}}\n",
    "\\newcommand{\\ebx}[1]{e^{\\betav_{#1}^T \\xv_n}}\n",
    "\\newcommand{\\eby}[1]{e^{y_{n,#1}}}\n",
    "\\newcommand{\\Tiv}{\\mathbf{Ti}}\n",
    "\\newcommand{\\Fv}{\\mathbf{F}}\n",
    "\\newcommand{\\ones}[1]{\\mathbf{1}_{#1}}\n",
    "$$"
   ]
  },
  {
   "cell_type": "markdown",
   "metadata": {},
   "source": [
    "# Reinforcement Learning for Two-Player Games"
   ]
  },
  {
   "cell_type": "markdown",
   "metadata": {},
   "source": [
    "How does Tic-Tac-Toe differ from the maze problem?\n",
    "\n",
    "   * Different state and action sets.\n",
    "   * Two players rather than one.\n",
    "   * Reinforcement is 0 until end of game, when it is 1 for win, 0 for draw, or -1 for loss.\n",
    "   * Maximizing sum of reinforcement rather than minimizing.\n",
    "   * Anything else?"
   ]
  },
  {
   "cell_type": "markdown",
   "metadata": {},
   "source": [
    "## Representing the Q Table"
   ]
  },
  {
   "cell_type": "markdown",
   "metadata": {},
   "source": [
    "The state is the board configuration.  There are $3^9$ of them, though\n",
    "not all are reachable. Is this too big? \n",
    "\n",
    "It is a bit less than 20,000.  Not bad. Is this the full size of the Q table?\n",
    "\n",
    "No. We must add the action dimension.  There are at most 9 actions,\n",
    "one for each cell on the board.  So the Q table will contain about\n",
    "$20,000 \\cdot 9$ values or about 200,000. No worries. \n",
    "\n",
    "Instead of thinking about the Q table as a three-dimensional array, as\n",
    "we did last time, let's be more pythonic and use a dictionary.  Use\n",
    "the current state as the key, and the value associated with the state\n",
    "is an array of Q values for each action taken in that state.\n",
    "\n",
    "We still need a way to represent a board.  \n",
    "\n",
    "How about an array of characters?  So\n",
    "\n",
    "     X |   | O\n",
    "     ---------\n",
    "       | X | O\n",
    "     ---------\n",
    "     X |   |\n",
    "\n",
    "would be\n",
    "\n",
    "     board = np.array(['X',' ','O', ' ','X','O', 'X',' ',' '])\n",
    "\n",
    "The initial board would be\n",
    "\n",
    "     board = np.array([' ']*9)\n",
    "\n",
    "We can represent a move as an index, 0 to 8,  into this array.\n",
    "\n",
    "What should the reinforcement values be?  \n",
    "\n",
    "How about 0 every move except when X wins, with a reinforcement of 1,\n",
    "and when O wins, with a reinforcement of -1.\n",
    "\n",
    "For the above board, let's say we, meaning Player X, prefer move to\n",
    "index 3. In fact, this always results in a win.  So the Q value for\n",
    "move to 3 should be 1.  What other Q values do you know?\n",
    "\n",
    "If we don't play a move to win, O could win in one move.  So the other\n",
    "moves might have Q values close to -1, depending on the skill of\n",
    "Player O.  In the following discussion we will be using a random\n",
    "player for O, so the Q value for a move other than 8 or 3 will be\n",
    "close to but not exactly -1."
   ]
  },
  {
   "cell_type": "markdown",
   "metadata": {},
   "source": [
    "## Agent-World Interaction Loop"
   ]
  },
  {
   "cell_type": "markdown",
   "metadata": {},
   "source": [
    "For our agent to interact with its world, we must implement\n",
    "\n",
    "   1. Initialize Q.\n",
    "   1. Set initial state, as empty board.\n",
    "   1. Repeat:\n",
    "     1. Agent chooses next X move.\n",
    "     1. If X wins, set Q(board,move) to 1.\n",
    "     1. Else, if board is full, set Q(board,move) to 0.\n",
    "     1. Else, let O take move.\n",
    "     1. If O won, update Q(board,move) by (-1 - Q(board,move))\n",
    "     1. For all cases, update Q(oldboard,oldmove) by Q(board,move) - Q(oldboard,oldmove)\n",
    "     1. Shift current board and move to old ones."
   ]
  },
  {
   "cell_type": "markdown",
   "metadata": {},
   "source": [
    "## Now in Python"
   ]
  },
  {
   "cell_type": "markdown",
   "metadata": {},
   "source": [
    "First, here is the result of running tons of games.\n",
    "\n",
    "<img src=\"http://www.cs.colostate.edu/~anderson/cs545/notebooks/tttresult.png\" width=700>\n",
    "\n",
    "First, let's get some function definitions out of the way."
   ]
  },
  {
   "cell_type": "code",
   "execution_count": 1,
   "metadata": {
    "ExecuteTime": {
     "end_time": "2022-10-25T16:08:40.067257Z",
     "start_time": "2022-10-25T16:08:39.575116Z"
    }
   },
   "outputs": [],
   "source": [
    "import numpy as np\n",
    "import matplotlib.pyplot as plt\n",
    "%matplotlib inline\n",
    "import copy"
   ]
  },
  {
   "cell_type": "markdown",
   "metadata": {},
   "source": [
    "Let's write a function to print a board in the usual Tic-Tac-Toe style."
   ]
  },
  {
   "cell_type": "code",
   "execution_count": 2,
   "metadata": {
    "ExecuteTime": {
     "end_time": "2022-10-25T16:08:40.665477Z",
     "start_time": "2022-10-25T16:08:40.661877Z"
    }
   },
   "outputs": [
    {
     "name": "stdout",
     "output_type": "stream",
     "text": [
      "\n",
      "X| |O\n",
      "-----\n",
      " |X|O\n",
      "------\n",
      "X| | \n"
     ]
    }
   ],
   "source": [
    "def printBoard(board):\n",
    "    print('''\n",
    "{}|{}|{}\n",
    "-----\n",
    "{}|{}|{}\n",
    "------\n",
    "{}|{}|{}'''.format(*tuple(board)))\n",
    "printBoard(np.array(['X',' ','O', ' ','X','O', 'X',' ',' ']))"
   ]
  },
  {
   "cell_type": "markdown",
   "metadata": {},
   "source": [
    "Let's write a function that returns *True* if the current board is a winning board for us.  We will be Player X.  What does the value of *combos* represent?"
   ]
  },
  {
   "cell_type": "code",
   "execution_count": 3,
   "metadata": {
    "ExecuteTime": {
     "end_time": "2022-10-25T16:08:42.674896Z",
     "start_time": "2022-10-25T16:08:42.670781Z"
    }
   },
   "outputs": [],
   "source": [
    "def winner(board):\n",
    "    combos = np.array((0,1,2, 3,4,5, 6,7,8, 0,3,6, 1,4,7, 2,5,8, 0,4,8, 2,4,6))\n",
    "    if np.any(np.logical_or(np.all('X' == board[combos].reshape((-1, 3)), axis=1),\n",
    "                            np.all('O' == board[combos].reshape((-1, 3)), axis=1))):\n",
    "        return True\n",
    "    else:\n",
    "        return False"
   ]
  },
  {
   "cell_type": "code",
   "execution_count": 4,
   "metadata": {
    "ExecuteTime": {
     "end_time": "2022-10-25T16:08:43.767791Z",
     "start_time": "2022-10-25T16:08:43.759563Z"
    }
   },
   "outputs": [
    {
     "name": "stdout",
     "output_type": "stream",
     "text": [
      "\n",
      "X| |O\n",
      "-----\n",
      " |X|O\n",
      "------\n",
      "X| | \n",
      "False\n",
      "\n",
      "X| |X\n",
      "-----\n",
      " |X|O\n",
      "------\n",
      "X| | \n",
      "True\n"
     ]
    },
    {
     "data": {
      "text/plain": [
       "(None, None)"
      ]
     },
     "execution_count": 4,
     "metadata": {},
     "output_type": "execute_result"
    }
   ],
   "source": [
    "board = np.array(['X',' ','O', ' ','X','O', 'X',' ',' '])\n",
    "printBoard(board), print(winner(board))\n",
    "board = np.array(['X',' ','X', ' ','X','O', 'X',' ',' '])\n",
    "printBoard(board), print(winner(board))"
   ]
  },
  {
   "cell_type": "markdown",
   "metadata": {},
   "source": [
    "How can we find all valid moves from a board?  Just find all of the spaces in the board representation"
   ]
  },
  {
   "cell_type": "code",
   "execution_count": 5,
   "metadata": {
    "ExecuteTime": {
     "end_time": "2022-10-25T16:08:45.155116Z",
     "start_time": "2022-10-25T16:08:45.150728Z"
    }
   },
   "outputs": [
    {
     "data": {
      "text/plain": [
       "(array([1, 3, 7, 8]),)"
      ]
     },
     "execution_count": 5,
     "metadata": {},
     "output_type": "execute_result"
    }
   ],
   "source": [
    "np.where(board == ' ')"
   ]
  },
  {
   "cell_type": "code",
   "execution_count": 6,
   "metadata": {
    "ExecuteTime": {
     "end_time": "2022-10-25T16:08:45.385887Z",
     "start_time": "2022-10-25T16:08:45.382165Z"
    }
   },
   "outputs": [
    {
     "data": {
      "text/plain": [
       "array([1, 3, 7, 8])"
      ]
     },
     "execution_count": 6,
     "metadata": {},
     "output_type": "execute_result"
    }
   ],
   "source": [
    "np.where(board == ' ')[0]"
   ]
  },
  {
   "cell_type": "markdown",
   "metadata": {},
   "source": [
    "And how do we pick one at random and make that move?"
   ]
  },
  {
   "cell_type": "code",
   "execution_count": 7,
   "metadata": {
    "ExecuteTime": {
     "end_time": "2022-10-25T16:08:46.669083Z",
     "start_time": "2022-10-25T16:08:46.663382Z"
    }
   },
   "outputs": [
    {
     "name": "stdout",
     "output_type": "stream",
     "text": [
      "From this board\n",
      "\n",
      "X| |O\n",
      "-----\n",
      " |X|O\n",
      "------\n",
      "X| | \n",
      "\n",
      "  Move 8\n",
      "\n",
      "results in board\n",
      "\n",
      "X| |O\n",
      "-----\n",
      " |X|O\n",
      "------\n",
      "X| |X\n"
     ]
    }
   ],
   "source": [
    "board = np.array(['X',' ','O', ' ','X','O', 'X',' ',' '])\n",
    "validMoves = np.where(board == ' ')[0]\n",
    "move = np.random.choice(validMoves)\n",
    "boardNew = copy.copy(board)\n",
    "boardNew[move] = 'X'\n",
    "print('From this board')\n",
    "printBoard(board)\n",
    "print('\\n  Move',move)\n",
    "print('\\nresults in board')\n",
    "printBoard(boardNew)"
   ]
  },
  {
   "cell_type": "markdown",
   "metadata": {},
   "source": [
    "If X just won, we want to set the Q value for the previous state (board) to 1, because X will always win from that state and that action (move).\n",
    "\n",
    "First we must figure out how to implement the Q table?  We want to associate a value with each board and move.  We can use a python dictionary for this.  We know how to represent a board.  A move can be an integer from 0 to 8 to index into the board array for the location to place a marker."
   ]
  },
  {
   "cell_type": "code",
   "execution_count": 8,
   "metadata": {
    "ExecuteTime": {
     "end_time": "2022-10-25T16:08:48.162982Z",
     "start_time": "2022-10-25T16:08:48.158876Z"
    }
   },
   "outputs": [
    {
     "data": {
      "text/plain": [
       "{(('X', ' ', 'O', ' ', 'X', 'O', 'X', ' ', ' '), 1): 0}"
      ]
     },
     "execution_count": 8,
     "metadata": {},
     "output_type": "execute_result"
    }
   ],
   "source": [
    "Q = {}  # empty table\n",
    "Q[(tuple(board), 1)] = 0\n",
    "Q"
   ]
  },
  {
   "cell_type": "code",
   "execution_count": 9,
   "metadata": {
    "ExecuteTime": {
     "end_time": "2022-10-25T16:08:48.755459Z",
     "start_time": "2022-10-25T16:08:48.751544Z"
    }
   },
   "outputs": [
    {
     "data": {
      "text/plain": [
       "0"
      ]
     },
     "execution_count": 9,
     "metadata": {},
     "output_type": "execute_result"
    }
   ],
   "source": [
    "Q[(tuple(board), 1)]"
   ]
  },
  {
   "cell_type": "markdown",
   "metadata": {},
   "source": [
    "What if we try to look up a Q value for a state,action we have not encountered yet?  It will not be in the dictionary.  We can use the *get* method for the dictionary, that has a second argument as the value returned if the key does not exist."
   ]
  },
  {
   "cell_type": "code",
   "execution_count": 10,
   "metadata": {
    "ExecuteTime": {
     "end_time": "2022-10-25T16:08:51.901494Z",
     "start_time": "2022-10-25T16:08:51.550352Z"
    }
   },
   "outputs": [
    {
     "ename": "KeyError",
     "evalue": "(('X', 'X', 'O', ' ', 'X', 'O', 'X', ' ', ' '), 1)",
     "output_type": "error",
     "traceback": [
      "\u001b[0;31m---------------------------------------------------------------------------\u001b[0m",
      "\u001b[0;31mKeyError\u001b[0m                                  Traceback (most recent call last)",
      "Input \u001b[0;32mIn [10]\u001b[0m, in \u001b[0;36m<cell line: 2>\u001b[0;34m()\u001b[0m\n\u001b[1;32m      1\u001b[0m board[\u001b[38;5;241m1\u001b[39m] \u001b[38;5;241m=\u001b[39m \u001b[38;5;124m'\u001b[39m\u001b[38;5;124mX\u001b[39m\u001b[38;5;124m'\u001b[39m\n\u001b[0;32m----> 2\u001b[0m \u001b[43mQ\u001b[49m\u001b[43m[\u001b[49m\u001b[43m(\u001b[49m\u001b[38;5;28;43mtuple\u001b[39;49m\u001b[43m(\u001b[49m\u001b[43mboard\u001b[49m\u001b[43m)\u001b[49m\u001b[43m,\u001b[49m\u001b[43m \u001b[49m\u001b[38;5;241;43m1\u001b[39;49m\u001b[43m)\u001b[49m\u001b[43m]\u001b[49m\n",
      "\u001b[0;31mKeyError\u001b[0m: (('X', 'X', 'O', ' ', 'X', 'O', 'X', ' ', ' '), 1)"
     ]
    }
   ],
   "source": [
    "board[1] = 'X'\n",
    "Q[(tuple(board), 1)]"
   ]
  },
  {
   "cell_type": "code",
   "execution_count": 11,
   "metadata": {
    "ExecuteTime": {
     "end_time": "2022-10-25T16:08:52.851489Z",
     "start_time": "2022-10-25T16:08:52.847645Z"
    }
   },
   "outputs": [
    {
     "data": {
      "text/plain": [
       "42"
      ]
     },
     "execution_count": 11,
     "metadata": {},
     "output_type": "execute_result"
    }
   ],
   "source": [
    "Q.get((tuple(board), 1), 42)"
   ]
  },
  {
   "cell_type": "markdown",
   "metadata": {},
   "source": [
    "Now we can set the Q value for (board,move) to 1."
   ]
  },
  {
   "cell_type": "code",
   "execution_count": 12,
   "metadata": {
    "ExecuteTime": {
     "end_time": "2022-10-25T16:08:54.481539Z",
     "start_time": "2022-10-25T16:08:54.478792Z"
    }
   },
   "outputs": [],
   "source": [
    "Q[(tuple(board), move)] = 1"
   ]
  },
  {
   "cell_type": "markdown",
   "metadata": {},
   "source": [
    "If the board is full, then the the previous state and action should be assigned 0."
   ]
  },
  {
   "cell_type": "code",
   "execution_count": 13,
   "metadata": {
    "ExecuteTime": {
     "end_time": "2022-10-25T16:08:55.401304Z",
     "start_time": "2022-10-25T16:08:55.398674Z"
    }
   },
   "outputs": [],
   "source": [
    "Q[(tuple(board), move)] = 0"
   ]
  },
  {
   "cell_type": "markdown",
   "metadata": {},
   "source": [
    "If the board is not full, better check to see if O just won.  If O did just win, then we should adjust the Q value of the previous state and X action to be closer to -1, because we just received a -1 reinforcement and the game is over."
   ]
  },
  {
   "cell_type": "code",
   "execution_count": 14,
   "metadata": {
    "ExecuteTime": {
     "end_time": "2022-10-25T16:08:56.153753Z",
     "start_time": "2022-10-25T16:08:56.150636Z"
    }
   },
   "outputs": [],
   "source": [
    "rho = 0.1 # learning rate\n",
    "Q[(tuple(board), move)] += rho * (-1 - Q[(tuple(board), move)])"
   ]
  },
  {
   "cell_type": "markdown",
   "metadata": {},
   "source": [
    "If nobody won yet, let's calculate the temporal difference error and use it to adjust the Q value of the previous board,move. We do this only if we are not at the first move of a game."
   ]
  },
  {
   "cell_type": "code",
   "execution_count": 15,
   "metadata": {
    "ExecuteTime": {
     "end_time": "2022-10-25T16:08:56.953504Z",
     "start_time": "2022-10-25T16:08:56.950253Z"
    }
   },
   "outputs": [],
   "source": [
    "step = 0\n",
    "if step > 0:\n",
    "    Q[(tuple(boardOld), moveOld)] += rho * (Q[(tuple(board), move)] - Q[(tuple(boardOld), moveOld)])"
   ]
  },
  {
   "cell_type": "markdown",
   "metadata": {},
   "source": [
    "Initially, taking random moves is a good strategy, because we know nothing about how to play Tic-Tac-Toe.  But, once we have gained some experience and our Q table has acquired some good predictions of the sum of future reinforcement, we should rely on our Q values to pick good moves.  For a given board, which move is predicted to lead to the best possible future using the current Q table?"
   ]
  },
  {
   "cell_type": "code",
   "execution_count": 16,
   "metadata": {
    "ExecuteTime": {
     "end_time": "2022-10-25T16:08:57.899463Z",
     "start_time": "2022-10-25T16:08:57.894216Z"
    }
   },
   "outputs": [
    {
     "name": "stdout",
     "output_type": "stream",
     "text": [
      "Valid moves are [3 7 8]\n",
      "Q values for validMoves are [ 0.   0.  -0.1]\n",
      "Best move is 3\n"
     ]
    }
   ],
   "source": [
    "validMoves = np.where(board == ' ')[0]\n",
    "print('Valid moves are', validMoves)\n",
    "Qs = np.array([Q.get((tuple(board), m), 0) for m in validMoves]) \n",
    "print('Q values for validMoves are', Qs)\n",
    "bestMove = validMoves[np.argmax(Qs)]\n",
    "print('Best move is', bestMove)"
   ]
  },
  {
   "cell_type": "markdown",
   "metadata": {},
   "source": [
    "To slowly transition from taking random actions to taking the action currently believed to be best, called the *greedy* action, we slowly decay a parameter, $\\epsilon$, from 1 down towards 0 as the probability of selecting a random action.  This is called the $\\epsilon$-greedy policy."
   ]
  },
  {
   "cell_type": "code",
   "execution_count": 17,
   "metadata": {
    "ExecuteTime": {
     "end_time": "2022-10-25T16:08:59.202374Z",
     "start_time": "2022-10-25T16:08:59.198321Z"
    }
   },
   "outputs": [
    {
     "data": {
      "text/plain": [
       "array([5, 4, 2])"
      ]
     },
     "execution_count": 17,
     "metadata": {},
     "output_type": "execute_result"
    }
   ],
   "source": [
    "s=np.array([4, 2, 5])\n",
    "np.random.shuffle(s)\n",
    "s"
   ]
  },
  {
   "cell_type": "code",
   "execution_count": 18,
   "metadata": {
    "ExecuteTime": {
     "end_time": "2022-10-25T16:08:59.876134Z",
     "start_time": "2022-10-25T16:08:59.870778Z"
    }
   },
   "outputs": [
    {
     "data": {
      "text/plain": [
       "8"
      ]
     },
     "execution_count": 18,
     "metadata": {},
     "output_type": "execute_result"
    }
   ],
   "source": [
    "def epsilonGreedy(epsilon, Q, board):\n",
    "    validMoves = np.where(board == ' ')[0]\n",
    "    if np.random.uniform() < epsilon:\n",
    "        # Random Move\n",
    "        return np.random.choice(validMoves)\n",
    "    else:\n",
    "        # Greedy Move\n",
    "        np.random.shuffle(validMoves)\n",
    "        Qs = np.array([Q.get((tuple(board) ,m), 0) for m in validMoves]) \n",
    "        return validMoves[ np.argmax(Qs) ]\n",
    "    \n",
    "epsilonGreedy(0.8, Q, board)"
   ]
  },
  {
   "cell_type": "markdown",
   "metadata": {},
   "source": [
    "Now write a function to make plots to show results of some games.  Say the variable *outcomes* is a vector of 1's, 0's, and -1's, for games in which X wins, draws, and loses, respectively."
   ]
  },
  {
   "cell_type": "code",
   "execution_count": 19,
   "metadata": {
    "ExecuteTime": {
     "end_time": "2022-10-25T16:09:00.827769Z",
     "start_time": "2022-10-25T16:09:00.823289Z"
    }
   },
   "outputs": [
    {
     "data": {
      "text/plain": [
       "array([ 0,  1,  0,  1,  0,  0,  1, -1, -1,  0])"
      ]
     },
     "execution_count": 19,
     "metadata": {},
     "output_type": "execute_result"
    }
   ],
   "source": [
    "outcomes = np.random.choice([-1, 0, 1], replace=True, size=(1000))\n",
    "outcomes[:10]"
   ]
  },
  {
   "cell_type": "code",
   "execution_count": 20,
   "metadata": {
    "ExecuteTime": {
     "end_time": "2022-10-25T16:09:02.353628Z",
     "start_time": "2022-10-25T16:09:02.347920Z"
    }
   },
   "outputs": [],
   "source": [
    "def plotOutcomes(outcomes, epsilons, maxGames, nGames):\n",
    "    if nGames == 0:\n",
    "        return\n",
    "    nBins = 100\n",
    "    nPer = maxGames // nBins\n",
    "    outcomeRows = outcomes.reshape((-1, nPer))\n",
    "    outcomeRows = outcomeRows[:nGames // nPer + 1, :]\n",
    "    avgs = np.mean(outcomeRows, axis=1)\n",
    "    \n",
    "    plt.subplot(3, 1, 1)\n",
    "    xs = np.linspace(nPer, nGames, len(avgs))\n",
    "    plt.plot(xs, avgs)\n",
    "    plt.xlabel('Games')\n",
    "    plt.ylabel('Mean of Outcomes\\n(0=draw, 1=X win, -1=O win)')\n",
    "    plt.title('Bins of {:d} Games'.format(nPer))\n",
    "    \n",
    "    plt.subplot(3, 1, 2)\n",
    "    plt.plot(xs,np.sum(outcomeRows==-1, axis=1), 'r-', label='Losses')\n",
    "    plt.plot(xs,np.sum(outcomeRows==0,axis=1),'b-', label='Draws')\n",
    "    plt.plot(xs,np.sum(outcomeRows==1,axis=1), 'g-', label='Wins')\n",
    "    plt.legend(loc=\"center\")\n",
    "    plt.ylabel('Number of Games\\nin Bins of {:d}'.format(nPer))\n",
    "    \n",
    "    plt.subplot(3, 1, 3)\n",
    "    plt.plot(epsilons[:nGames])\n",
    "    plt.ylabel('$\\epsilon$')"
   ]
  },
  {
   "cell_type": "code",
   "execution_count": 21,
   "metadata": {
    "ExecuteTime": {
     "end_time": "2022-10-25T16:09:14.244219Z",
     "start_time": "2022-10-25T16:09:13.723258Z"
    }
   },
   "outputs": [
    {
     "data": {
      "image/png": "[encoded data removed]",
      "text/plain": [
       "<Figure size 576x576 with 3 Axes>"
      ]
     },
     "metadata": {
      "needs_background": "light"
     },
     "output_type": "display_data"
    }
   ],
   "source": [
    "plt.figure(figsize=(8, 8))\n",
    "plotOutcomes(outcomes, np.zeros(1000), 1000, 1000)"
   ]
  },
  {
   "cell_type": "markdown",
   "metadata": {},
   "source": [
    "Finally, let's write the whole Tic-Tac-Toe learning loop!"
   ]
  },
  {
   "cell_type": "code",
   "execution_count": 22,
   "metadata": {
    "ExecuteTime": {
     "end_time": "2022-10-25T16:09:22.869202Z",
     "start_time": "2022-10-25T16:09:22.866463Z"
    }
   },
   "outputs": [],
   "source": [
    "from IPython.display import display, clear_output"
   ]
  },
  {
   "cell_type": "code",
   "execution_count": 23,
   "metadata": {
    "ExecuteTime": {
     "end_time": "2022-10-25T16:09:46.626520Z",
     "start_time": "2022-10-25T16:09:26.767898Z"
    }
   },
   "outputs": [
    {
     "name": "stdout",
     "output_type": "stream",
     "text": [
      "Outcomes: 8923 X wins 579 O wins 498 draws\n"
     ]
    },
    {
     "data": {
      "image/png": "[encoded data removed]",
      "text/plain": [
       "<Figure size 720x720 with 3 Axes>"
      ]
     },
     "metadata": {
      "needs_background": "light"
     },
     "output_type": "display_data"
    }
   ],
   "source": [
    "maxGames = 10000\n",
    "rho = 0.5\n",
    "epsilonDecayRate = 0.999\n",
    "epsilon = 1.0\n",
    "graphics = True\n",
    "showMoves = not graphics\n",
    "\n",
    "outcomes = np.zeros(maxGames)\n",
    "epsilons = np.zeros(maxGames)\n",
    "Q = {}\n",
    "\n",
    "if graphics:\n",
    "    fig = plt.figure(figsize=(10, 10))\n",
    "\n",
    "for nGames in range(maxGames):\n",
    "    \n",
    "    epsilon *= epsilonDecayRate\n",
    "    epsilons[nGames] = epsilon\n",
    "    step = 0\n",
    "    board = np.array([' '] * 9)  # empty board\n",
    "    done = False\n",
    "    \n",
    "    while not done:        \n",
    "        step += 1\n",
    "        \n",
    "        # X's turn\n",
    "        move = epsilonGreedy(epsilon, Q, board)\n",
    "        boardNew = copy.copy(board)\n",
    "        boardNew[move] = 'X'\n",
    "        if (tuple(board), move) not in Q:\n",
    "            Q[(tuple(board), move)] = 0  # initial Q value for new board,move\n",
    "        if showMoves:\n",
    "            printBoard(boardNew)\n",
    "            \n",
    "        if winner(boardNew):\n",
    "            # X won!\n",
    "            if showMoves:\n",
    "                print('        X Won!')\n",
    "            Q[(tuple(board), move)] = 1\n",
    "            done = True\n",
    "            outcomes[nGames] = 1\n",
    "            \n",
    "        elif not np.any(boardNew == ' '):\n",
    "            # Game over. No winner.\n",
    "            if showMoves:\n",
    "                print('        draw.')\n",
    "            Q[(tuple(board), move)] = 0\n",
    "            done = True\n",
    "            outcomes[nGames] = 0\n",
    "            \n",
    "        else:\n",
    "            # O's turn.  O is a random player!\n",
    "            moveO = np.random.choice(np.where(boardNew==' ')[0])\n",
    "            boardNew[moveO] = 'O'\n",
    "            if showMoves:\n",
    "                printBoard(boardNew)\n",
    "            if winner(boardNew):\n",
    "                # O won!\n",
    "                if showMoves:\n",
    "                    print('        O Won!')\n",
    "                Q[(tuple(board), move)] += rho * (-1 - Q[(tuple(board), move)])\n",
    "                done = True\n",
    "                outcomes[nGames] = -1\n",
    "        \n",
    "        if step > 1:\n",
    "            Q[(tuple(boardOld), moveOld)] += rho * (Q[(tuple(board), move)] - Q[(tuple(boardOld), moveOld)])\n",
    "            \n",
    "        boardOld, moveOld = board, move # remember board and move to Q(board,move) can be updated after next steps\n",
    "        board = boardNew\n",
    "        \n",
    "        if graphics and (nGames % (maxGames/10) == 0 or nGames == maxGames-1):\n",
    "            fig.clf() \n",
    "            plotOutcomes(outcomes, epsilons ,maxGames, nGames-1)\n",
    "            clear_output(wait=True)\n",
    "            display(fig);\n",
    "\n",
    "if graphics:\n",
    "    clear_output(wait=True)\n",
    "print('Outcomes: {:d} X wins {:d} O wins {:d} draws'.format(np.sum(outcomes==1), np.sum(outcomes==-1), np.sum(outcomes==0)))"
   ]
  },
  {
   "cell_type": "code",
   "execution_count": 24,
   "metadata": {
    "ExecuteTime": {
     "end_time": "2022-10-25T16:10:00.798091Z",
     "start_time": "2022-10-25T16:10:00.794438Z"
    }
   },
   "outputs": [
    {
     "data": {
      "text/plain": [
       "0.28410490747989614"
      ]
     },
     "execution_count": 24,
     "metadata": {},
     "output_type": "execute_result"
    }
   ],
   "source": [
    "Q[(tuple([' ']*9),0)]"
   ]
  },
  {
   "cell_type": "code",
   "execution_count": 25,
   "metadata": {
    "ExecuteTime": {
     "end_time": "2022-10-25T16:10:01.471396Z",
     "start_time": "2022-10-25T16:10:01.467541Z"
    }
   },
   "outputs": [
    {
     "data": {
      "text/plain": [
       "0.39190645663324053"
      ]
     },
     "execution_count": 25,
     "metadata": {},
     "output_type": "execute_result"
    }
   ],
   "source": [
    "Q[(tuple([' ']*9),1)]"
   ]
  },
  {
   "cell_type": "code",
   "execution_count": 26,
   "metadata": {
    "ExecuteTime": {
     "end_time": "2022-10-25T16:10:02.151605Z",
     "start_time": "2022-10-25T16:10:02.147005Z"
    }
   },
   "outputs": [
    {
     "data": {
      "text/plain": [
       "0.28410490747989614"
      ]
     },
     "execution_count": 26,
     "metadata": {},
     "output_type": "execute_result"
    }
   ],
   "source": [
    "Q.get((tuple([' ']*9),0), 0)"
   ]
  },
  {
   "cell_type": "code",
   "execution_count": 27,
   "metadata": {
    "ExecuteTime": {
     "end_time": "2022-10-25T16:10:04.040194Z",
     "start_time": "2022-10-25T16:10:04.035755Z"
    }
   },
   "outputs": [
    {
     "data": {
      "text/plain": [
       "[0.28410490747989614,\n",
       " 0.39190645663324053,\n",
       " 0.12948312671255788,\n",
       " 0.34038809799738057,\n",
       " 0.4308268330084406,\n",
       " 0.09863390887175802,\n",
       " 0.9913326591393787,\n",
       " 0.3221471198674593,\n",
       " 0.35404244266925167]"
      ]
     },
     "execution_count": 27,
     "metadata": {},
     "output_type": "execute_result"
    }
   ],
   "source": [
    "[Q.get((tuple([' ']*9),m), 0) for m in range(9)]"
   ]
  },
  {
   "cell_type": "code",
   "execution_count": 45,
   "metadata": {
    "ExecuteTime": {
     "end_time": "2022-10-25T16:13:20.167843Z",
     "start_time": "2022-10-25T16:13:20.163994Z"
    }
   },
   "outputs": [
    {
     "name": "stdout",
     "output_type": "stream",
     "text": [
      "\n",
      " | | \n",
      "-----\n",
      " | | \n",
      "------\n",
      " | | \n",
      "0.28 | 0.39 | 0.13\n",
      "------------------\n",
      "0.34 | 0.43 | 0.10\n",
      "------------------\n",
      "0.99 | 0.32 | 0.35\n"
     ]
    }
   ],
   "source": [
    "board = np.array([' ']*9)\n",
    "Qs = [Q.get((tuple(board),m), 0) for m in range(9)]\n",
    "printBoard(board)\n",
    "print('''{:.2f} | {:.2f} | {:.2f}\n",
    "------------------\n",
    "{:.2f} | {:.2f} | {:.2f}\n",
    "------------------\n",
    "{:.2f} | {:.2f} | {:.2f}'''.format(*Qs))"
   ]
  },
  {
   "cell_type": "code",
   "execution_count": 46,
   "metadata": {
    "ExecuteTime": {
     "end_time": "2022-10-25T16:13:20.998963Z",
     "start_time": "2022-10-25T16:13:20.995725Z"
    }
   },
   "outputs": [],
   "source": [
    "def printBoardQs(board, Q):\n",
    "    printBoard(board)\n",
    "    Qs = [Q.get((tuple(board), m), 0) for m in range(9)]\n",
    "    print()\n",
    "    print('''{:.2f} | {:.2f} | {:.2f}\n",
    "------------------\n",
    "{:.2f} | {:.2f} | {:.2f}\n",
    "------------------\n",
    "{:.2f} | {:.2f} | {:.2f}'''.format(*Qs))"
   ]
  },
  {
   "cell_type": "code",
   "execution_count": 47,
   "metadata": {
    "ExecuteTime": {
     "end_time": "2022-10-25T16:13:21.711370Z",
     "start_time": "2022-10-25T16:13:21.707851Z"
    }
   },
   "outputs": [
    {
     "name": "stdout",
     "output_type": "stream",
     "text": [
      "\n",
      " | | \n",
      "-----\n",
      " | | \n",
      "------\n",
      "X| | \n",
      "\n",
      "0.00 | 0.00 | 0.00\n",
      "------------------\n",
      "0.00 | 0.00 | 0.00\n",
      "------------------\n",
      "0.00 | 0.00 | 0.00\n"
     ]
    }
   ],
   "source": [
    "board[6] = 'X'\n",
    "printBoardQs(board,Q)"
   ]
  },
  {
   "cell_type": "code",
   "execution_count": 48,
   "metadata": {
    "ExecuteTime": {
     "end_time": "2022-10-25T16:13:23.239395Z",
     "start_time": "2022-10-25T16:13:23.236007Z"
    }
   },
   "outputs": [
    {
     "name": "stdout",
     "output_type": "stream",
     "text": [
      "\n",
      " |O| \n",
      "-----\n",
      " | | \n",
      "------\n",
      "X| | \n",
      "\n",
      "0.00 | 0.00 | 0.95\n",
      "------------------\n",
      "0.00 | 0.50 | -0.25\n",
      "------------------\n",
      "0.00 | 0.00 | 0.00\n"
     ]
    }
   ],
   "source": [
    "board[1] = 'O'\n",
    "printBoardQs(board, Q)"
   ]
  },
  {
   "cell_type": "code",
   "execution_count": 49,
   "metadata": {
    "ExecuteTime": {
     "end_time": "2022-10-25T16:13:27.030776Z",
     "start_time": "2022-10-25T16:13:27.027446Z"
    }
   },
   "outputs": [
    {
     "name": "stdout",
     "output_type": "stream",
     "text": [
      "\n",
      " |O|X\n",
      "-----\n",
      " | | \n",
      "------\n",
      "X| | \n",
      "\n",
      "0.00 | 0.00 | 0.00\n",
      "------------------\n",
      "0.00 | 0.00 | 0.00\n",
      "------------------\n",
      "0.00 | 0.00 | 0.00\n"
     ]
    }
   ],
   "source": [
    "board[2] = 'X'\n",
    "printBoardQs(board,Q)"
   ]
  },
  {
   "cell_type": "code",
   "execution_count": 50,
   "metadata": {
    "ExecuteTime": {
     "end_time": "2022-10-25T16:13:29.599344Z",
     "start_time": "2022-10-25T16:13:29.596046Z"
    }
   },
   "outputs": [
    {
     "name": "stdout",
     "output_type": "stream",
     "text": [
      "\n",
      " |O|X\n",
      "-----\n",
      " |O| \n",
      "------\n",
      "X| | \n",
      "\n",
      "-0.38 | 0.00 | 0.00\n",
      "------------------\n",
      "-0.12 | 0.00 | -0.25\n",
      "------------------\n",
      "0.00 | 0.55 | -0.47\n"
     ]
    }
   ],
   "source": [
    "board[4] = 'O'\n",
    "printBoardQs(board,Q)"
   ]
  },
  {
   "cell_type": "code",
   "execution_count": 51,
   "metadata": {
    "ExecuteTime": {
     "end_time": "2022-10-25T16:13:56.586452Z",
     "start_time": "2022-10-25T16:13:56.583189Z"
    }
   },
   "outputs": [
    {
     "name": "stdout",
     "output_type": "stream",
     "text": [
      "\n",
      " |O|X\n",
      "-----\n",
      " |O| \n",
      "------\n",
      "X|X| \n",
      "\n",
      "0.00 | 0.00 | 0.00\n",
      "------------------\n",
      "0.00 | 0.00 | 0.00\n",
      "------------------\n",
      "0.00 | 0.00 | 0.00\n"
     ]
    }
   ],
   "source": [
    "board[7] = 'X'\n",
    "printBoardQs(board, Q)"
   ]
  },
  {
   "cell_type": "code",
   "execution_count": 52,
   "metadata": {
    "ExecuteTime": {
     "end_time": "2022-10-25T16:14:26.759391Z",
     "start_time": "2022-10-25T16:14:26.755942Z"
    }
   },
   "outputs": [
    {
     "name": "stdout",
     "output_type": "stream",
     "text": [
      "\n",
      "O|O|X\n",
      "-----\n",
      " |O| \n",
      "------\n",
      "X|X| \n",
      "\n",
      "0.00 | 0.00 | 0.00\n",
      "------------------\n",
      "-0.25 | 0.00 | 0.00\n",
      "------------------\n",
      "0.00 | 0.00 | 1.00\n"
     ]
    }
   ],
   "source": [
    "board[0] = 'O'\n",
    "printBoardQs(board, Q)"
   ]
  },
  {
   "cell_type": "code",
   "execution_count": 53,
   "metadata": {
    "ExecuteTime": {
     "end_time": "2022-10-25T16:14:45.754411Z",
     "start_time": "2022-10-25T16:14:45.751142Z"
    }
   },
   "outputs": [
    {
     "name": "stdout",
     "output_type": "stream",
     "text": [
      "\n",
      "O|O|X\n",
      "-----\n",
      " |O| \n",
      "------\n",
      "X|X|X\n",
      "\n",
      "0.00 | 0.00 | 0.00\n",
      "------------------\n",
      "0.00 | 0.00 | 0.00\n",
      "------------------\n",
      "0.00 | 0.00 | 0.00\n"
     ]
    }
   ],
   "source": [
    "board[8] = 'X'\n",
    "printBoardQs(board, Q)"
   ]
  },
  {
   "cell_type": "code",
   "execution_count": 54,
   "metadata": {
    "ExecuteTime": {
     "end_time": "2022-10-25T16:14:50.930980Z",
     "start_time": "2022-10-25T16:14:50.927261Z"
    }
   },
   "outputs": [
    {
     "name": "stdout",
     "output_type": "stream",
     "text": [
      "\n",
      " | | \n",
      "-----\n",
      " | | \n",
      "------\n",
      " | | \n",
      "\n",
      "0.28 | 0.39 | 0.13\n",
      "------------------\n",
      "0.34 | 0.43 | 0.10\n",
      "------------------\n",
      "0.99 | 0.32 | 0.35\n"
     ]
    }
   ],
   "source": [
    "board = np.array([' ']*9)\n",
    "printBoardQs(board,Q)"
   ]
  },
  {
   "cell_type": "code",
   "execution_count": 55,
   "metadata": {
    "ExecuteTime": {
     "end_time": "2022-10-25T16:15:08.007150Z",
     "start_time": "2022-10-25T16:15:08.003597Z"
    }
   },
   "outputs": [
    {
     "name": "stdout",
     "output_type": "stream",
     "text": [
      "\n",
      "X| | \n",
      "-----\n",
      " |O| \n",
      "------\n",
      " | | \n",
      "\n",
      "0.00 | 0.85 | 0.00\n",
      "------------------\n",
      "0.46 | 0.00 | -0.05\n",
      "------------------\n",
      "0.00 | -0.06 | 0.00\n"
     ]
    }
   ],
   "source": [
    "board[0] = 'X'\n",
    "board[4] = 'O'\n",
    "printBoardQs(board,Q)"
   ]
  },
  {
   "cell_type": "code",
   "execution_count": 56,
   "metadata": {
    "ExecuteTime": {
     "end_time": "2022-10-25T16:15:28.230645Z",
     "start_time": "2022-10-25T16:15:28.226973Z"
    }
   },
   "outputs": [
    {
     "name": "stdout",
     "output_type": "stream",
     "text": [
      "\n",
      "X|X|O\n",
      "-----\n",
      " |O| \n",
      "------\n",
      " | | \n",
      "\n",
      "0.00 | 0.00 | 0.00\n",
      "------------------\n",
      "-0.12 | 0.00 | 0.00\n",
      "------------------\n",
      "0.94 | -0.50 | 0.00\n"
     ]
    }
   ],
   "source": [
    "board[1] = 'X'\n",
    "board[2] = 'O'\n",
    "printBoardQs(board,Q)"
   ]
  },
  {
   "cell_type": "code",
   "execution_count": 57,
   "metadata": {
    "ExecuteTime": {
     "end_time": "2022-10-25T16:15:49.979136Z",
     "start_time": "2022-10-25T16:15:49.975638Z"
    }
   },
   "outputs": [
    {
     "name": "stdout",
     "output_type": "stream",
     "text": [
      "\n",
      "X|X|O\n",
      "-----\n",
      " |O|O\n",
      "------\n",
      "X| | \n",
      "\n",
      "0.00 | 0.00 | 0.00\n",
      "------------------\n",
      "1.00 | 0.00 | 0.00\n",
      "------------------\n",
      "0.00 | -0.50 | 0.00\n"
     ]
    }
   ],
   "source": [
    "board[6] = 'X'\n",
    "board[5] = 'O'\n",
    "printBoardQs(board,Q)"
   ]
  },
  {
   "cell_type": "code",
   "execution_count": 58,
   "metadata": {
    "ExecuteTime": {
     "end_time": "2022-10-25T16:16:00.982245Z",
     "start_time": "2022-10-25T16:16:00.978978Z"
    }
   },
   "outputs": [
    {
     "name": "stdout",
     "output_type": "stream",
     "text": [
      "\n",
      "X|X|O\n",
      "-----\n",
      "X|O|O\n",
      "------\n",
      "X| | \n",
      "\n",
      "0.00 | 0.00 | 0.00\n",
      "------------------\n",
      "0.00 | 0.00 | 0.00\n",
      "------------------\n",
      "0.00 | 0.00 | 0.00\n"
     ]
    }
   ],
   "source": [
    "board[3] = 'X'\n",
    "printBoardQs(board,Q)"
   ]
  },
  {
   "cell_type": "markdown",
   "metadata": {
    "collapsed": true
   },
   "source": [
    "# Neural Network as Q function for Tic-Tac-Toe"
   ]
  },
  {
   "cell_type": "code",
   "execution_count": 59,
   "metadata": {
    "ExecuteTime": {
     "end_time": "2022-10-25T16:16:09.305974Z",
     "start_time": "2022-10-25T16:16:08.963457Z"
    }
   },
   "outputs": [],
   "source": [
    "import neuralnetworksA4 as nn"
   ]
  },
  {
   "cell_type": "markdown",
   "metadata": {},
   "source": [
    "To use a neural network, we must represent the board numerically.  Let's use a vector of 9 values of either 1, -1, or 0 to represent 'X', 'O', or no markers.\n",
    "\n",
    "And, let's use one Qnet for Player X and a different one for Player O!|"
   ]
  },
  {
   "cell_type": "code",
   "execution_count": 60,
   "metadata": {
    "ExecuteTime": {
     "end_time": "2022-10-25T16:16:15.992641Z",
     "start_time": "2022-10-25T16:16:15.987378Z"
    }
   },
   "outputs": [],
   "source": [
    "def initial_state():\n",
    "    return np.array([0] * 9)\n",
    "\n",
    "def next_state(s, a, marker):  # s is a board, and a is an index into the cells of the board, marker is 1 or -1\n",
    "    s = s.copy()\n",
    "    s[a] = 1 if marker == 'X' else -1\n",
    "    return s\n",
    "\n",
    "def reinforcement(s):\n",
    "    if won('X', s):\n",
    "        return 1\n",
    "    if won('O', s):\n",
    "        return -1\n",
    "    return 0\n",
    "\n",
    "def won(player, s):\n",
    "    marker = 1 if player == 'X' else -1\n",
    "    combos = np.array((0,1,2, 3,4,5, 6,7,8, 0,3,6, 1,4,7, 2,5,8, 0,4,8, 2,4,6))\n",
    "    return np.any(np.all(marker == s[combos].reshape((-1, 3)), axis=1))\n",
    "\n",
    "def draw(s):\n",
    "    return sum(s == 0) == 0"
   ]
  },
  {
   "cell_type": "code",
   "execution_count": 61,
   "metadata": {
    "ExecuteTime": {
     "end_time": "2022-10-25T16:16:16.423201Z",
     "start_time": "2022-10-25T16:16:16.420429Z"
    }
   },
   "outputs": [],
   "source": [
    "def valid_actions(state):\n",
    "    return np.where(state == 0)[0]"
   ]
  },
  {
   "cell_type": "code",
   "execution_count": 62,
   "metadata": {
    "ExecuteTime": {
     "end_time": "2022-10-25T16:16:17.359576Z",
     "start_time": "2022-10-25T16:16:17.356519Z"
    }
   },
   "outputs": [],
   "source": [
    "def stack_sa(s, a):\n",
    "    return np.hstack((s, a)).reshape(1, -1)\n",
    "\n",
    "def other_player(player):\n",
    "    return 'X' if player == 'O' else 'O'"
   ]
  },
  {
   "cell_type": "code",
   "execution_count": 63,
   "metadata": {
    "ExecuteTime": {
     "end_time": "2022-10-25T16:16:18.304186Z",
     "start_time": "2022-10-25T16:16:18.300531Z"
    }
   },
   "outputs": [],
   "source": [
    "def epsilon_greedy(Qnet, state, epsilon):\n",
    "    \n",
    "    actions = valid_actions(state)\n",
    "    \n",
    "    if np.random.uniform() < epsilon:\n",
    "        # Random Move\n",
    "        action = np.random.choice(actions)\n",
    "        \n",
    "    else:\n",
    "        # Greedy Move\n",
    "        np.random.shuffle(actions)\n",
    "        Qs = np.array([Qnet.use(stack_sa(state, a)) for a in actions])\n",
    "        action = actions[np.argmax(Qs)]\n",
    "        \n",
    "    return action"
   ]
  },
  {
   "cell_type": "code",
   "execution_count": 64,
   "metadata": {
    "ExecuteTime": {
     "end_time": "2022-10-25T16:16:31.717242Z",
     "start_time": "2022-10-25T16:16:31.708831Z"
    }
   },
   "outputs": [],
   "source": [
    "def make_samples(Qnets, initial_state_f, next_state_f, reinforcement_f, epsilon):\n",
    "    '''Run one game'''\n",
    "    X = []\n",
    "    R = []\n",
    "    Qn = []\n",
    "\n",
    "    s = initial_state_f()\n",
    "    player = 'X'\n",
    "\n",
    "    while True:\n",
    "        \n",
    "        a = epsilon_greedy(Qnets[player], s, epsilon)\n",
    "        sn = next_state_f(s, a, player)\n",
    "        r = reinforcement_f(s)\n",
    "\n",
    "        X.append(stack_sa(s, a))\n",
    "        R.append(r)\n",
    "\n",
    "        if r != 0 or draw(sn):\n",
    "            break\n",
    "\n",
    "        s = sn\n",
    "        player = other_player(player)  # switch\n",
    "\n",
    "    X = np.vstack(X)\n",
    "    R = np.array(R).reshape(-1, 1)\n",
    "\n",
    "    # Assign all Qn's, based on following state, but go every other state to do all X values,\n",
    "    # and to do all O values.\n",
    "    Qn = np.zeros_like(R)\n",
    "    if len(Qn) % 2 == 1:\n",
    "        # Odd number of samples, so 0 won\n",
    "        # for X samples\n",
    "        Qn[:-4:2, :] = Qnets['X'].use(X[2:-2:2])  # leave last sample Qn=0\n",
    "        R[-2, 0] = R[-1, 0]  # copy final r (win for O) to last X state, too\n",
    "        # for O samples\n",
    "        Qn[1:-4:2, :] = Qnets['O'].use(X[3:-2:2])  # leave last sample Qn=0\n",
    "    else:\n",
    "        # Odd number of samples, so X won or draw\n",
    "        # for X samples\n",
    "        Qn[:-4:2, :] = Qnets['X'].use(X[2:-2:2])  # leave last sample Qn=0\n",
    "        R[-2, 0] = - R[-1, 0]  # copy negated final r (win for X) to last O state, too\n",
    "        # for O samples\n",
    "        Qn[1:-4:2, :] = Qnets['O'].use(X[3:-2:2])\n",
    "        \n",
    "    return {'X': X, 'R': R, 'Qn': Qn}"
   ]
  },
  {
   "cell_type": "code",
   "execution_count": 65,
   "metadata": {
    "ExecuteTime": {
     "end_time": "2022-10-25T16:16:35.487472Z",
     "start_time": "2022-10-25T16:16:35.481341Z"
    }
   },
   "outputs": [],
   "source": [
    "def plot_status(outcomes, epsilons, n_trials, trial):\n",
    "    if trial == 0:\n",
    "        return\n",
    "    outcomes = np.array(outcomes)\n",
    "    n_per = 10\n",
    "    n_bins = (trial + 1) // n_per\n",
    "    if n_bins == 0:\n",
    "        return\n",
    "    outcome_rows = outcomes[:n_per * n_bins].reshape((-1, n_per))\n",
    "    outcome_rows = outcome_rows[:trial // n_per + 1, :]\n",
    "    avgs = np.mean(outcome_rows, axis=1)\n",
    "    \n",
    "    plt.subplot(3, 1, 1)\n",
    "    xs = np.linspace(n_per, n_per * n_bins, len(avgs))\n",
    "    plt.plot(xs, avgs)\n",
    "    plt.ylim(-1.1, 1.1)\n",
    "    plt.xlabel('Games')\n",
    "    plt.ylabel('Mean of Outcomes') # \\n(0=draw, 1=X win, -1=O win)')\n",
    "    plt.title(f'Bins of {n_per:d} Games')\n",
    "    \n",
    "    plt.subplot(3, 1, 2)\n",
    "    plt.plot(xs, np.sum(outcome_rows == -1, axis=1), 'r-', label='Losses')\n",
    "    plt.plot(xs, np.sum(outcome_rows == 0, axis=1), 'b-', label='Draws')\n",
    "    plt.plot(xs, np.sum(outcome_rows == 1, axis=1), 'g-', label='Wins')\n",
    "    plt.legend(loc='center')\n",
    "    plt.ylabel(f'Number of Games\\nin Bins of {n_per:d}')\n",
    "    \n",
    "    plt.subplot(3, 1, 3)\n",
    "    plt.plot(epsilons[:trial])\n",
    "    plt.ylabel('$\\epsilon$')\n"
   ]
  },
  {
   "cell_type": "code",
   "execution_count": 66,
   "metadata": {
    "ExecuteTime": {
     "end_time": "2022-10-25T16:16:36.223683Z",
     "start_time": "2022-10-25T16:16:36.220473Z"
    }
   },
   "outputs": [],
   "source": [
    "def setup_standardization(Qnet, Xmeans, Xstds, Tmeans, Tstds):\n",
    "    Qnet.X_means = np.array(Xmeans)\n",
    "    Qnet.X_stds = np.array(Xstds)\n",
    "    Qnet.T_means = np.array(Tmeans)\n",
    "    Qnet.T_stds = np.array(Tstds)"
   ]
  },
  {
   "cell_type": "code",
   "execution_count": 67,
   "metadata": {
    "ExecuteTime": {
     "end_time": "2022-10-25T16:17:07.188171Z",
     "start_time": "2022-10-25T16:16:57.055770Z"
    }
   },
   "outputs": [
    {
     "data": {
      "image/png": "[encoded data removed]",
      "text/plain": [
       "<Figure size 720x720 with 3 Axes>"
      ]
     },
     "metadata": {
      "needs_background": "light"
     },
     "output_type": "display_data"
    }
   ],
   "source": [
    "from IPython.display import display, clear_output\n",
    "fig = plt.figure(figsize=(10, 10))\n",
    "\n",
    "gamma = 0.8       # discount factor\n",
    "n_trials = 500         # number of repetitions of makeSamples-updateQ loop\n",
    "n_epochs = 5\n",
    "learning_rate = 0.01\n",
    "final_epsilon = 0.01 # value of epsilon at end of simulation. Decay rate is calculated\n",
    "epsilon_decay =  np.exp(np.log(final_epsilon) / (n_trials)) # to produce this final value\n",
    "# epsilon_decay = 1  # to force both players to take random actions\n",
    "print('epsilon_decay is', epsilon_decay)\n",
    "\n",
    "#################################################################################\n",
    "# Qnet for Player 'X'\n",
    "nhX = [5]  # hidden layers structure\n",
    "QnetX = nn.NeuralNetwork(9 + 1, nhX, 1)\n",
    "\n",
    "# Qnet for Player 'O'\n",
    "nhO = []  # hidden layers structure\n",
    "QnetO = nn.NeuralNetwork(9 + 1, nhO, 1)\n",
    "#################################################################################\n",
    "\n",
    "# Inputs are 9 TTT cells plus 1 action\n",
    "setup_standardization(QnetX, [0] * 10, [1] * 10, [0], [1])\n",
    "setup_standardization(QnetO, [0] * 10, [1] * 10, [0], [1])\n",
    "\n",
    "Qnets = {'X': QnetX, 'O': QnetO}\n",
    "\n",
    "fig = plt.figure(1, figsize=(10, 10))\n",
    "\n",
    "epsilon = 1         # initial epsilon value\n",
    "outcomes = []\n",
    "epsilon_trace = []\n",
    "\n",
    "# Train for n_trials\n",
    "for trial in range(n_trials):\n",
    "    \n",
    "    samples = make_samples(Qnets, initial_state, next_state, reinforcement, epsilon)\n",
    "    \n",
    "    for player in ['X', 'O']:\n",
    "        first_sample = 0 if player == 'X' else 1\n",
    "        rows = slice(0, None, 2) if player == 'X' else slice(1, None, 2)\n",
    "        X = samples['X'][rows, :]\n",
    "        R = samples['R'][rows, :]\n",
    "        Qn = samples['Qn'][rows, :]\n",
    "        T = R + gamma * Qn\n",
    "        Qnets[player].train(X, T, n_epochs, method='scg', learning_rate=learning_rate, verbose=False)\n",
    "\n",
    "    # Rest is for plotting\n",
    "    epsilon_trace.append(epsilon)\n",
    "    epsilon *= epsilon_decay\n",
    "    n_moves = len(samples['R'])\n",
    "    final_r = samples['R'][-1]\n",
    "    # if odd n_moves, then O won so negate final_r for X perspective\n",
    "    outcome = final_r if n_moves % 2 == 0 else -final_r\n",
    "    outcomes.append(outcome)\n",
    "    if True and (trial + 1 == n_trials or trial % (n_trials / 20) == 0):\n",
    "        fig.clf()\n",
    "        plot_status(outcomes, epsilon_trace, n_trials, trial)\n",
    "        clear_output(wait=True)\n",
    "        display(fig)\n",
    "\n",
    "clear_output(wait=True);"
   ]
  },
  {
   "cell_type": "code",
   "execution_count": null,
   "metadata": {},
   "outputs": [],
   "source": []
  },
  {
   "cell_type": "code",
   "execution_count": null,
   "metadata": {},
   "outputs": [],
   "source": []
  }
 ],
 "metadata": {
  "kernelspec": {
   "display_name": "Python 3 (ipykernel)",
   "language": "python",
   "name": "python3"
  },
  "language_info": {
   "codemirror_mode": {
    "name": "ipython",
    "version": 3
   },
   "file_extension": ".py",
   "mimetype": "text/x-python",
   "name": "python",
   "nbconvert_exporter": "python",
   "pygments_lexer": "ipython3",
   "version": "3.8.13"
  },
  "toc": {
   "base_numbering": 1,
   "nav_menu": {},
   "number_sections": true,
   "sideBar": true,
   "skip_h1_title": false,
   "title_cell": "Table of Contents",
   "title_sidebar": "Contents",
   "toc_cell": false,
   "toc_position": {},
   "toc_section_display": true,
   "toc_window_display": false
  }
 },
 "nbformat": 4,
 "nbformat_minor": 1
}
