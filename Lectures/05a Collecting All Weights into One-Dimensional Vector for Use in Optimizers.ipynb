{
 "cells": [
  {
   "cell_type": "code",
   "execution_count": 1,
   "id": "ae742fe7",
   "metadata": {
    "ExecuteTime": {
     "end_time": "2022-09-20T18:29:51.908252Z",
     "start_time": "2022-09-20T18:29:51.749656Z"
    }
   },
   "outputs": [],
   "source": [
    "import numpy as np"
   ]
  },
  {
   "cell_type": "code",
   "execution_count": 2,
   "id": "bcfcd6d9",
   "metadata": {
    "ExecuteTime": {
     "end_time": "2022-09-20T18:29:51.911887Z",
     "start_time": "2022-09-20T18:29:51.909854Z"
    }
   },
   "outputs": [],
   "source": [
    "W1shape = (5, 2)\n",
    "W2shape = (2, 10)"
   ]
  },
  {
   "cell_type": "code",
   "execution_count": 3,
   "id": "353ce89c",
   "metadata": {
    "ExecuteTime": {
     "end_time": "2022-09-20T18:29:51.922008Z",
     "start_time": "2022-09-20T18:29:51.912989Z"
    }
   },
   "outputs": [],
   "source": [
    "W1 = np.arange(0, 10).reshape(W1shape)\n",
    "W2 = np.arange(10, 30).reshape(W2shape)"
   ]
  },
  {
   "cell_type": "code",
   "execution_count": 4,
   "id": "a2567905",
   "metadata": {
    "ExecuteTime": {
     "end_time": "2022-09-20T18:29:51.935173Z",
     "start_time": "2022-09-20T18:29:51.923730Z"
    }
   },
   "outputs": [
    {
     "data": {
      "text/plain": [
       "(array([[0, 1],\n",
       "        [2, 3],\n",
       "        [4, 5],\n",
       "        [6, 7],\n",
       "        [8, 9]]),\n",
       " array([[10, 11, 12, 13, 14, 15, 16, 17, 18, 19],\n",
       "        [20, 21, 22, 23, 24, 25, 26, 27, 28, 29]]))"
      ]
     },
     "execution_count": 4,
     "metadata": {},
     "output_type": "execute_result"
    }
   ],
   "source": [
    "W1,W2"
   ]
  },
  {
   "cell_type": "code",
   "execution_count": 5,
   "id": "b4270386",
   "metadata": {
    "ExecuteTime": {
     "end_time": "2022-09-20T18:29:51.945283Z",
     "start_time": "2022-09-20T18:29:51.936283Z"
    }
   },
   "outputs": [
    {
     "data": {
      "text/plain": [
       "array([0, 1, 2, 3, 4, 5, 6, 7, 8, 9])"
      ]
     },
     "execution_count": 5,
     "metadata": {},
     "output_type": "execute_result"
    }
   ],
   "source": [
    "W1.flatten()"
   ]
  },
  {
   "cell_type": "code",
   "execution_count": 6,
   "id": "6535d5f4",
   "metadata": {
    "ExecuteTime": {
     "end_time": "2022-09-20T18:29:51.955156Z",
     "start_time": "2022-09-20T18:29:51.946367Z"
    }
   },
   "outputs": [],
   "source": [
    "Ws = [W1.flatten(), W2.flatten()]\n",
    "Ws"
   ]
  },
  {
   "cell_type": "code",
   "execution_count": 7,
   "id": "c5998316",
   "metadata": {
    "ExecuteTime": {
     "end_time": "2022-09-20T18:29:51.963633Z",
     "start_time": "2022-09-20T18:29:51.956326Z"
    }
   },
   "outputs": [],
   "source": [
    "Ws = np.hstack((W1.flatten(), W2.flatten()))\n",
    "Ws"
   ]
  },
  {
   "cell_type": "code",
   "execution_count": 8,
   "id": "090948c9",
   "metadata": {
    "ExecuteTime": {
     "end_time": "2022-09-20T18:29:51.974245Z",
     "start_time": "2022-09-20T18:29:51.965096Z"
    }
   },
   "outputs": [],
   "source": [
    "Ws[0]"
   ]
  },
  {
   "cell_type": "code",
   "execution_count": 9,
   "id": "58393998",
   "metadata": {
    "ExecuteTime": {
     "end_time": "2022-09-20T18:29:51.983302Z",
     "start_time": "2022-09-20T18:29:51.975357Z"
    }
   },
   "outputs": [],
   "source": [
    "Ws[0] = 1111\n",
    "Ws"
   ]
  },
  {
   "cell_type": "code",
   "execution_count": 10,
   "id": "5e0f8c94",
   "metadata": {
    "ExecuteTime": {
     "end_time": "2022-09-20T18:29:51.992396Z",
     "start_time": "2022-09-20T18:29:51.986411Z"
    }
   },
   "outputs": [
    {
     "data": {
      "text/plain": [
       "array([[0, 1],\n",
       "       [2, 3],\n",
       "       [4, 5],\n",
       "       [6, 7],\n",
       "       [8, 9]])"
      ]
     },
     "execution_count": 10,
     "metadata": {},
     "output_type": "execute_result"
    }
   ],
   "source": [
    "W1"
   ]
  },
  {
   "cell_type": "markdown",
   "id": "83e0d29e",
   "metadata": {},
   "source": [
    "Nope. Didn't work.  Must first construct `Ws`, then assign `W1` and `W2` as views into `Ws`."
   ]
  },
  {
   "cell_type": "code",
   "execution_count": 11,
   "id": "fae4f585",
   "metadata": {
    "ExecuteTime": {
     "end_time": "2022-09-20T18:29:52.001886Z",
     "start_time": "2022-09-20T18:29:51.993988Z"
    }
   },
   "outputs": [
    {
     "data": {
      "text/plain": [
       "30"
      ]
     },
     "execution_count": 11,
     "metadata": {},
     "output_type": "execute_result"
    }
   ],
   "source": [
    "n_weights = W1shape[0] * W1shape[1]\n",
    "n_weights += W2shape[0] * W2shape[1]\n",
    "n_weights"
   ]
  },
  {
   "cell_type": "code",
   "execution_count": 12,
   "id": "c702c014",
   "metadata": {
    "ExecuteTime": {
     "end_time": "2022-09-20T18:29:52.010766Z",
     "start_time": "2022-09-20T18:29:52.003234Z"
    }
   },
   "outputs": [
    {
     "data": {
      "text/plain": [
       "array([0., 0., 0., 0., 0., 0., 0., 0., 0., 0., 0., 0., 0., 0., 0., 0., 0.,\n",
       "       0., 0., 0., 0., 0., 0., 0., 0., 0., 0., 0., 0., 0.])"
      ]
     },
     "execution_count": 12,
     "metadata": {},
     "output_type": "execute_result"
    }
   ],
   "source": [
    "Ws = np.zeros(30)\n",
    "Ws"
   ]
  },
  {
   "cell_type": "markdown",
   "id": "c50937b2",
   "metadata": {},
   "source": [
    "Now, create our weight matrices as views into this vector."
   ]
  },
  {
   "cell_type": "code",
   "execution_count": 13,
   "id": "e3be60f7",
   "metadata": {
    "ExecuteTime": {
     "end_time": "2022-09-20T18:29:52.021347Z",
     "start_time": "2022-09-20T18:29:52.011903Z"
    }
   },
   "outputs": [
    {
     "data": {
      "text/plain": [
       "((5, 2), (2, 10))"
      ]
     },
     "execution_count": 13,
     "metadata": {},
     "output_type": "execute_result"
    }
   ],
   "source": [
    "first_index = 0\n",
    "\n",
    "nw = np.prod(W1shape)\n",
    "last_index = first_index + nw\n",
    "W1 = Ws[first_index:last_index].reshape(W1shape)\n",
    "first_index += nw\n",
    "\n",
    "nw = np.prod(W2shape)\n",
    "last_index += nw\n",
    "W2 = Ws[first_index:last_index].reshape(W2shape)\n",
    "\n",
    "W1.shape, W2.shape"
   ]
  },
  {
   "cell_type": "code",
   "execution_count": 14,
   "id": "fe3d17ed",
   "metadata": {
    "ExecuteTime": {
     "end_time": "2022-09-20T18:29:52.033042Z",
     "start_time": "2022-09-20T18:29:52.022433Z"
    }
   },
   "outputs": [
    {
     "data": {
      "text/plain": [
       "(array([[0., 0.],\n",
       "        [0., 0.],\n",
       "        [0., 0.],\n",
       "        [0., 0.],\n",
       "        [0., 0.]]),\n",
       " array([[0., 0., 0., 0., 0., 0., 0., 0., 0., 0.],\n",
       "        [0., 0., 0., 0., 0., 0., 0., 0., 0., 0.]]))"
      ]
     },
     "execution_count": 14,
     "metadata": {},
     "output_type": "execute_result"
    }
   ],
   "source": [
    "W1, W2"
   ]
  },
  {
   "cell_type": "code",
   "execution_count": 15,
   "id": "d2c7609e",
   "metadata": {
    "ExecuteTime": {
     "end_time": "2022-09-20T18:29:52.043685Z",
     "start_time": "2022-09-20T18:29:52.034840Z"
    }
   },
   "outputs": [
    {
     "data": {
      "text/plain": [
       "array([0., 0., 0., 0., 0., 0., 0., 0., 0., 0., 0., 0., 0., 0., 0., 0., 0.,\n",
       "       0., 0., 0., 0., 0., 0., 0., 0., 0., 0., 0., 0., 0.])"
      ]
     },
     "execution_count": 15,
     "metadata": {},
     "output_type": "execute_result"
    }
   ],
   "source": [
    "Ws"
   ]
  },
  {
   "cell_type": "markdown",
   "id": "aa7e0c4f",
   "metadata": {},
   "source": [
    "Before we initalized W1 and W2 like\n",
    "```\n",
    "W1 = np.arange(0, 10).reshape(5, 2)\n",
    "W2 = np.arange(10, 30).reshape(2, 10)\n",
    "```\n",
    "Now we must make sure we assign to the values of the existing matrix `W1`, not create a new version of that matrix."
   ]
  },
  {
   "cell_type": "code",
   "execution_count": 16,
   "id": "3ce6940d",
   "metadata": {
    "ExecuteTime": {
     "end_time": "2022-09-20T18:29:52.054380Z",
     "start_time": "2022-09-20T18:29:52.045164Z"
    }
   },
   "outputs": [
    {
     "data": {
      "text/plain": [
       "(array([[0., 1.],\n",
       "        [2., 3.],\n",
       "        [4., 5.],\n",
       "        [6., 7.],\n",
       "        [8., 9.]]),\n",
       " array([[10., 11., 12., 13., 14., 15., 16., 17., 18., 19.],\n",
       "        [20., 21., 22., 23., 24., 25., 26., 27., 28., 29.]]))"
      ]
     },
     "execution_count": 16,
     "metadata": {},
     "output_type": "execute_result"
    }
   ],
   "source": [
    "W1[:] = np.arange(0, 10).reshape(W1shape)\n",
    "W2[:] = np.arange(10, 30).reshape(W2shape)\n",
    "W1, W2"
   ]
  },
  {
   "cell_type": "code",
   "execution_count": 17,
   "id": "e4adc8fc",
   "metadata": {
    "ExecuteTime": {
     "end_time": "2022-09-20T18:29:52.063243Z",
     "start_time": "2022-09-20T18:29:52.055549Z"
    }
   },
   "outputs": [
    {
     "data": {
      "text/plain": [
       "array([ 0.,  1.,  2.,  3.,  4.,  5.,  6.,  7.,  8.,  9., 10., 11., 12.,\n",
       "       13., 14., 15., 16., 17., 18., 19., 20., 21., 22., 23., 24., 25.,\n",
       "       26., 27., 28., 29.])"
      ]
     },
     "execution_count": 17,
     "metadata": {},
     "output_type": "execute_result"
    }
   ],
   "source": [
    "Ws"
   ]
  },
  {
   "cell_type": "code",
   "execution_count": 18,
   "id": "5ffa6948",
   "metadata": {
    "ExecuteTime": {
     "end_time": "2022-09-20T18:29:52.072114Z",
     "start_time": "2022-09-20T18:29:52.064447Z"
    }
   },
   "outputs": [
    {
     "data": {
      "text/plain": [
       "array([1.111e+03, 1.000e+00, 2.000e+00, 3.000e+00, 4.000e+00, 5.000e+00,\n",
       "       6.000e+00, 7.000e+00, 8.000e+00, 9.000e+00, 1.000e+01, 1.100e+01,\n",
       "       1.200e+01, 1.300e+01, 1.400e+01, 1.500e+01, 1.600e+01, 1.700e+01,\n",
       "       1.800e+01, 1.900e+01, 2.000e+01, 2.100e+01, 2.200e+01, 2.300e+01,\n",
       "       2.400e+01, 2.500e+01, 2.600e+01, 2.700e+01, 2.800e+01, 2.900e+01])"
      ]
     },
     "execution_count": 18,
     "metadata": {},
     "output_type": "execute_result"
    }
   ],
   "source": [
    "Ws[0] = 1111\n",
    "Ws"
   ]
  },
  {
   "cell_type": "code",
   "execution_count": 19,
   "id": "430d94fc",
   "metadata": {
    "ExecuteTime": {
     "end_time": "2022-09-20T18:29:52.081507Z",
     "start_time": "2022-09-20T18:29:52.073299Z"
    }
   },
   "outputs": [
    {
     "data": {
      "text/plain": [
       "array([[1.111e+03, 1.000e+00],\n",
       "       [2.000e+00, 3.000e+00],\n",
       "       [4.000e+00, 5.000e+00],\n",
       "       [6.000e+00, 7.000e+00],\n",
       "       [8.000e+00, 9.000e+00]])"
      ]
     },
     "execution_count": 19,
     "metadata": {},
     "output_type": "execute_result"
    }
   ],
   "source": [
    "W1"
   ]
  },
  {
   "cell_type": "code",
   "execution_count": 20,
   "id": "c0f751c0",
   "metadata": {
    "ExecuteTime": {
     "end_time": "2022-09-20T18:29:52.090858Z",
     "start_time": "2022-09-20T18:29:52.083179Z"
    }
   },
   "outputs": [
    {
     "data": {
      "text/plain": [
       "array([[-999.,   11.,   12.,   13.,   14.,   15.,   16.,   17.,   18.,\n",
       "          19.],\n",
       "       [  20.,   21.,   22.,   23.,   24.,   25.,   26.,   27.,   28.,\n",
       "          29.]])"
      ]
     },
     "execution_count": 20,
     "metadata": {},
     "output_type": "execute_result"
    }
   ],
   "source": [
    "W2[0, 0] = -999\n",
    "W2"
   ]
  },
  {
   "cell_type": "code",
   "execution_count": 21,
   "id": "7debf90f",
   "metadata": {
    "ExecuteTime": {
     "end_time": "2022-09-20T18:29:52.101533Z",
     "start_time": "2022-09-20T18:29:52.092332Z"
    }
   },
   "outputs": [
    {
     "data": {
      "text/plain": [
       "array([ 1.111e+03,  1.000e+00,  2.000e+00,  3.000e+00,  4.000e+00,\n",
       "        5.000e+00,  6.000e+00,  7.000e+00,  8.000e+00,  9.000e+00,\n",
       "       -9.990e+02,  1.100e+01,  1.200e+01,  1.300e+01,  1.400e+01,\n",
       "        1.500e+01,  1.600e+01,  1.700e+01,  1.800e+01,  1.900e+01,\n",
       "        2.000e+01,  2.100e+01,  2.200e+01,  2.300e+01,  2.400e+01,\n",
       "        2.500e+01,  2.600e+01,  2.700e+01,  2.800e+01,  2.900e+01])"
      ]
     },
     "execution_count": 21,
     "metadata": {},
     "output_type": "execute_result"
    }
   ],
   "source": [
    "Ws"
   ]
  },
  {
   "cell_type": "code",
   "execution_count": 22,
   "id": "8512fa30",
   "metadata": {
    "ExecuteTime": {
     "end_time": "2022-09-20T18:29:52.111384Z",
     "start_time": "2022-09-20T18:29:52.102813Z"
    }
   },
   "outputs": [
    {
     "data": {
      "text/plain": [
       "30"
      ]
     },
     "execution_count": 22,
     "metadata": {},
     "output_type": "execute_result"
    }
   ],
   "source": [
    "len(Ws)"
   ]
  },
  {
   "cell_type": "markdown",
   "id": "dfde7457",
   "metadata": {},
   "source": [
    "If we want to update all of the weights, using an optimization algorithm for example, don't forget to use `Ws[:] = ` rather than `Ws = `."
   ]
  },
  {
   "cell_type": "code",
   "execution_count": 23,
   "id": "7e237b7d",
   "metadata": {
    "ExecuteTime": {
     "end_time": "2022-09-20T18:29:52.120893Z",
     "start_time": "2022-09-20T18:29:52.112715Z"
    }
   },
   "outputs": [
    {
     "data": {
      "text/plain": [
       "array([   0.,  100.,  200.,  300.,  400.,  500.,  600.,  700.,  800.,\n",
       "        900., 1000., 1100., 1200., 1300., 1400., 1500., 1600., 1700.,\n",
       "       1800., 1900., 2000., 2100., 2200., 2300., 2400., 2500., 2600.,\n",
       "       2700., 2800., 2900.])"
      ]
     },
     "execution_count": 23,
     "metadata": {},
     "output_type": "execute_result"
    }
   ],
   "source": [
    "Ws[:] = np.arange(30) * 100\n",
    "Ws"
   ]
  },
  {
   "cell_type": "code",
   "execution_count": 24,
   "id": "32fc850f",
   "metadata": {
    "ExecuteTime": {
     "end_time": "2022-09-20T18:29:52.131186Z",
     "start_time": "2022-09-20T18:29:52.122025Z"
    }
   },
   "outputs": [
    {
     "data": {
      "text/plain": [
       "(array([[  0., 100.],\n",
       "        [200., 300.],\n",
       "        [400., 500.],\n",
       "        [600., 700.],\n",
       "        [800., 900.]]),\n",
       " array([[1000., 1100., 1200., 1300., 1400., 1500., 1600., 1700., 1800.,\n",
       "         1900.],\n",
       "        [2000., 2100., 2200., 2300., 2400., 2500., 2600., 2700., 2800.,\n",
       "         2900.]]))"
      ]
     },
     "execution_count": 24,
     "metadata": {},
     "output_type": "execute_result"
    }
   ],
   "source": [
    "W1, W2"
   ]
  },
  {
   "cell_type": "code",
   "execution_count": null,
   "id": "98abe736",
   "metadata": {},
   "outputs": [],
   "source": []
  }
 ],
 "metadata": {
  "kernelspec": {
   "display_name": "Python 3 (ipykernel)",
   "language": "python",
   "name": "python3"
  },
  "language_info": {
   "codemirror_mode": {
    "name": "ipython",
    "version": 3
   },
   "file_extension": ".py",
   "mimetype": "text/x-python",
   "name": "python",
   "nbconvert_exporter": "python",
   "pygments_lexer": "ipython3",
   "version": "3.8.13"
  },
  "toc": {
   "base_numbering": 1,
   "nav_menu": {},
   "number_sections": true,
   "sideBar": true,
   "skip_h1_title": false,
   "title_cell": "Table of Contents",
   "title_sidebar": "Contents",
   "toc_cell": false,
   "toc_position": {},
   "toc_section_display": true,
   "toc_window_display": false
  }
 },
 "nbformat": 4,
 "nbformat_minor": 5
}
