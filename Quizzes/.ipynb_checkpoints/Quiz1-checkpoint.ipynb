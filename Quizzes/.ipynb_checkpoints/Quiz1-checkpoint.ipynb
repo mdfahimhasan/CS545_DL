{
 "cells": [
  {
   "cell_type": "markdown",
   "metadata": {},
   "source": [
    "# Quiz 1: CS545 Fall 2022"
   ]
  },
  {
   "cell_type": "markdown",
   "metadata": {},
   "source": [
    "Download this jupyter notebook by clicking on the download button at the upper right.  You might have to select \"Save as...\" from your browswer to save this file as `Quiz1.ipynb`.  Then, start `jupyter notebook` and select your `Quiz1.ipynb` file in order to edit your quiz answers.  When done, submit your `Quiz1.ipynb` file using Canvas."
   ]
  },
  {
   "cell_type": "markdown",
   "metadata": {},
   "source": [
    "### Name:  Md Fahim Hasan  "
   ]
  },
  {
   "cell_type": "markdown",
   "metadata": {
    "ExecuteTime": {
     "end_time": "2021-07-15T21:27:55.545924Z",
     "start_time": "2021-07-15T21:27:55.531888Z"
    }
   },
   "source": [
    "#### AI and Machine Learning course names taken previously\n",
    "\n",
    "For example:\n",
    "* IST 5535: Machine Learning Algorithms and Applications (Missouri university of Science and Technology)\n",
    "\n",
    "*Also have some ML experiences from my research where I created a global subsidence model using random forest algorithm. The model is a classifier type and generates a global map of subsidence using satellite products.*\n"
   ]
  },
  {
   "cell_type": "markdown",
   "metadata": {},
   "source": [
    "Have you used jupyter notebooks before? If yes, please briefly describe what you used them for.\n",
    "\n",
    "\n",
    "    <Yes. I started learning python in Jupyter Notebook. Eventually, I moved to pycharm. But every now and then I use it for simple data visualization, trying out some new codes cell by cell, or if someone asks me to write some codes for them.>"
   ]
  },
  {
   "cell_type": "markdown",
   "metadata": {},
   "source": [
    "Which editor do you like to use for writing python code?\n",
    "\n",
    "    <Pycharm>"
   ]
  },
  {
   "cell_type": "markdown",
   "metadata": {},
   "source": [
    "Edit the following list by deleting python packages that you have not used. Add others with which you are familiar.\n",
    "* numpy\n",
    "* pandas\n",
    "* matplotlib\n",
    "* sklearn"
   ]
  },
  {
   "cell_type": "markdown",
   "metadata": {},
   "source": [
    "Complete the following Latex expressions for the derivatives of functions $g$, $h$, and $k$ with respect to $x$.\n",
    "\n",
    "$$\n",
    "\\begin{align*}\n",
    "f(x) &= x^2  \\\\\n",
    "\\frac{\\partial f(x)}{\\partial x} &= 2x \\\\\n",
    "~ \\\\\n",
    "g(x) &= \\frac{1}{1 + e^{-ax}}\\\\\n",
    "\\frac{\\partial g(x)}{\\partial x} &= \\frac{e^{-ax}}{({1+e^{-ax}})^2}  \\\\\n",
    "~ \\\\\n",
    "h(x) &= \\tanh(42 x)\\\\\n",
    "\\frac{\\partial h(x)}{\\partial x} &= 42\\text sech^2(42x) \\\\  \n",
    "~ \\\\\n",
    "k(x) &= (t - \\tanh(z x))^2\\\\\n",
    "\\frac{\\partial k(x)}{\\partial x} &= 2z\\text sech^2 (zx)(tanh(zx)-1)\n",
    "\\end{align*}\n",
    "$$\n"
   ]
  },
  {
   "cell_type": "markdown",
   "metadata": {},
   "source": [
    "Add a code cell and in it type python statements to define the two matrices, $A$ and $B$, as `numpy` arrays, print them, and print their shapes.\n",
    "\n",
    "$$ A = \\begin{bmatrix} 1 & 2 & 3\\\\ 4 & 5 & 6 \\end{bmatrix} \\;\\;\\; \\text{ and } \\;\\;\\; B = \\begin{bmatrix} 10 & 20 \\\\ 30 & 40 \\\\ 50 & 60 \\end{bmatrix} $$"
   ]
  },
  {
   "cell_type": "code",
   "execution_count": 21,
   "metadata": {},
   "outputs": [
    {
     "name": "stdout",
     "output_type": "stream",
     "text": [
      "[[1 2 3]\n",
      " [4 5 6]]\n",
      "shape of A is (2, 3) \n",
      "\n",
      "[[10 20]\n",
      " [30 40]\n",
      " [50 60]]\n",
      "shape of B is (3, 2) \n",
      "\n"
     ]
    }
   ],
   "source": [
    "import numpy as np\n",
    "A = np.array([[1, 2, 3], [4, 5, 6]])\n",
    "B = np.array([[10, 20], [30, 40], [50, 60]])\n",
    "print(A)\n",
    "print(f'shape of A is {A.shape}', '\\n')\n",
    "print(B)\n",
    "print(f'shape of B is {B.shape}', '\\n')"
   ]
  },
  {
   "cell_type": "markdown",
   "metadata": {},
   "source": [
    "Add another code cell here and write python statements to multiply $A$ and $B$ and print the answer. "
   ]
  },
  {
   "cell_type": "code",
   "execution_count": 22,
   "metadata": {},
   "outputs": [
    {
     "data": {
      "text/plain": [
       "array([[220, 280],\n",
       "       [490, 640]])"
      ]
     },
     "execution_count": 22,
     "metadata": {},
     "output_type": "execute_result"
    }
   ],
   "source": [
    "C = np.matmul(A, B)\n",
    "C"
   ]
  },
  {
   "cell_type": "markdown",
   "metadata": {},
   "source": [
    "Add a code cell and write python statements that show\n",
    "$$ (A B)^T = B^T A^T$$"
   ]
  },
  {
   "cell_type": "code",
   "execution_count": 23,
   "metadata": {},
   "outputs": [
    {
     "name": "stdout",
     "output_type": "stream",
     "text": [
      "(AB).T = (B.T)(A.T)\n"
     ]
    }
   ],
   "source": [
    "P = np.dot(A, B).T\n",
    "Q = np.dot((B.T), (A.T))\n",
    "\n",
    "if np.array_equal(P, Q):\n",
    "    print('(AB).T = (B.T)(A.T)')\n",
    "else:\n",
    "    '(AB)^2 != (B.T)(A.T)'"
   ]
  },
  {
   "cell_type": "markdown",
   "metadata": {},
   "source": [
    "In another code cell, define a numpy array in variable $x$ of 20 values equally spaced from $-10$ to 10 using `np.linspace`.  Then plot $\\tanh(x)$ versus $x$ using the `matplotlib` package."
   ]
  },
  {
   "cell_type": "code",
   "execution_count": 24,
   "metadata": {},
   "outputs": [
    {
     "data": {
      "text/plain": [
       "Text(0, 0.5, 'tanh(X)')"
      ]
     },
     "execution_count": 24,
     "metadata": {},
     "output_type": "execute_result"
    },
    {
     "data": {
      "image/png": "[encoded data removed]",
      "text/plain": [
       "<Figure size 432x288 with 1 Axes>"
      ]
     },
     "metadata": {
      "needs_background": "light"
     },
     "output_type": "display_data"
    }
   ],
   "source": [
    "import matplotlib.pyplot as plt\n",
    "x = np.linspace(-10, 10, num=20)\n",
    "y = np.tanh(x)\n",
    "\n",
    "plt.plot(x, y, color='g')\n",
    "plt.xlabel('X')\n",
    "plt.ylabel('tanh(X)')"
   ]
  },
  {
   "cell_type": "markdown",
   "metadata": {},
   "source": [
    "The following code cell defines a list of integers.  Write one line of python that uses a list comprehension to square each value of the original list."
   ]
  },
  {
   "cell_type": "code",
   "execution_count": 25,
   "metadata": {},
   "outputs": [
    {
     "data": {
      "text/plain": [
       "([1, 5, 15, 3, -42], [1, 25, 225, 9, 1764])"
      ]
     },
     "execution_count": 25,
     "metadata": {},
     "output_type": "execute_result"
    }
   ],
   "source": [
    "x = [1, 5, 15, 3, -42]\n",
    "x_squared = [i**2 for i in x]\n",
    "x, x_squared"
   ]
  },
  {
   "cell_type": "markdown",
   "metadata": {},
   "source": [
    "In another code cell, use `np.stack` and the transpose operator to combine `x` and `x_squared` into one `numpy` array of two columns with the first value in each row from `x` and the second value in the same row the value of `x` squared. Display the result."
   ]
  },
  {
   "cell_type": "code",
   "execution_count": 26,
   "metadata": {},
   "outputs": [
    {
     "data": {
      "text/plain": [
       "array([[   1,    1],\n",
       "       [   5,   25],\n",
       "       [  15,  225],\n",
       "       [   3,    9],\n",
       "       [ -42, 1764]])"
      ]
     },
     "execution_count": 26,
     "metadata": {},
     "output_type": "execute_result"
    }
   ],
   "source": [
    "new_x = np.stack((np.array(x), np.array(x_squared)), axis=0).T\n",
    "new_x"
   ]
  },
  {
   "cell_type": "markdown",
   "metadata": {},
   "source": [
    "In another code cell, make a plot of `x_squared` values versus `x` values, using the 'o' style."
   ]
  },
  {
   "cell_type": "code",
   "execution_count": 27,
   "metadata": {},
   "outputs": [
    {
     "data": {
      "text/plain": [
       "Text(0, 0.5, 'X^2')"
      ]
     },
     "execution_count": 27,
     "metadata": {},
     "output_type": "execute_result"
    },
    {
     "data": {
      "image/png": "[encoded data removed]",
      "text/plain": [
       "<Figure size 432x288 with 1 Axes>"
      ]
     },
     "metadata": {
      "needs_background": "light"
     },
     "output_type": "display_data"
    }
   ],
   "source": [
    "plt.plot(x, x_squared, 'o')\n",
    "plt.xlabel('X')\n",
    "plt.ylabel('X^2')"
   ]
  },
  {
   "cell_type": "markdown",
   "metadata": {},
   "source": [
    "How many hours did it take you to complete this quiz?  \n",
    "\n",
    "    <1.5 hour>"
   ]
  },
  {
   "cell_type": "markdown",
   "metadata": {},
   "source": [
    "**When you are done, save this notebook and submit it through our course Canvas webpage.**  \n",
    "\n",
    "You may submit as many times as you wish, before the deadline."
   ]
  },
  {
   "cell_type": "code",
   "execution_count": null,
   "metadata": {},
   "outputs": [],
   "source": []
  }
 ],
 "metadata": {
  "kernelspec": {
   "display_name": "Python 3 (ipykernel)",
   "language": "python",
   "name": "python3"
  },
  "language_info": {
   "codemirror_mode": {
    "name": "ipython",
    "version": 3
   },
   "file_extension": ".py",
   "mimetype": "text/x-python",
   "name": "python",
   "nbconvert_exporter": "python",
   "pygments_lexer": "ipython3",
   "version": "3.8.13"
  },
  "toc": {
   "base_numbering": 1,
   "nav_menu": {},
   "number_sections": false,
   "sideBar": true,
   "skip_h1_title": false,
   "title_cell": "Table of Contents",
   "title_sidebar": "Contents",
   "toc_cell": false,
   "toc_position": {},
   "toc_section_display": true,
   "toc_window_display": true
  }
 },
 "nbformat": 4,
 "nbformat_minor": 2
}
